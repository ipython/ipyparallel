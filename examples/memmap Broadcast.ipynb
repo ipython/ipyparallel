{
 "cells": [
  {
   "cell_type": "markdown",
   "metadata": {},
   "source": [
    "# More efficient broadcast of arrays with memmap"
   ]
  },
  {
   "cell_type": "markdown",
   "metadata": {},
   "source": [
    "Data movement is where IPython's naïve model suffers the most.\n",
    "But knowing about your cluster lets you make smarter decisions about data movement than a simple `rc[:].push`."
   ]
  },
  {
   "cell_type": "code",
   "execution_count": 1,
   "metadata": {
    "collapsed": false,
    "jupyter": {
     "outputs_hidden": false
    }
   },
   "outputs": [],
   "source": [
    "import socket\n",
    "import os, sys, re\n",
    "\n",
    "import numpy as np\n",
    "\n",
    "import ipyparallel as ipp"
   ]
  },
  {
   "cell_type": "code",
   "execution_count": 2,
   "metadata": {
    "collapsed": false,
    "jupyter": {
     "outputs_hidden": false
    }
   },
   "outputs": [],
   "source": [
    "#rc = parallel.Client(profile='dirac')\n",
    "rc = ipp.Client()\n",
    "eall = rc[:]"
   ]
  },
  {
   "cell_type": "code",
   "execution_count": 3,
   "metadata": {
    "collapsed": false,
    "jupyter": {
     "outputs_hidden": false
    }
   },
   "outputs": [
    {
     "data": {
      "text/plain": [
       "{0: 'touchy',\n",
       " 1: 'touchy',\n",
       " 2: 'touchy',\n",
       " 3: 'touchy',\n",
       " 4: 'touchy',\n",
       " 5: 'touchy',\n",
       " 6: 'touchy',\n",
       " 7: 'touchy',\n",
       " 8: 'touchy',\n",
       " 9: 'touchy',\n",
       " 10: 'touchy',\n",
       " 11: 'touchy',\n",
       " 12: 'touchy',\n",
       " 13: 'touchy',\n",
       " 14: 'touchy',\n",
       " 15: 'touchy'}"
      ]
     },
     "execution_count": 3,
     "metadata": {},
     "output_type": "execute_result"
    }
   ],
   "source": [
    "engine_hosts = eall.apply_async(socket.gethostname).get_dict()\n",
    "engine_hosts"
   ]
  },
  {
   "cell_type": "code",
   "execution_count": 4,
   "metadata": {
    "collapsed": false,
    "jupyter": {
     "outputs_hidden": false
    }
   },
   "outputs": [
    {
     "data": {
      "text/plain": [
       "{'touchy': [0, 1, 2, 3, 4, 5, 6, 7, 8, 9, 10, 11, 12, 13, 14, 15]}"
      ]
     },
     "execution_count": 4,
     "metadata": {},
     "output_type": "execute_result"
    }
   ],
   "source": [
    "host_engines = {}\n",
    "\n",
    "for eid, host in engine_hosts.items():\n",
    "    if host not in host_engines:\n",
    "        host_engines[host] = []\n",
    "    host_engines[host].append(eid)\n",
    "\n",
    "host_engines"
   ]
  },
  {
   "cell_type": "code",
   "execution_count": 5,
   "metadata": {
    "collapsed": false,
    "jupyter": {
     "outputs_hidden": false
    }
   },
   "outputs": [],
   "source": [
    "sz = 1024\n",
    "data = np.random.random((sz,sz))\n",
    "data = data.dot(data.T)"
   ]
  },
  {
   "cell_type": "code",
   "execution_count": 6,
   "metadata": {
    "collapsed": false,
    "jupyter": {
     "outputs_hidden": false
    }
   },
   "outputs": [
    {
     "name": "stdout",
     "output_type": "stream",
     "text": [
      "CPU times: user 43.3 ms, sys: 10.5 ms, total: 53.8 ms\n",
      "Wall time: 220 ms\n"
     ]
    }
   ],
   "source": [
    "%time _ = rc[:].apply_sync(lambda : None)"
   ]
  },
  {
   "cell_type": "code",
   "execution_count": 7,
   "metadata": {
    "collapsed": false,
    "jupyter": {
     "outputs_hidden": false
    }
   },
   "outputs": [
    {
     "name": "stderr",
     "output_type": "stream",
     "text": [
      "_push: 100%|███████████████████████████████████████████████████████████████████████████████████████████████████████████████████████████████████████████████████████████████████████████████████████████████████████████████████████████████████████████████████████████████████████████████████████████████████████████████████████████████████████████████████████████████████████████| 16/16 [00:00<00:00, 23.14tasks/s]"
     ]
    },
    {
     "name": "stdout",
     "output_type": "stream",
     "text": [
      "CPU times: user 131 ms, sys: 135 ms, total: 266 ms\n",
      "Wall time: 872 ms\n"
     ]
    },
    {
     "name": "stderr",
     "output_type": "stream",
     "text": [
      "\n"
     ]
    }
   ],
   "source": [
    "%%time\n",
    "ar = rc[:].push({'data': data}, block=False)\n",
    "ar.wait_interactive()"
   ]
  },
  {
   "cell_type": "code",
   "execution_count": 8,
   "metadata": {
    "collapsed": false,
    "jupyter": {
     "outputs_hidden": false
    }
   },
   "outputs": [],
   "source": [
    "%px import numpy as np"
   ]
  },
  {
   "cell_type": "code",
   "execution_count": 9,
   "metadata": {
    "collapsed": false,
    "jupyter": {
     "outputs_hidden": false
    }
   },
   "outputs": [],
   "source": [
    "def array_to_file(A):\n",
    "    \"\"\"write an array to a temporary file, return its filename\"\"\"\n",
    "    import tempfile\n",
    "    with tempfile.NamedTemporaryFile(suffix='.np', delete=False) as tf:\n",
    "        np.save(tf, A)\n",
    "        data_path = tf.name\n",
    "    return data_path"
   ]
  },
  {
   "cell_type": "code",
   "execution_count": 10,
   "metadata": {
    "collapsed": false,
    "jupyter": {
     "outputs_hidden": false
    }
   },
   "outputs": [],
   "source": [
    "@ipp.interactive\n",
    "def load_memmap(name, path, mode='r+'):\n",
    "    \"\"\"load a file on disk into the interactive namespace as a memmapped array\"\"\"\n",
    "    globals()[name] = np.memmap(path, mode=mode)"
   ]
  },
  {
   "cell_type": "code",
   "execution_count": 11,
   "metadata": {
    "collapsed": false,
    "jupyter": {
     "outputs_hidden": false
    }
   },
   "outputs": [],
   "source": [
    "def bcast_memmap(data, name, client, host_engines):\n",
    "    \"\"\"broadcast a numpy array efficiently\n",
    "    \n",
    "    - sends data to each remote host only once\n",
    "    - loads with memmap everywhere\n",
    "    \"\"\"\n",
    "\n",
    "    # actually push the data, just once to each machine\n",
    "\n",
    "    local_filename = None\n",
    "    filenames_ars = {}\n",
    "    for host, engines in host_engines.items():\n",
    "        h0 = engines[0]\n",
    "        if host == socket.gethostname():\n",
    "            # Don't push at all to local engines\n",
    "            local_filename = array_to_file(data)\n",
    "        else:\n",
    "            filenames_ars[host] = rc[h0].apply_async(array_to_file, data)\n",
    "\n",
    "    # load the data on all engines into a memmapped array\n",
    "    async_results = []\n",
    "    for host, engines in host_engines.items():\n",
    "        if host == socket.gethostname():\n",
    "            filename = local_filename\n",
    "        else:\n",
    "            filename = filenames_ars[host].get()\n",
    "        ar = rc[engines].apply_async(load_memmap, name, filename)\n",
    "        async_results.append(ar)\n",
    "    \n",
    "    return client.get_result(async_results)"
   ]
  },
  {
   "cell_type": "code",
   "execution_count": 12,
   "metadata": {
    "collapsed": false,
    "jupyter": {
     "outputs_hidden": false
    }
   },
   "outputs": [
    {
     "name": "stderr",
     "output_type": "stream",
     "text": [
      "unknown: 100%|█████████████████████████████████████████████████████████████████████████████████████████████████████████████████████████████████████████████████████████████████████████████████████████████████████████████████████████████████████████████████████████████████████████████████████████████████████████████████████████████████████████████████████████████████████████| 16/16 [00:00<00:00, 93.66tasks/s]"
     ]
    },
    {
     "name": "stdout",
     "output_type": "stream",
     "text": [
      "CPU times: user 66.2 ms, sys: 28.6 ms, total: 94.8 ms\n",
      "Wall time: 268 ms\n"
     ]
    },
    {
     "name": "stderr",
     "output_type": "stream",
     "text": [
      "\n"
     ]
    }
   ],
   "source": [
    "%%time\n",
    "ar = bcast_memmap(data, 'data', rc, host_engines)\n",
    "ar.wait_interactive()"
   ]
  },
  {
   "cell_type": "code",
   "execution_count": 13,
   "metadata": {
    "collapsed": false,
    "jupyter": {
     "outputs_hidden": false
    }
   },
   "outputs": [
    {
     "data": {
      "text/plain": [
       "\u001b[0;31mOut[0:2]: \u001b[0m388468.7182554086"
      ]
     },
     "metadata": {
      "after": [],
      "completed": "2021-06-10T12:46:01.309889",
      "data": {},
      "engine_id": 0,
      "engine_uuid": "a41d2b12-0a0a551476a85c9367767adb",
      "error": null,
      "execute_input": "np.linalg.norm(data, 2)",
      "execute_result": {
       "data": {
        "text/plain": "388468.7182554086"
       },
       "execution_count": 2,
       "metadata": {}
      },
      "follow": [],
      "is_broadcast": false,
      "is_coalescing": false,
      "msg_id": "ccc8e256-34a7da0ad46bb5e6f5cb1d72_81",
      "outputs": [],
      "received": "2021-06-10T12:46:01.315430",
      "started": "2021-06-10T12:46:00.249299",
      "status": "ok",
      "stderr": "",
      "stdout": "",
      "submitted": "2021-06-10T12:46:00.231360"
     },
     "output_type": "display_data"
    },
    {
     "data": {
      "text/plain": [
       "\u001b[0;31mOut[1:2]: \u001b[0m388468.7182554086"
      ]
     },
     "metadata": {
      "after": [],
      "completed": "2021-06-10T12:46:01.293426",
      "data": {},
      "engine_id": 1,
      "engine_uuid": "58404b6d-bbafa5be5baac5f9062eb0c5",
      "error": null,
      "execute_input": "np.linalg.norm(data, 2)",
      "execute_result": {
       "data": {
        "text/plain": "388468.7182554086"
       },
       "execution_count": 2,
       "metadata": {}
      },
      "follow": [],
      "is_broadcast": false,
      "is_coalescing": false,
      "msg_id": "ccc8e256-34a7da0ad46bb5e6f5cb1d72_82",
      "outputs": [],
      "received": "2021-06-10T12:46:01.296187",
      "started": "2021-06-10T12:46:00.261212",
      "status": "ok",
      "stderr": "",
      "stdout": "",
      "submitted": "2021-06-10T12:46:00.231836"
     },
     "output_type": "display_data"
    },
    {
     "data": {
      "text/plain": [
       "\u001b[0;31mOut[2:2]: \u001b[0m388468.7182554086"
      ]
     },
     "metadata": {
      "after": [],
      "completed": "2021-06-10T12:46:01.127181",
      "data": {},
      "engine_id": 2,
      "engine_uuid": "b4f3d923-f894145aea8176faa89d83bf",
      "error": null,
      "execute_input": "np.linalg.norm(data, 2)",
      "execute_result": {
       "data": {
        "text/plain": "388468.7182554086"
       },
       "execution_count": 2,
       "metadata": {}
      },
      "follow": [],
      "is_broadcast": false,
      "is_coalescing": false,
      "msg_id": "ccc8e256-34a7da0ad46bb5e6f5cb1d72_83",
      "outputs": [],
      "received": "2021-06-10T12:46:01.149381",
      "started": "2021-06-10T12:46:00.340250",
      "status": "ok",
      "stderr": "",
      "stdout": "",
      "submitted": "2021-06-10T12:46:00.236373"
     },
     "output_type": "display_data"
    },
    {
     "data": {
      "text/plain": [
       "\u001b[0;31mOut[3:2]: \u001b[0m388468.7182554086"
      ]
     },
     "metadata": {
      "after": [],
      "completed": "2021-06-10T12:46:01.259062",
      "data": {},
      "engine_id": 3,
      "engine_uuid": "f74f0f1d-ec1c22f0bd2b2228c7e0a498",
      "error": null,
      "execute_input": "np.linalg.norm(data, 2)",
      "execute_result": {
       "data": {
        "text/plain": "388468.7182554086"
       },
       "execution_count": 2,
       "metadata": {}
      },
      "follow": [],
      "is_broadcast": false,
      "is_coalescing": false,
      "msg_id": "ccc8e256-34a7da0ad46bb5e6f5cb1d72_84",
      "outputs": [],
      "received": "2021-06-10T12:46:01.263156",
      "started": "2021-06-10T12:46:00.362210",
      "status": "ok",
      "stderr": "",
      "stdout": "",
      "submitted": "2021-06-10T12:46:00.236838"
     },
     "output_type": "display_data"
    },
    {
     "data": {
      "text/plain": [
       "\u001b[0;31mOut[4:2]: \u001b[0m388468.7182554086"
      ]
     },
     "metadata": {
      "after": [],
      "completed": "2021-06-10T12:46:01.110273",
      "data": {},
      "engine_id": 4,
      "engine_uuid": "d5331768-bf3d995121fd97688e9b5072",
      "error": null,
      "execute_input": "np.linalg.norm(data, 2)",
      "execute_result": {
       "data": {
        "text/plain": "388468.7182554086"
       },
       "execution_count": 2,
       "metadata": {}
      },
      "follow": [],
      "is_broadcast": false,
      "is_coalescing": false,
      "msg_id": "ccc8e256-34a7da0ad46bb5e6f5cb1d72_85",
      "outputs": [],
      "received": "2021-06-10T12:46:01.147814",
      "started": "2021-06-10T12:46:00.378013",
      "status": "ok",
      "stderr": "",
      "stdout": "",
      "submitted": "2021-06-10T12:46:00.237123"
     },
     "output_type": "display_data"
    },
    {
     "data": {
      "text/plain": [
       "\u001b[0;31mOut[5:2]: \u001b[0m388468.7182554086"
      ]
     },
     "metadata": {
      "after": [],
      "completed": "2021-06-10T12:46:01.155692",
      "data": {},
      "engine_id": 5,
      "engine_uuid": "b1c4ec07-9eb60c7fc191431b30bee7dc",
      "error": null,
      "execute_input": "np.linalg.norm(data, 2)",
      "execute_result": {
       "data": {
        "text/plain": "388468.7182554086"
       },
       "execution_count": 2,
       "metadata": {}
      },
      "follow": [],
      "is_broadcast": false,
      "is_coalescing": false,
      "msg_id": "ccc8e256-34a7da0ad46bb5e6f5cb1d72_86",
      "outputs": [],
      "received": "2021-06-10T12:46:01.310656",
      "started": "2021-06-10T12:46:00.392843",
      "status": "ok",
      "stderr": "",
      "stdout": "",
      "submitted": "2021-06-10T12:46:00.237343"
     },
     "output_type": "display_data"
    },
    {
     "data": {
      "text/plain": [
       "\u001b[0;31mOut[6:2]: \u001b[0m388468.7182554086"
      ]
     },
     "metadata": {
      "after": [],
      "completed": "2021-06-10T12:46:01.158134",
      "data": {},
      "engine_id": 6,
      "engine_uuid": "e10b8d1a-04f10cc4fa9638bd07a2dc75",
      "error": null,
      "execute_input": "np.linalg.norm(data, 2)",
      "execute_result": {
       "data": {
        "text/plain": "388468.7182554086"
       },
       "execution_count": 2,
       "metadata": {}
      },
      "follow": [],
      "is_broadcast": false,
      "is_coalescing": false,
      "msg_id": "ccc8e256-34a7da0ad46bb5e6f5cb1d72_87",
      "outputs": [],
      "received": "2021-06-10T12:46:01.302358",
      "started": "2021-06-10T12:46:00.406289",
      "status": "ok",
      "stderr": "",
      "stdout": "",
      "submitted": "2021-06-10T12:46:00.237548"
     },
     "output_type": "display_data"
    },
    {
     "data": {
      "text/plain": [
       "\u001b[0;31mOut[7:2]: \u001b[0m388468.7182554086"
      ]
     },
     "metadata": {
      "after": [],
      "completed": "2021-06-10T12:46:01.258364",
      "data": {},
      "engine_id": 7,
      "engine_uuid": "a7bc14fa-03f3cc3b1b1053819b84c9d9",
      "error": null,
      "execute_input": "np.linalg.norm(data, 2)",
      "execute_result": {
       "data": {
        "text/plain": "388468.7182554086"
       },
       "execution_count": 2,
       "metadata": {}
      },
      "follow": [],
      "is_broadcast": false,
      "is_coalescing": false,
      "msg_id": "ccc8e256-34a7da0ad46bb5e6f5cb1d72_88",
      "outputs": [],
      "received": "2021-06-10T12:46:01.264343",
      "started": "2021-06-10T12:46:00.394501",
      "status": "ok",
      "stderr": "",
      "stdout": "",
      "submitted": "2021-06-10T12:46:00.237971"
     },
     "output_type": "display_data"
    },
    {
     "data": {
      "text/plain": [
       "\u001b[0;31mOut[8:2]: \u001b[0m388468.7182554086"
      ]
     },
     "metadata": {
      "after": [],
      "completed": "2021-06-10T12:46:01.332413",
      "data": {},
      "engine_id": 8,
      "engine_uuid": "b0843247-629957c1d3d387f71fad5ad9",
      "error": null,
      "execute_input": "np.linalg.norm(data, 2)",
      "execute_result": {
       "data": {
        "text/plain": "388468.7182554086"
       },
       "execution_count": 2,
       "metadata": {}
      },
      "follow": [],
      "is_broadcast": false,
      "is_coalescing": false,
      "msg_id": "ccc8e256-34a7da0ad46bb5e6f5cb1d72_89",
      "outputs": [],
      "received": "2021-06-10T12:46:01.335490",
      "started": "2021-06-10T12:46:00.403230",
      "status": "ok",
      "stderr": "",
      "stdout": "",
      "submitted": "2021-06-10T12:46:00.238178"
     },
     "output_type": "display_data"
    },
    {
     "data": {
      "text/plain": [
       "\u001b[0;31mOut[9:2]: \u001b[0m388468.7182554086"
      ]
     },
     "metadata": {
      "after": [],
      "completed": "2021-06-10T12:46:01.200420",
      "data": {},
      "engine_id": 9,
      "engine_uuid": "a082df04-e58cf724ced5a26e40386d82",
      "error": null,
      "execute_input": "np.linalg.norm(data, 2)",
      "execute_result": {
       "data": {
        "text/plain": "388468.7182554086"
       },
       "execution_count": 2,
       "metadata": {}
      },
      "follow": [],
      "is_broadcast": false,
      "is_coalescing": false,
      "msg_id": "ccc8e256-34a7da0ad46bb5e6f5cb1d72_90",
      "outputs": [],
      "received": "2021-06-10T12:46:01.209960",
      "started": "2021-06-10T12:46:00.425911",
      "status": "ok",
      "stderr": "",
      "stdout": "",
      "submitted": "2021-06-10T12:46:00.238351"
     },
     "output_type": "display_data"
    },
    {
     "data": {
      "text/plain": [
       "\u001b[0;31mOut[10:2]: \u001b[0m388468.7182554086"
      ]
     },
     "metadata": {
      "after": [],
      "completed": "2021-06-10T12:46:01.272362",
      "data": {},
      "engine_id": 10,
      "engine_uuid": "28a75ed4-198d32008df5fce47fc18e51",
      "error": null,
      "execute_input": "np.linalg.norm(data, 2)",
      "execute_result": {
       "data": {
        "text/plain": "388468.7182554086"
       },
       "execution_count": 2,
       "metadata": {}
      },
      "follow": [],
      "is_broadcast": false,
      "is_coalescing": false,
      "msg_id": "ccc8e256-34a7da0ad46bb5e6f5cb1d72_91",
      "outputs": [],
      "received": "2021-06-10T12:46:01.280097",
      "started": "2021-06-10T12:46:00.428722",
      "status": "ok",
      "stderr": "",
      "stdout": "",
      "submitted": "2021-06-10T12:46:00.238524"
     },
     "output_type": "display_data"
    },
    {
     "data": {
      "text/plain": [
       "\u001b[0;31mOut[11:2]: \u001b[0m388468.7182554086"
      ]
     },
     "metadata": {
      "after": [],
      "completed": "2021-06-10T12:46:01.346507",
      "data": {},
      "engine_id": 11,
      "engine_uuid": "8d4649fe-1be951cd04349e0fcabaf152",
      "error": null,
      "execute_input": "np.linalg.norm(data, 2)",
      "execute_result": {
       "data": {
        "text/plain": "388468.7182554086"
       },
       "execution_count": 2,
       "metadata": {}
      },
      "follow": [],
      "is_broadcast": false,
      "is_coalescing": false,
      "msg_id": "ccc8e256-34a7da0ad46bb5e6f5cb1d72_92",
      "outputs": [],
      "received": "2021-06-10T12:46:01.350462",
      "started": "2021-06-10T12:46:00.407290",
      "status": "ok",
      "stderr": "",
      "stdout": "",
      "submitted": "2021-06-10T12:46:00.238691"
     },
     "output_type": "display_data"
    },
    {
     "data": {
      "text/plain": [
       "\u001b[0;31mOut[12:2]: \u001b[0m388468.7182554086"
      ]
     },
     "metadata": {
      "after": [],
      "completed": "2021-06-10T12:46:01.300511",
      "data": {},
      "engine_id": 12,
      "engine_uuid": "329926a9-bd4485c15a6379520ecff95b",
      "error": null,
      "execute_input": "np.linalg.norm(data, 2)",
      "execute_result": {
       "data": {
        "text/plain": "388468.7182554086"
       },
       "execution_count": 2,
       "metadata": {}
      },
      "follow": [],
      "is_broadcast": false,
      "is_coalescing": false,
      "msg_id": "ccc8e256-34a7da0ad46bb5e6f5cb1d72_93",
      "outputs": [],
      "received": "2021-06-10T12:46:01.304397",
      "started": "2021-06-10T12:46:00.425586",
      "status": "ok",
      "stderr": "",
      "stdout": "",
      "submitted": "2021-06-10T12:46:00.238847"
     },
     "output_type": "display_data"
    },
    {
     "data": {
      "text/plain": [
       "\u001b[0;31mOut[13:2]: \u001b[0m388468.7182554086"
      ]
     },
     "metadata": {
      "after": [],
      "completed": "2021-06-10T12:46:01.318871",
      "data": {},
      "engine_id": 13,
      "engine_uuid": "fd919a0c-84cc6b5dd7eb9ab3b273c140",
      "error": null,
      "execute_input": "np.linalg.norm(data, 2)",
      "execute_result": {
       "data": {
        "text/plain": "388468.7182554086"
       },
       "execution_count": 2,
       "metadata": {}
      },
      "follow": [],
      "is_broadcast": false,
      "is_coalescing": false,
      "msg_id": "ccc8e256-34a7da0ad46bb5e6f5cb1d72_94",
      "outputs": [],
      "received": "2021-06-10T12:46:01.322374",
      "started": "2021-06-10T12:46:00.426627",
      "status": "ok",
      "stderr": "",
      "stdout": "",
      "submitted": "2021-06-10T12:46:00.239114"
     },
     "output_type": "display_data"
    },
    {
     "data": {
      "text/plain": [
       "\u001b[0;31mOut[14:2]: \u001b[0m388468.7182554086"
      ]
     },
     "metadata": {
      "after": [],
      "completed": "2021-06-10T12:46:01.150223",
      "data": {},
      "engine_id": 14,
      "engine_uuid": "544d1ade-c779b7758296b0309fa36995",
      "error": null,
      "execute_input": "np.linalg.norm(data, 2)",
      "execute_result": {
       "data": {
        "text/plain": "388468.7182554086"
       },
       "execution_count": 2,
       "metadata": {}
      },
      "follow": [],
      "is_broadcast": false,
      "is_coalescing": false,
      "msg_id": "ccc8e256-34a7da0ad46bb5e6f5cb1d72_95",
      "outputs": [],
      "received": "2021-06-10T12:46:01.155982",
      "started": "2021-06-10T12:46:00.439871",
      "status": "ok",
      "stderr": "",
      "stdout": "",
      "submitted": "2021-06-10T12:46:00.239281"
     },
     "output_type": "display_data"
    },
    {
     "data": {
      "text/plain": [
       "\u001b[0;31mOut[15:2]: \u001b[0m388468.7182554086"
      ]
     },
     "metadata": {
      "after": [],
      "completed": "2021-06-10T12:46:01.110250",
      "data": {},
      "engine_id": 15,
      "engine_uuid": "3eeea0e2-8263e3df77b6567c987b4e41",
      "error": null,
      "execute_input": "np.linalg.norm(data, 2)",
      "execute_result": {
       "data": {
        "text/plain": "388468.7182554086"
       },
       "execution_count": 2,
       "metadata": {}
      },
      "follow": [],
      "is_broadcast": false,
      "is_coalescing": false,
      "msg_id": "ccc8e256-34a7da0ad46bb5e6f5cb1d72_96",
      "outputs": [],
      "received": "2021-06-10T12:46:01.146840",
      "started": "2021-06-10T12:46:00.444697",
      "status": "ok",
      "stderr": "",
      "stdout": "",
      "submitted": "2021-06-10T12:46:00.239445"
     },
     "output_type": "display_data"
    }
   ],
   "source": [
    "%px np.linalg.norm(data, 2)"
   ]
  },
  {
   "cell_type": "markdown",
   "metadata": {},
   "source": [
    "You can also do the same thing [with MPI](MPI%20Broadcast.ipynb)."
   ]
  }
 ],
 "metadata": {
  "kernelspec": {
   "display_name": "Python 3 (ipykernel)",
   "language": "python",
   "name": "python3"
  },
  "language_info": {
   "codemirror_mode": {
    "name": "ipython",
    "version": 3
   },
   "file_extension": ".py",
   "mimetype": "text/x-python",
   "name": "python",
   "nbconvert_exporter": "python",
   "pygments_lexer": "ipython3",
   "version": "3.8.8"
  },
  "widgets": {
   "application/vnd.jupyter.widget-state+json": {
    "state": {},
    "version_major": 2,
    "version_minor": 0
   }
  }
 },
 "nbformat": 4,
 "nbformat_minor": 4
}
