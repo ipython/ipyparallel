{
 "cells": [
  {
   "cell_type": "markdown",
   "metadata": {},
   "source": [
    "# More efficient broadcast of arrays with memmap"
   ]
  },
  {
   "cell_type": "markdown",
   "metadata": {},
   "source": [
    "Data movement is where IPython's naïve model suffers the most.\n",
    "But knowing about your cluster lets you make smarter decisions about data movement than a simple `rc[:].push`."
   ]
  },
  {
   "cell_type": "code",
   "execution_count": 1,
   "metadata": {
    "collapsed": false,
    "jupyter": {
     "outputs_hidden": false
    }
   },
   "outputs": [],
   "source": [
    "import socket\n",
    "import os, sys, re\n",
    "\n",
    "import numpy as np\n",
    "\n",
    "import ipyparallel as ipp"
   ]
  },
  {
   "cell_type": "code",
   "execution_count": 2,
   "metadata": {
    "collapsed": false,
    "jupyter": {
     "outputs_hidden": false
    }
   },
   "outputs": [],
   "source": [
    "rc = ipp.Client()\n",
    "eall = rc.broadcast_view(coalescing=True)"
   ]
  },
  {
   "cell_type": "code",
   "execution_count": 3,
   "metadata": {
    "collapsed": false,
    "jupyter": {
     "outputs_hidden": false
    }
   },
   "outputs": [
    {
     "data": {
      "text/plain": [
       "{0: 'cb13718df49d',\n",
       " 1: 'cb13718df49d',\n",
       " 2: 'cb13718df49d',\n",
       " 3: 'cb13718df49d',\n",
       " 4: 'e1faf94f9ba2',\n",
       " 5: 'cb13718df49d',\n",
       " 6: 'cb13718df49d',\n",
       " 7: 'cb13718df49d',\n",
       " 8: 'cb13718df49d',\n",
       " 9: 'cb13718df49d',\n",
       " 10: '6c9ca90ca5d9',\n",
       " 11: 'cb13718df49d',\n",
       " 12: 'c2bcf9a92235',\n",
       " 13: 'cb13718df49d',\n",
       " 14: 'e1faf94f9ba2',\n",
       " 15: 'c2bcf9a92235',\n",
       " 16: 'cb13718df49d',\n",
       " 17: 'e1faf94f9ba2',\n",
       " 18: '6c9ca90ca5d9',\n",
       " 19: 'e1faf94f9ba2',\n",
       " 20: 'cb13718df49d',\n",
       " 21: 'cb13718df49d',\n",
       " 22: 'e1faf94f9ba2',\n",
       " 23: 'c2bcf9a92235',\n",
       " 24: 'c2bcf9a92235',\n",
       " 25: 'cb13718df49d',\n",
       " 26: 'c2bcf9a92235',\n",
       " 27: 'e1faf94f9ba2',\n",
       " 28: '6c9ca90ca5d9',\n",
       " 29: '6c9ca90ca5d9',\n",
       " 30: 'e1faf94f9ba2',\n",
       " 31: 'cb13718df49d',\n",
       " 32: 'e1faf94f9ba2',\n",
       " 33: '6c9ca90ca5d9',\n",
       " 34: '6c9ca90ca5d9',\n",
       " 35: '6c9ca90ca5d9',\n",
       " 36: 'e1faf94f9ba2',\n",
       " 37: 'e1faf94f9ba2',\n",
       " 38: 'c2bcf9a92235',\n",
       " 39: 'c2bcf9a92235',\n",
       " 40: 'e1faf94f9ba2',\n",
       " 41: 'c2bcf9a92235',\n",
       " 42: '6c9ca90ca5d9',\n",
       " 43: 'c2bcf9a92235',\n",
       " 44: 'c2bcf9a92235',\n",
       " 45: 'c2bcf9a92235',\n",
       " 46: 'e1faf94f9ba2',\n",
       " 47: 'e1faf94f9ba2',\n",
       " 48: '6c9ca90ca5d9',\n",
       " 49: 'e1faf94f9ba2',\n",
       " 50: '6c9ca90ca5d9',\n",
       " 51: 'c2bcf9a92235',\n",
       " 52: 'c2bcf9a92235',\n",
       " 53: 'e1faf94f9ba2',\n",
       " 54: '6c9ca90ca5d9',\n",
       " 55: 'c2bcf9a92235',\n",
       " 56: '6c9ca90ca5d9',\n",
       " 57: '6c9ca90ca5d9',\n",
       " 58: 'e1faf94f9ba2',\n",
       " 59: '6c9ca90ca5d9',\n",
       " 60: '6c9ca90ca5d9',\n",
       " 61: 'c2bcf9a92235',\n",
       " 62: '6c9ca90ca5d9',\n",
       " 63: 'c2bcf9a92235'}"
      ]
     },
     "execution_count": 3,
     "metadata": {},
     "output_type": "execute_result"
    }
   ],
   "source": [
    "engine_hosts = eall.apply_async(socket.gethostname).get_dict()\n",
    "engine_hosts"
   ]
  },
  {
   "cell_type": "code",
   "execution_count": 4,
   "metadata": {
    "collapsed": false,
    "jupyter": {
     "outputs_hidden": false
    }
   },
   "outputs": [
    {
     "data": {
      "text/plain": [
       "{'cb13718df49d': [0, 1, 2, 3, 5, 6, 7, 8, 9, 11, 13, 16, 20, 21, 25, 31],\n",
       " 'e1faf94f9ba2': [4,\n",
       "  14,\n",
       "  17,\n",
       "  19,\n",
       "  22,\n",
       "  27,\n",
       "  30,\n",
       "  32,\n",
       "  36,\n",
       "  37,\n",
       "  40,\n",
       "  46,\n",
       "  47,\n",
       "  49,\n",
       "  53,\n",
       "  58],\n",
       " '6c9ca90ca5d9': [10,\n",
       "  18,\n",
       "  28,\n",
       "  29,\n",
       "  33,\n",
       "  34,\n",
       "  35,\n",
       "  42,\n",
       "  48,\n",
       "  50,\n",
       "  54,\n",
       "  56,\n",
       "  57,\n",
       "  59,\n",
       "  60,\n",
       "  62],\n",
       " 'c2bcf9a92235': [12,\n",
       "  15,\n",
       "  23,\n",
       "  24,\n",
       "  26,\n",
       "  38,\n",
       "  39,\n",
       "  41,\n",
       "  43,\n",
       "  44,\n",
       "  45,\n",
       "  51,\n",
       "  52,\n",
       "  55,\n",
       "  61,\n",
       "  63]}"
      ]
     },
     "execution_count": 4,
     "metadata": {},
     "output_type": "execute_result"
    }
   ],
   "source": [
    "host_engines = {}\n",
    "\n",
    "for eid, host in engine_hosts.items():\n",
    "    if host not in host_engines:\n",
    "        host_engines[host] = []\n",
    "    host_engines[host].append(eid)\n",
    "\n",
    "host_engines"
   ]
  },
  {
   "cell_type": "code",
   "execution_count": 7,
   "metadata": {
    "collapsed": false,
    "jupyter": {
     "outputs_hidden": false
    }
   },
   "outputs": [
    {
     "name": "stdout",
     "output_type": "stream",
     "text": [
      "CPU times: user 140 ms, sys: 4.23 ms, total: 144 ms\n",
      "Wall time: 413 ms\n"
     ]
    }
   ],
   "source": [
    "%time _ = eall.apply_sync(lambda : None)"
   ]
  },
  {
   "cell_type": "code",
   "execution_count": 8,
   "metadata": {},
   "outputs": [],
   "source": [
    "import numpy as np\n",
    "data = np.random.random((512, 512))"
   ]
  },
  {
   "cell_type": "code",
   "execution_count": 30,
   "metadata": {
    "collapsed": false,
    "jupyter": {
     "outputs_hidden": false
    }
   },
   "outputs": [
    {
     "name": "stderr",
     "output_type": "stream",
     "text": [
      "_push:  98%|█████████▊| 63/64 [00:02<00:00, 23.82tasks/s]"
     ]
    },
    {
     "name": "stdout",
     "output_type": "stream",
     "text": [
      "CPU times: user 679 ms, sys: 429 ms, total: 1.11 s\n",
      "Wall time: 2.97 s\n"
     ]
    },
    {
     "name": "stderr",
     "output_type": "stream",
     "text": [
      "\n"
     ]
    }
   ],
   "source": [
    "%%time\n",
    "ar = rc[:].push({'data': data}, block=False)\n",
    "ar.wait_interactive()"
   ]
  },
  {
   "cell_type": "code",
   "execution_count": 31,
   "metadata": {
    "collapsed": false,
    "jupyter": {
     "outputs_hidden": false
    }
   },
   "outputs": [],
   "source": [
    "%px import numpy as np"
   ]
  },
  {
   "cell_type": "code",
   "execution_count": 32,
   "metadata": {
    "collapsed": false,
    "jupyter": {
     "outputs_hidden": false
    }
   },
   "outputs": [],
   "source": [
    "@ipp.interactive\n",
    "def array_to_file(A, name):\n",
    "    \"\"\"write an array to a temporary file, return its filename\"\"\"\n",
    "    import tempfile\n",
    "    with tempfile.NamedTemporaryFile(suffix='.np', delete=False) as tf:\n",
    "        np.save(tf, A)\n",
    "        data_path = tf.name\n",
    "    if name:\n",
    "        globals()[name] = data_path\n",
    "    return data_path"
   ]
  },
  {
   "cell_type": "code",
   "execution_count": 38,
   "metadata": {
    "collapsed": false,
    "jupyter": {
     "outputs_hidden": false
    }
   },
   "outputs": [],
   "source": [
    "@ipp.interactive\n",
    "def load_memmap(name, path, mode='r+'):\n",
    "    \"\"\"load a file on disk into the interactive namespace as a memmapped array\"\"\"\n",
    "    globals()[name] = np.memmap(path, mode=mode)"
   ]
  },
  {
   "cell_type": "code",
   "execution_count": 41,
   "metadata": {
    "collapsed": false,
    "jupyter": {
     "outputs_hidden": false
    }
   },
   "outputs": [],
   "source": [
    "def bcast_memmap(data, name, client, host_engines):\n",
    "    \"\"\"broadcast a numpy array efficiently\n",
    "    \n",
    "    - sends data to each remote host only once\n",
    "    - loads with memmap everywhere\n",
    "    \"\"\"\n",
    "\n",
    "    # actually push the data, just once to each machine\n",
    "    memmap_path_name = f\"_bcast_array_{name}\"\n",
    "    \n",
    "    one_per_host = rc.broadcast_view([engines[0] for engines in host_engines.values()], coalescing=True)\n",
    "    send_ar = one_per_host.apply_async(array_to_file, data, name=memmap_path_name)\n",
    "    \n",
    "    # load the data on all engines into a memmapped array\n",
    "    async_results = []\n",
    "    e_all = rc.broadcast_view(coalescing=True)\n",
    "    return e_all.apply_async(load_memmap, name, ipp.Reference(memmap_path_name))\n"
   ]
  },
  {
   "cell_type": "code",
   "execution_count": 43,
   "metadata": {
    "collapsed": false,
    "jupyter": {
     "outputs_hidden": false
    }
   },
   "outputs": [
    {
     "name": "stderr",
     "output_type": "stream",
     "text": [
      "load_memmap: 100%|██████████| 64/64 [00:01<00:00, 38.44tasks/s]"
     ]
    },
    {
     "name": "stdout",
     "output_type": "stream",
     "text": [
      "CPU times: user 309 ms, sys: 112 ms, total: 421 ms\n",
      "Wall time: 1.75 s\n"
     ]
    },
    {
     "name": "stderr",
     "output_type": "stream",
     "text": [
      "\n"
     ]
    }
   ],
   "source": [
    "%%time\n",
    "ar = bcast_memmap(data, 'data', rc, host_engines)\n",
    "ar.wait_interactive()"
   ]
  },
  {
   "cell_type": "code",
   "execution_count": 26,
   "metadata": {
    "collapsed": false,
    "jupyter": {
     "outputs_hidden": false
    }
   },
   "outputs": [
    {
     "data": {
      "text/plain": [
       "\u001b[0;31mOut[0:2]: \u001b[0m217739.80811050607"
      ]
     },
     "metadata": {
      "after": [],
      "completed": "2021-06-14T11:55:07.335258",
      "data": {},
      "engine_id": 0,
      "engine_uuid": "83d3020b-13d932ade09633278aad1d36",
      "error": null,
      "execute_input": "np.linalg.norm(data, 2)",
      "execute_result": {
       "data": {
        "text/plain": "217739.80811050607"
       },
       "execution_count": 2,
       "metadata": {}
      },
      "follow": [],
      "is_broadcast": false,
      "is_coalescing": false,
      "msg_id": "b5383061-5bdc53a229ef874f133de31f_142",
      "outputs": [],
      "received": "2021-06-14T11:55:07.449041",
      "started": "2021-06-14T11:55:06.803466",
      "status": "ok",
      "stderr": "",
      "stdout": "",
      "submitted": "2021-06-14T11:55:06.774165"
     },
     "output_type": "display_data"
    },
    {
     "data": {
      "text/plain": [
       "\u001b[0;31mOut[1:2]: \u001b[0m217739.80811050607"
      ]
     },
     "metadata": {
      "after": [],
      "completed": "2021-06-14T11:55:07.350862",
      "data": {},
      "engine_id": 1,
      "engine_uuid": "381cb92b-38e59457e4b2d61319853ee7",
      "error": null,
      "execute_input": "np.linalg.norm(data, 2)",
      "execute_result": {
       "data": {
        "text/plain": "217739.80811050607"
       },
       "execution_count": 2,
       "metadata": {}
      },
      "follow": [],
      "is_broadcast": false,
      "is_coalescing": false,
      "msg_id": "b5383061-5bdc53a229ef874f133de31f_143",
      "outputs": [],
      "received": "2021-06-14T11:55:07.455004",
      "started": "2021-06-14T11:55:06.901185",
      "status": "ok",
      "stderr": "",
      "stdout": "",
      "submitted": "2021-06-14T11:55:06.774666"
     },
     "output_type": "display_data"
    },
    {
     "data": {
      "text/plain": [
       "\u001b[0;31mOut[2:2]: \u001b[0m217739.80811050607"
      ]
     },
     "metadata": {
      "after": [],
      "completed": "2021-06-14T11:55:07.350021",
      "data": {},
      "engine_id": 2,
      "engine_uuid": "6a770e2d-41d3f285defaa69b606f2745",
      "error": null,
      "execute_input": "np.linalg.norm(data, 2)",
      "execute_result": {
       "data": {
        "text/plain": "217739.80811050607"
       },
       "execution_count": 2,
       "metadata": {}
      },
      "follow": [],
      "is_broadcast": false,
      "is_coalescing": false,
      "msg_id": "b5383061-5bdc53a229ef874f133de31f_144",
      "outputs": [],
      "received": "2021-06-14T11:55:07.455764",
      "started": "2021-06-14T11:55:06.910854",
      "status": "ok",
      "stderr": "",
      "stdout": "",
      "submitted": "2021-06-14T11:55:06.775482"
     },
     "output_type": "display_data"
    },
    {
     "data": {
      "text/plain": [
       "\u001b[0;31mOut[3:2]: \u001b[0m217739.80811050607"
      ]
     },
     "metadata": {
      "after": [],
      "completed": "2021-06-14T11:55:07.354651",
      "data": {},
      "engine_id": 3,
      "engine_uuid": "b0795ec3-380fb9a5b0ad12a8d3a297e6",
      "error": null,
      "execute_input": "np.linalg.norm(data, 2)",
      "execute_result": {
       "data": {
        "text/plain": "217739.80811050607"
       },
       "execution_count": 2,
       "metadata": {}
      },
      "follow": [],
      "is_broadcast": false,
      "is_coalescing": false,
      "msg_id": "b5383061-5bdc53a229ef874f133de31f_145",
      "outputs": [],
      "received": "2021-06-14T11:55:07.456523",
      "started": "2021-06-14T11:55:07.126656",
      "status": "ok",
      "stderr": "",
      "stdout": "",
      "submitted": "2021-06-14T11:55:06.775797"
     },
     "output_type": "display_data"
    },
    {
     "data": {
      "text/plain": [
       "\u001b[0;31mOut[4:2]: \u001b[0m217739.80811050607"
      ]
     },
     "metadata": {
      "after": [],
      "completed": "2021-06-14T11:55:07.125813",
      "data": {},
      "engine_id": 4,
      "engine_uuid": "c56d455b-0a2fe1dc6786ddb68c03de08",
      "error": null,
      "execute_input": "np.linalg.norm(data, 2)",
      "execute_result": {
       "data": {
        "text/plain": "217739.80811050607"
       },
       "execution_count": 2,
       "metadata": {}
      },
      "follow": [],
      "is_broadcast": false,
      "is_coalescing": false,
      "msg_id": "b5383061-5bdc53a229ef874f133de31f_146",
      "outputs": [],
      "received": "2021-06-14T11:55:07.435774",
      "started": "2021-06-14T11:55:06.888780",
      "status": "ok",
      "stderr": "",
      "stdout": "",
      "submitted": "2021-06-14T11:55:06.776793"
     },
     "output_type": "display_data"
    },
    {
     "data": {
      "text/plain": [
       "\u001b[0;31mOut[5:2]: \u001b[0m217739.80811050607"
      ]
     },
     "metadata": {
      "after": [],
      "completed": "2021-06-14T11:55:07.343343",
      "data": {},
      "engine_id": 5,
      "engine_uuid": "be49a63f-1367d3068ae5fa571d2612f4",
      "error": null,
      "execute_input": "np.linalg.norm(data, 2)",
      "execute_result": {
       "data": {
        "text/plain": "217739.80811050607"
       },
       "execution_count": 2,
       "metadata": {}
      },
      "follow": [],
      "is_broadcast": false,
      "is_coalescing": false,
      "msg_id": "b5383061-5bdc53a229ef874f133de31f_147",
      "outputs": [],
      "received": "2021-06-14T11:55:07.454177",
      "started": "2021-06-14T11:55:06.973703",
      "status": "ok",
      "stderr": "",
      "stdout": "",
      "submitted": "2021-06-14T11:55:06.777223"
     },
     "output_type": "display_data"
    },
    {
     "data": {
      "text/plain": [
       "\u001b[0;31mOut[6:2]: \u001b[0m217739.80811050607"
      ]
     },
     "metadata": {
      "after": [],
      "completed": "2021-06-14T11:55:07.279202",
      "data": {},
      "engine_id": 6,
      "engine_uuid": "c320764a-bc028dc9c5371912f328711a",
      "error": null,
      "execute_input": "np.linalg.norm(data, 2)",
      "execute_result": {
       "data": {
        "text/plain": "217739.80811050607"
       },
       "execution_count": 2,
       "metadata": {}
      },
      "follow": [],
      "is_broadcast": false,
      "is_coalescing": false,
      "msg_id": "b5383061-5bdc53a229ef874f133de31f_148",
      "outputs": [],
      "received": "2021-06-14T11:55:07.444813",
      "started": "2021-06-14T11:55:06.972141",
      "status": "ok",
      "stderr": "",
      "stdout": "",
      "submitted": "2021-06-14T11:55:06.777528"
     },
     "output_type": "display_data"
    },
    {
     "data": {
      "text/plain": [
       "\u001b[0;31mOut[7:2]: \u001b[0m217739.80811050607"
      ]
     },
     "metadata": {
      "after": [],
      "completed": "2021-06-14T11:55:07.368529",
      "data": {},
      "engine_id": 7,
      "engine_uuid": "930fc0fd-196c360ab3c7ce50b9a0e850",
      "error": null,
      "execute_input": "np.linalg.norm(data, 2)",
      "execute_result": {
       "data": {
        "text/plain": "217739.80811050607"
       },
       "execution_count": 2,
       "metadata": {}
      },
      "follow": [],
      "is_broadcast": false,
      "is_coalescing": false,
      "msg_id": "b5383061-5bdc53a229ef874f133de31f_149",
      "outputs": [],
      "received": "2021-06-14T11:55:07.457199",
      "started": "2021-06-14T11:55:07.058861",
      "status": "ok",
      "stderr": "",
      "stdout": "",
      "submitted": "2021-06-14T11:55:06.779126"
     },
     "output_type": "display_data"
    },
    {
     "data": {
      "text/plain": [
       "\u001b[0;31mOut[8:2]: \u001b[0m217739.80811050607"
      ]
     },
     "metadata": {
      "after": [],
      "completed": "2021-06-14T11:55:07.278805",
      "data": {},
      "engine_id": 8,
      "engine_uuid": "3d39e199-d7d70cabe15c56a1282acf32",
      "error": null,
      "execute_input": "np.linalg.norm(data, 2)",
      "execute_result": {
       "data": {
        "text/plain": "217739.80811050607"
       },
       "execution_count": 2,
       "metadata": {}
      },
      "follow": [],
      "is_broadcast": false,
      "is_coalescing": false,
      "msg_id": "b5383061-5bdc53a229ef874f133de31f_150",
      "outputs": [],
      "received": "2021-06-14T11:55:07.446265",
      "started": "2021-06-14T11:55:06.908406",
      "status": "ok",
      "stderr": "",
      "stdout": "",
      "submitted": "2021-06-14T11:55:06.782177"
     },
     "output_type": "display_data"
    },
    {
     "data": {
      "text/plain": [
       "\u001b[0;31mOut[9:2]: \u001b[0m217739.80811050607"
      ]
     },
     "metadata": {
      "after": [],
      "completed": "2021-06-14T11:55:07.312535",
      "data": {},
      "engine_id": 9,
      "engine_uuid": "ddc6351a-aed4ae012dd1fae472dddda9",
      "error": null,
      "execute_input": "np.linalg.norm(data, 2)",
      "execute_result": {
       "data": {
        "text/plain": "217739.80811050607"
       },
       "execution_count": 2,
       "metadata": {}
      },
      "follow": [],
      "is_broadcast": false,
      "is_coalescing": false,
      "msg_id": "b5383061-5bdc53a229ef874f133de31f_151",
      "outputs": [],
      "received": "2021-06-14T11:55:07.447773",
      "started": "2021-06-14T11:55:06.911745",
      "status": "ok",
      "stderr": "",
      "stdout": "",
      "submitted": "2021-06-14T11:55:06.783419"
     },
     "output_type": "display_data"
    },
    {
     "data": {
      "text/plain": [
       "\u001b[0;31mOut[10:2]: \u001b[0m217739.80811050607"
      ]
     },
     "metadata": {
      "after": [],
      "completed": "2021-06-14T11:55:07.078246",
      "data": {},
      "engine_id": 10,
      "engine_uuid": "f17fef5f-2a0695590c15ddb3f42b2b87",
      "error": null,
      "execute_input": "np.linalg.norm(data, 2)",
      "execute_result": {
       "data": {
        "text/plain": "217739.80811050607"
       },
       "execution_count": 2,
       "metadata": {}
      },
      "follow": [],
      "is_broadcast": false,
      "is_coalescing": false,
      "msg_id": "b5383061-5bdc53a229ef874f133de31f_152",
      "outputs": [],
      "received": "2021-06-14T11:55:07.434737",
      "started": "2021-06-14T11:55:06.968773",
      "status": "ok",
      "stderr": "",
      "stdout": "",
      "submitted": "2021-06-14T11:55:06.783789"
     },
     "output_type": "display_data"
    },
    {
     "data": {
      "text/plain": [
       "\u001b[0;31mOut[11:2]: \u001b[0m217739.80811050607"
      ]
     },
     "metadata": {
      "after": [],
      "completed": "2021-06-14T11:55:07.915399",
      "data": {},
      "engine_id": 11,
      "engine_uuid": "1d103898-9ce9aa51d8d715e12a59b78f",
      "error": null,
      "execute_input": "np.linalg.norm(data, 2)",
      "execute_result": {
       "data": {
        "text/plain": "217739.80811050607"
       },
       "execution_count": 2,
       "metadata": {}
      },
      "follow": [],
      "is_broadcast": false,
      "is_coalescing": false,
      "msg_id": "b5383061-5bdc53a229ef874f133de31f_153",
      "outputs": [],
      "received": "2021-06-14T11:55:07.927225",
      "started": "2021-06-14T11:55:07.441468",
      "status": "ok",
      "stderr": "",
      "stdout": "",
      "submitted": "2021-06-14T11:55:06.786311"
     },
     "output_type": "display_data"
    },
    {
     "data": {
      "text/plain": [
       "\u001b[0;31mOut[12:2]: \u001b[0m217739.80811050607"
      ]
     },
     "metadata": {
      "after": [],
      "completed": "2021-06-14T11:55:07.911567",
      "data": {},
      "engine_id": 12,
      "engine_uuid": "1122db19-7462c0cf0d8ffda00e163ec1",
      "error": null,
      "execute_input": "np.linalg.norm(data, 2)",
      "execute_result": {
       "data": {
        "text/plain": "217739.80811050607"
       },
       "execution_count": 2,
       "metadata": {}
      },
      "follow": [],
      "is_broadcast": false,
      "is_coalescing": false,
      "msg_id": "b5383061-5bdc53a229ef874f133de31f_154",
      "outputs": [],
      "received": "2021-06-14T11:55:07.988508",
      "started": "2021-06-14T11:55:07.438394",
      "status": "ok",
      "stderr": "",
      "stdout": "",
      "submitted": "2021-06-14T11:55:06.789786"
     },
     "output_type": "display_data"
    },
    {
     "data": {
      "text/plain": [
       "\u001b[0;31mOut[13:2]: \u001b[0m217739.80811050607"
      ]
     },
     "metadata": {
      "after": [],
      "completed": "2021-06-14T11:55:08.216793",
      "data": {},
      "engine_id": 13,
      "engine_uuid": "614028fe-3d9623213f0caf7a9b834df8",
      "error": null,
      "execute_input": "np.linalg.norm(data, 2)",
      "execute_result": {
       "data": {
        "text/plain": "217739.80811050607"
       },
       "execution_count": 2,
       "metadata": {}
      },
      "follow": [],
      "is_broadcast": false,
      "is_coalescing": false,
      "msg_id": "b5383061-5bdc53a229ef874f133de31f_155",
      "outputs": [],
      "received": "2021-06-14T11:55:08.234187",
      "started": "2021-06-14T11:55:07.452452",
      "status": "ok",
      "stderr": "",
      "stdout": "",
      "submitted": "2021-06-14T11:55:06.792167"
     },
     "output_type": "display_data"
    },
    {
     "data": {
      "text/plain": [
       "\u001b[0;31mOut[14:2]: \u001b[0m217739.80811050607"
      ]
     },
     "metadata": {
      "after": [],
      "completed": "2021-06-14T11:55:08.381739",
      "data": {},
      "engine_id": 14,
      "engine_uuid": "87cb4b79-b150d4f2d29e11e63bf8db30",
      "error": null,
      "execute_input": "np.linalg.norm(data, 2)",
      "execute_result": {
       "data": {
        "text/plain": "217739.80811050607"
       },
       "execution_count": 2,
       "metadata": {}
      },
      "follow": [],
      "is_broadcast": false,
      "is_coalescing": false,
      "msg_id": "b5383061-5bdc53a229ef874f133de31f_156",
      "outputs": [],
      "received": "2021-06-14T11:55:08.410633",
      "started": "2021-06-14T11:55:07.448989",
      "status": "ok",
      "stderr": "",
      "stdout": "",
      "submitted": "2021-06-14T11:55:06.800248"
     },
     "output_type": "display_data"
    },
    {
     "data": {
      "text/plain": [
       "\u001b[0;31mOut[15:2]: \u001b[0m217739.80811050607"
      ]
     },
     "metadata": {
      "after": [],
      "completed": "2021-06-14T11:55:08.057875",
      "data": {},
      "engine_id": 15,
      "engine_uuid": "8dcdd4ea-bb0495668f6023fb0934259b",
      "error": null,
      "execute_input": "np.linalg.norm(data, 2)",
      "execute_result": {
       "data": {
        "text/plain": "217739.80811050607"
       },
       "execution_count": 2,
       "metadata": {}
      },
      "follow": [],
      "is_broadcast": false,
      "is_coalescing": false,
      "msg_id": "b5383061-5bdc53a229ef874f133de31f_157",
      "outputs": [],
      "received": "2021-06-14T11:55:08.069229",
      "started": "2021-06-14T11:55:07.455630",
      "status": "ok",
      "stderr": "",
      "stdout": "",
      "submitted": "2021-06-14T11:55:06.800797"
     },
     "output_type": "display_data"
    },
    {
     "data": {
      "text/plain": [
       "\u001b[0;31mOut[16:2]: \u001b[0m217739.80811050607"
      ]
     },
     "metadata": {
      "after": [],
      "completed": "2021-06-14T11:55:08.098557",
      "data": {},
      "engine_id": 16,
      "engine_uuid": "35b80dc3-b452a4390f6e272f1d2f0a71",
      "error": null,
      "execute_input": "np.linalg.norm(data, 2)",
      "execute_result": {
       "data": {
        "text/plain": "217739.80811050607"
       },
       "execution_count": 2,
       "metadata": {}
      },
      "follow": [],
      "is_broadcast": false,
      "is_coalescing": false,
      "msg_id": "b5383061-5bdc53a229ef874f133de31f_158",
      "outputs": [],
      "received": "2021-06-14T11:55:08.109293",
      "started": "2021-06-14T11:55:07.453501",
      "status": "ok",
      "stderr": "",
      "stdout": "",
      "submitted": "2021-06-14T11:55:06.801608"
     },
     "output_type": "display_data"
    },
    {
     "data": {
      "text/plain": [
       "\u001b[0;31mOut[17:2]: \u001b[0m217739.80811050607"
      ]
     },
     "metadata": {
      "after": [],
      "completed": "2021-06-14T11:55:08.659830",
      "data": {},
      "engine_id": 17,
      "engine_uuid": "2e8adf07-8f8b49f7e4fa71de9a0c66f5",
      "error": null,
      "execute_input": "np.linalg.norm(data, 2)",
      "execute_result": {
       "data": {
        "text/plain": "217739.80811050607"
       },
       "execution_count": 2,
       "metadata": {}
      },
      "follow": [],
      "is_broadcast": false,
      "is_coalescing": false,
      "msg_id": "b5383061-5bdc53a229ef874f133de31f_159",
      "outputs": [],
      "received": "2021-06-14T11:55:08.685616",
      "started": "2021-06-14T11:55:07.462909",
      "status": "ok",
      "stderr": "",
      "stdout": "",
      "submitted": "2021-06-14T11:55:06.802050"
     },
     "output_type": "display_data"
    },
    {
     "data": {
      "text/plain": [
       "\u001b[0;31mOut[18:2]: \u001b[0m217739.80811050607"
      ]
     },
     "metadata": {
      "after": [],
      "completed": "2021-06-14T11:55:08.485562",
      "data": {},
      "engine_id": 18,
      "engine_uuid": "a95fefe6-ffd13d8d9b1039b7aa9855a3",
      "error": null,
      "execute_input": "np.linalg.norm(data, 2)",
      "execute_result": {
       "data": {
        "text/plain": "217739.80811050607"
       },
       "execution_count": 2,
       "metadata": {}
      },
      "follow": [],
      "is_broadcast": false,
      "is_coalescing": false,
      "msg_id": "b5383061-5bdc53a229ef874f133de31f_160",
      "outputs": [],
      "received": "2021-06-14T11:55:08.519053",
      "started": "2021-06-14T11:55:07.464592",
      "status": "ok",
      "stderr": "",
      "stdout": "",
      "submitted": "2021-06-14T11:55:06.802508"
     },
     "output_type": "display_data"
    },
    {
     "data": {
      "text/plain": [
       "\u001b[0;31mOut[19:2]: \u001b[0m217739.80811050607"
      ]
     },
     "metadata": {
      "after": [],
      "completed": "2021-06-14T11:55:08.448442",
      "data": {},
      "engine_id": 19,
      "engine_uuid": "a1e63290-d1d87e63c18d14ed3c868c89",
      "error": null,
      "execute_input": "np.linalg.norm(data, 2)",
      "execute_result": {
       "data": {
        "text/plain": "217739.80811050607"
       },
       "execution_count": 2,
       "metadata": {}
      },
      "follow": [],
      "is_broadcast": false,
      "is_coalescing": false,
      "msg_id": "b5383061-5bdc53a229ef874f133de31f_161",
      "outputs": [],
      "received": "2021-06-14T11:55:08.460669",
      "started": "2021-06-14T11:55:07.468154",
      "status": "ok",
      "stderr": "",
      "stdout": "",
      "submitted": "2021-06-14T11:55:06.803226"
     },
     "output_type": "display_data"
    },
    {
     "data": {
      "text/plain": [
       "\u001b[0;31mOut[20:2]: \u001b[0m217739.80811050607"
      ]
     },
     "metadata": {
      "after": [],
      "completed": "2021-06-14T11:55:07.870582",
      "data": {},
      "engine_id": 20,
      "engine_uuid": "0a24c1c3-4c5960d4a4455c651bb561ab",
      "error": null,
      "execute_input": "np.linalg.norm(data, 2)",
      "execute_result": {
       "data": {
        "text/plain": "217739.80811050607"
       },
       "execution_count": 2,
       "metadata": {}
      },
      "follow": [],
      "is_broadcast": false,
      "is_coalescing": false,
      "msg_id": "b5383061-5bdc53a229ef874f133de31f_162",
      "outputs": [],
      "received": "2021-06-14T11:55:07.895648",
      "started": "2021-06-14T11:55:07.484788",
      "status": "ok",
      "stderr": "",
      "stdout": "",
      "submitted": "2021-06-14T11:55:06.804552"
     },
     "output_type": "display_data"
    },
    {
     "data": {
      "text/plain": [
       "\u001b[0;31mOut[21:2]: \u001b[0m217739.80811050607"
      ]
     },
     "metadata": {
      "after": [],
      "completed": "2021-06-14T11:55:08.106038",
      "data": {},
      "engine_id": 21,
      "engine_uuid": "bd746a6d-8bf2d96aeb66182ba7bc5f83",
      "error": null,
      "execute_input": "np.linalg.norm(data, 2)",
      "execute_result": {
       "data": {
        "text/plain": "217739.80811050607"
       },
       "execution_count": 2,
       "metadata": {}
      },
      "follow": [],
      "is_broadcast": false,
      "is_coalescing": false,
      "msg_id": "b5383061-5bdc53a229ef874f133de31f_163",
      "outputs": [],
      "received": "2021-06-14T11:55:08.123831",
      "started": "2021-06-14T11:55:07.486106",
      "status": "ok",
      "stderr": "",
      "stdout": "",
      "submitted": "2021-06-14T11:55:06.805919"
     },
     "output_type": "display_data"
    },
    {
     "data": {
      "text/plain": [
       "\u001b[0;31mOut[22:2]: \u001b[0m217739.80811050607"
      ]
     },
     "metadata": {
      "after": [],
      "completed": "2021-06-14T11:55:08.641583",
      "data": {},
      "engine_id": 22,
      "engine_uuid": "562d6092-dfa9e961fe88fbacc05288a8",
      "error": null,
      "execute_input": "np.linalg.norm(data, 2)",
      "execute_result": {
       "data": {
        "text/plain": "217739.80811050607"
       },
       "execution_count": 2,
       "metadata": {}
      },
      "follow": [],
      "is_broadcast": false,
      "is_coalescing": false,
      "msg_id": "b5383061-5bdc53a229ef874f133de31f_164",
      "outputs": [],
      "received": "2021-06-14T11:55:08.675219",
      "started": "2021-06-14T11:55:07.467982",
      "status": "ok",
      "stderr": "",
      "stdout": "",
      "submitted": "2021-06-14T11:55:06.806282"
     },
     "output_type": "display_data"
    },
    {
     "data": {
      "text/plain": [
       "\u001b[0;31mOut[23:2]: \u001b[0m217739.80811050607"
      ]
     },
     "metadata": {
      "after": [],
      "completed": "2021-06-14T11:55:08.586976",
      "data": {},
      "engine_id": 23,
      "engine_uuid": "2d3af2d5-e6ec9ba0146282da2a2ac11e",
      "error": null,
      "execute_input": "np.linalg.norm(data, 2)",
      "execute_result": {
       "data": {
        "text/plain": "217739.80811050607"
       },
       "execution_count": 2,
       "metadata": {}
      },
      "follow": [],
      "is_broadcast": false,
      "is_coalescing": false,
      "msg_id": "b5383061-5bdc53a229ef874f133de31f_165",
      "outputs": [],
      "received": "2021-06-14T11:55:08.609344",
      "started": "2021-06-14T11:55:07.489424",
      "status": "ok",
      "stderr": "",
      "stdout": "",
      "submitted": "2021-06-14T11:55:06.848706"
     },
     "output_type": "display_data"
    },
    {
     "data": {
      "text/plain": [
       "\u001b[0;31mOut[24:2]: \u001b[0m217739.80811050607"
      ]
     },
     "metadata": {
      "after": [],
      "completed": "2021-06-14T11:55:08.620035",
      "data": {},
      "engine_id": 24,
      "engine_uuid": "13b9df78-9efd165b0c910cdce1c98238",
      "error": null,
      "execute_input": "np.linalg.norm(data, 2)",
      "execute_result": {
       "data": {
        "text/plain": "217739.80811050607"
       },
       "execution_count": 2,
       "metadata": {}
      },
      "follow": [],
      "is_broadcast": false,
      "is_coalescing": false,
      "msg_id": "b5383061-5bdc53a229ef874f133de31f_166",
      "outputs": [],
      "received": "2021-06-14T11:55:08.652090",
      "started": "2021-06-14T11:55:07.487069",
      "status": "ok",
      "stderr": "",
      "stdout": "",
      "submitted": "2021-06-14T11:55:06.852256"
     },
     "output_type": "display_data"
    },
    {
     "data": {
      "text/plain": [
       "\u001b[0;31mOut[25:2]: \u001b[0m217739.80811050607"
      ]
     },
     "metadata": {
      "after": [],
      "completed": "2021-06-14T11:55:08.105720",
      "data": {},
      "engine_id": 25,
      "engine_uuid": "962cb2a5-9d75d6c92b22bacf141d940e",
      "error": null,
      "execute_input": "np.linalg.norm(data, 2)",
      "execute_result": {
       "data": {
        "text/plain": "217739.80811050607"
       },
       "execution_count": 2,
       "metadata": {}
      },
      "follow": [],
      "is_broadcast": false,
      "is_coalescing": false,
      "msg_id": "b5383061-5bdc53a229ef874f133de31f_167",
      "outputs": [],
      "received": "2021-06-14T11:55:08.128756",
      "started": "2021-06-14T11:55:07.501511",
      "status": "ok",
      "stderr": "",
      "stdout": "",
      "submitted": "2021-06-14T11:55:06.853739"
     },
     "output_type": "display_data"
    },
    {
     "data": {
      "text/plain": [
       "\u001b[0;31mOut[26:2]: \u001b[0m217739.80811050607"
      ]
     },
     "metadata": {
      "after": [],
      "completed": "2021-06-14T11:55:08.557612",
      "data": {},
      "engine_id": 26,
      "engine_uuid": "1bff96f3-54bbbacb297373ede85b55f6",
      "error": null,
      "execute_input": "np.linalg.norm(data, 2)",
      "execute_result": {
       "data": {
        "text/plain": "217739.80811050607"
       },
       "execution_count": 2,
       "metadata": {}
      },
      "follow": [],
      "is_broadcast": false,
      "is_coalescing": false,
      "msg_id": "b5383061-5bdc53a229ef874f133de31f_168",
      "outputs": [],
      "received": "2021-06-14T11:55:08.569508",
      "started": "2021-06-14T11:55:07.538396",
      "status": "ok",
      "stderr": "",
      "stdout": "",
      "submitted": "2021-06-14T11:55:06.854319"
     },
     "output_type": "display_data"
    },
    {
     "data": {
      "text/plain": [
       "\u001b[0;31mOut[27:2]: \u001b[0m217739.80811050607"
      ]
     },
     "metadata": {
      "after": [],
      "completed": "2021-06-14T11:55:08.443662",
      "data": {},
      "engine_id": 27,
      "engine_uuid": "d0c7de9b-cf2ff4cd3f97dae851a4ef73",
      "error": null,
      "execute_input": "np.linalg.norm(data, 2)",
      "execute_result": {
       "data": {
        "text/plain": "217739.80811050607"
       },
       "execution_count": 2,
       "metadata": {}
      },
      "follow": [],
      "is_broadcast": false,
      "is_coalescing": false,
      "msg_id": "b5383061-5bdc53a229ef874f133de31f_169",
      "outputs": [],
      "received": "2021-06-14T11:55:08.472661",
      "started": "2021-06-14T11:55:07.525258",
      "status": "ok",
      "stderr": "",
      "stdout": "",
      "submitted": "2021-06-14T11:55:06.855651"
     },
     "output_type": "display_data"
    },
    {
     "data": {
      "text/plain": [
       "\u001b[0;31mOut[28:2]: \u001b[0m217739.80811050607"
      ]
     },
     "metadata": {
      "after": [],
      "completed": "2021-06-14T11:55:08.537731",
      "data": {},
      "engine_id": 28,
      "engine_uuid": "70e871df-a7f4ab6de2ebf0f70b17ccfc",
      "error": null,
      "execute_input": "np.linalg.norm(data, 2)",
      "execute_result": {
       "data": {
        "text/plain": "217739.80811050607"
       },
       "execution_count": 2,
       "metadata": {}
      },
      "follow": [],
      "is_broadcast": false,
      "is_coalescing": false,
      "msg_id": "b5383061-5bdc53a229ef874f133de31f_170",
      "outputs": [],
      "received": "2021-06-14T11:55:08.540920",
      "started": "2021-06-14T11:55:07.551502",
      "status": "ok",
      "stderr": "",
      "stdout": "",
      "submitted": "2021-06-14T11:55:06.860090"
     },
     "output_type": "display_data"
    },
    {
     "data": {
      "text/plain": [
       "\u001b[0;31mOut[29:2]: \u001b[0m217739.80811050607"
      ]
     },
     "metadata": {
      "after": [],
      "completed": "2021-06-14T11:55:08.614186",
      "data": {},
      "engine_id": 29,
      "engine_uuid": "0b251de3-ac6aefc8ddb93d327eaf7023",
      "error": null,
      "execute_input": "np.linalg.norm(data, 2)",
      "execute_result": {
       "data": {
        "text/plain": "217739.80811050607"
       },
       "execution_count": 2,
       "metadata": {}
      },
      "follow": [],
      "is_broadcast": false,
      "is_coalescing": false,
      "msg_id": "b5383061-5bdc53a229ef874f133de31f_171",
      "outputs": [],
      "received": "2021-06-14T11:55:08.634399",
      "started": "2021-06-14T11:55:07.683103",
      "status": "ok",
      "stderr": "",
      "stdout": "",
      "submitted": "2021-06-14T11:55:06.910057"
     },
     "output_type": "display_data"
    },
    {
     "data": {
      "text/plain": [
       "\u001b[0;31mOut[30:2]: \u001b[0m217739.80811050607"
      ]
     },
     "metadata": {
      "after": [],
      "completed": "2021-06-14T11:55:08.762516",
      "data": {},
      "engine_id": 30,
      "engine_uuid": "9fa05b18-90c4d1f6e5627549d16d17be",
      "error": null,
      "execute_input": "np.linalg.norm(data, 2)",
      "execute_result": {
       "data": {
        "text/plain": "217739.80811050607"
       },
       "execution_count": 2,
       "metadata": {}
      },
      "follow": [],
      "is_broadcast": false,
      "is_coalescing": false,
      "msg_id": "b5383061-5bdc53a229ef874f133de31f_172",
      "outputs": [],
      "received": "2021-06-14T11:55:08.765962",
      "started": "2021-06-14T11:55:07.573501",
      "status": "ok",
      "stderr": "",
      "stdout": "",
      "submitted": "2021-06-14T11:55:06.911059"
     },
     "output_type": "display_data"
    },
    {
     "data": {
      "text/plain": [
       "\u001b[0;31mOut[31:2]: \u001b[0m217739.80811050607"
      ]
     },
     "metadata": {
      "after": [],
      "completed": "2021-06-14T11:55:08.182089",
      "data": {},
      "engine_id": 31,
      "engine_uuid": "466ed70e-9c73906de1b8c71badea500a",
      "error": null,
      "execute_input": "np.linalg.norm(data, 2)",
      "execute_result": {
       "data": {
        "text/plain": "217739.80811050607"
       },
       "execution_count": 2,
       "metadata": {}
      },
      "follow": [],
      "is_broadcast": false,
      "is_coalescing": false,
      "msg_id": "b5383061-5bdc53a229ef874f133de31f_173",
      "outputs": [],
      "received": "2021-06-14T11:55:08.197341",
      "started": "2021-06-14T11:55:07.552774",
      "status": "ok",
      "stderr": "",
      "stdout": "",
      "submitted": "2021-06-14T11:55:06.911785"
     },
     "output_type": "display_data"
    },
    {
     "data": {
      "text/plain": [
       "\u001b[0;31mOut[32:2]: \u001b[0m217739.80811050607"
      ]
     },
     "metadata": {
      "after": [],
      "completed": "2021-06-14T11:55:08.488501",
      "data": {},
      "engine_id": 32,
      "engine_uuid": "4d64057b-c04ec762300f92e90fe19e74",
      "error": null,
      "execute_input": "np.linalg.norm(data, 2)",
      "execute_result": {
       "data": {
        "text/plain": "217739.80811050607"
       },
       "execution_count": 2,
       "metadata": {}
      },
      "follow": [],
      "is_broadcast": false,
      "is_coalescing": false,
      "msg_id": "b5383061-5bdc53a229ef874f133de31f_174",
      "outputs": [],
      "received": "2021-06-14T11:55:08.496425",
      "started": "2021-06-14T11:55:07.613679",
      "status": "ok",
      "stderr": "",
      "stdout": "",
      "submitted": "2021-06-14T11:55:06.912278"
     },
     "output_type": "display_data"
    },
    {
     "data": {
      "text/plain": [
       "\u001b[0;31mOut[33:2]: \u001b[0m217739.80811050607"
      ]
     },
     "metadata": {
      "after": [],
      "completed": "2021-06-14T11:55:08.664862",
      "data": {},
      "engine_id": 33,
      "engine_uuid": "efa5e6c9-4476f7c246766f5a71b2ee27",
      "error": null,
      "execute_input": "np.linalg.norm(data, 2)",
      "execute_result": {
       "data": {
        "text/plain": "217739.80811050607"
       },
       "execution_count": 2,
       "metadata": {}
      },
      "follow": [],
      "is_broadcast": false,
      "is_coalescing": false,
      "msg_id": "b5383061-5bdc53a229ef874f133de31f_175",
      "outputs": [],
      "received": "2021-06-14T11:55:08.669789",
      "started": "2021-06-14T11:55:07.552943",
      "status": "ok",
      "stderr": "",
      "stdout": "",
      "submitted": "2021-06-14T11:55:06.913868"
     },
     "output_type": "display_data"
    },
    {
     "data": {
      "text/plain": [
       "\u001b[0;31mOut[34:2]: \u001b[0m217739.80811050607"
      ]
     },
     "metadata": {
      "after": [],
      "completed": "2021-06-14T11:55:08.695477",
      "data": {},
      "engine_id": 34,
      "engine_uuid": "78d5367f-76cca09a1829389bb90f46de",
      "error": null,
      "execute_input": "np.linalg.norm(data, 2)",
      "execute_result": {
       "data": {
        "text/plain": "217739.80811050607"
       },
       "execution_count": 2,
       "metadata": {}
      },
      "follow": [],
      "is_broadcast": false,
      "is_coalescing": false,
      "msg_id": "b5383061-5bdc53a229ef874f133de31f_176",
      "outputs": [],
      "received": "2021-06-14T11:55:08.700571",
      "started": "2021-06-14T11:55:07.557595",
      "status": "ok",
      "stderr": "",
      "stdout": "",
      "submitted": "2021-06-14T11:55:06.914711"
     },
     "output_type": "display_data"
    },
    {
     "data": {
      "text/plain": [
       "\u001b[0;31mOut[35:2]: \u001b[0m217739.80811050607"
      ]
     },
     "metadata": {
      "after": [],
      "completed": "2021-06-14T11:55:08.648813",
      "data": {},
      "engine_id": 35,
      "engine_uuid": "8718e1d2-26c2bb95e0d9f5b62e8cac1c",
      "error": null,
      "execute_input": "np.linalg.norm(data, 2)",
      "execute_result": {
       "data": {
        "text/plain": "217739.80811050607"
       },
       "execution_count": 2,
       "metadata": {}
      },
      "follow": [],
      "is_broadcast": false,
      "is_coalescing": false,
      "msg_id": "b5383061-5bdc53a229ef874f133de31f_177",
      "outputs": [],
      "received": "2021-06-14T11:55:08.674589",
      "started": "2021-06-14T11:55:07.575684",
      "status": "ok",
      "stderr": "",
      "stdout": "",
      "submitted": "2021-06-14T11:55:06.915204"
     },
     "output_type": "display_data"
    },
    {
     "data": {
      "text/plain": [
       "\u001b[0;31mOut[36:2]: \u001b[0m217739.80811050607"
      ]
     },
     "metadata": {
      "after": [],
      "completed": "2021-06-14T11:55:08.090258",
      "data": {},
      "engine_id": 36,
      "engine_uuid": "03e8f4cf-46d9fb80d0b0520db41123aa",
      "error": null,
      "execute_input": "np.linalg.norm(data, 2)",
      "execute_result": {
       "data": {
        "text/plain": "217739.80811050607"
       },
       "execution_count": 2,
       "metadata": {}
      },
      "follow": [],
      "is_broadcast": false,
      "is_coalescing": false,
      "msg_id": "b5383061-5bdc53a229ef874f133de31f_178",
      "outputs": [],
      "received": "2021-06-14T11:55:08.117618",
      "started": "2021-06-14T11:55:07.568597",
      "status": "ok",
      "stderr": "",
      "stdout": "",
      "submitted": "2021-06-14T11:55:06.915781"
     },
     "output_type": "display_data"
    },
    {
     "data": {
      "text/plain": [
       "\u001b[0;31mOut[37:2]: \u001b[0m217739.80811050607"
      ]
     },
     "metadata": {
      "after": [],
      "completed": "2021-06-14T11:55:08.739976",
      "data": {},
      "engine_id": 37,
      "engine_uuid": "dd1956db-ffbfc3ae240bc2df5223ac98",
      "error": null,
      "execute_input": "np.linalg.norm(data, 2)",
      "execute_result": {
       "data": {
        "text/plain": "217739.80811050607"
       },
       "execution_count": 2,
       "metadata": {}
      },
      "follow": [],
      "is_broadcast": false,
      "is_coalescing": false,
      "msg_id": "b5383061-5bdc53a229ef874f133de31f_179",
      "outputs": [],
      "received": "2021-06-14T11:55:08.748740",
      "started": "2021-06-14T11:55:07.567041",
      "status": "ok",
      "stderr": "",
      "stdout": "",
      "submitted": "2021-06-14T11:55:06.916270"
     },
     "output_type": "display_data"
    },
    {
     "data": {
      "text/plain": [
       "\u001b[0;31mOut[38:2]: \u001b[0m217739.80811050607"
      ]
     },
     "metadata": {
      "after": [],
      "completed": "2021-06-14T11:55:08.708508",
      "data": {},
      "engine_id": 38,
      "engine_uuid": "b93b1bda-955e2be1e71f8abbbd115a68",
      "error": null,
      "execute_input": "np.linalg.norm(data, 2)",
      "execute_result": {
       "data": {
        "text/plain": "217739.80811050607"
       },
       "execution_count": 2,
       "metadata": {}
      },
      "follow": [],
      "is_broadcast": false,
      "is_coalescing": false,
      "msg_id": "b5383061-5bdc53a229ef874f133de31f_180",
      "outputs": [],
      "received": "2021-06-14T11:55:08.713983",
      "started": "2021-06-14T11:55:07.555134",
      "status": "ok",
      "stderr": "",
      "stdout": "",
      "submitted": "2021-06-14T11:55:06.936591"
     },
     "output_type": "display_data"
    },
    {
     "data": {
      "text/plain": [
       "\u001b[0;31mOut[39:2]: \u001b[0m217739.80811050607"
      ]
     },
     "metadata": {
      "after": [],
      "completed": "2021-06-14T11:55:08.637447",
      "data": {},
      "engine_id": 39,
      "engine_uuid": "b1c392ee-0a8ab4825029d5ad4eb5f4be",
      "error": null,
      "execute_input": "np.linalg.norm(data, 2)",
      "execute_result": {
       "data": {
        "text/plain": "217739.80811050607"
       },
       "execution_count": 2,
       "metadata": {}
      },
      "follow": [],
      "is_broadcast": false,
      "is_coalescing": false,
      "msg_id": "b5383061-5bdc53a229ef874f133de31f_181",
      "outputs": [],
      "received": "2021-06-14T11:55:08.659078",
      "started": "2021-06-14T11:55:07.598267",
      "status": "ok",
      "stderr": "",
      "stdout": "",
      "submitted": "2021-06-14T11:55:06.937176"
     },
     "output_type": "display_data"
    },
    {
     "data": {
      "text/plain": [
       "\u001b[0;31mOut[40:2]: \u001b[0m217739.80811050607"
      ]
     },
     "metadata": {
      "after": [],
      "completed": "2021-06-14T11:55:08.739207",
      "data": {},
      "engine_id": 40,
      "engine_uuid": "cf971b40-dd8e48a6e47d186434e7f967",
      "error": null,
      "execute_input": "np.linalg.norm(data, 2)",
      "execute_result": {
       "data": {
        "text/plain": "217739.80811050607"
       },
       "execution_count": 2,
       "metadata": {}
      },
      "follow": [],
      "is_broadcast": false,
      "is_coalescing": false,
      "msg_id": "b5383061-5bdc53a229ef874f133de31f_182",
      "outputs": [],
      "received": "2021-06-14T11:55:08.751270",
      "started": "2021-06-14T11:55:07.568617",
      "status": "ok",
      "stderr": "",
      "stdout": "",
      "submitted": "2021-06-14T11:55:06.937889"
     },
     "output_type": "display_data"
    },
    {
     "data": {
      "text/plain": [
       "\u001b[0;31mOut[41:2]: \u001b[0m217739.80811050607"
      ]
     },
     "metadata": {
      "after": [],
      "completed": "2021-06-14T11:55:08.745168",
      "data": {},
      "engine_id": 41,
      "engine_uuid": "3e6477c4-ae6e19037893738f5b1e8d40",
      "error": null,
      "execute_input": "np.linalg.norm(data, 2)",
      "execute_result": {
       "data": {
        "text/plain": "217739.80811050607"
       },
       "execution_count": 2,
       "metadata": {}
      },
      "follow": [],
      "is_broadcast": false,
      "is_coalescing": false,
      "msg_id": "b5383061-5bdc53a229ef874f133de31f_183",
      "outputs": [],
      "received": "2021-06-14T11:55:08.755623",
      "started": "2021-06-14T11:55:07.605550",
      "status": "ok",
      "stderr": "",
      "stdout": "",
      "submitted": "2021-06-14T11:55:06.938871"
     },
     "output_type": "display_data"
    },
    {
     "data": {
      "text/plain": [
       "\u001b[0;31mOut[42:2]: \u001b[0m217739.80811050607"
      ]
     },
     "metadata": {
      "after": [],
      "completed": "2021-06-14T11:55:08.551916",
      "data": {},
      "engine_id": 42,
      "engine_uuid": "4a422e2d-e398b189e591f7e8311d74c1",
      "error": null,
      "execute_input": "np.linalg.norm(data, 2)",
      "execute_result": {
       "data": {
        "text/plain": "217739.80811050607"
       },
       "execution_count": 2,
       "metadata": {}
      },
      "follow": [],
      "is_broadcast": false,
      "is_coalescing": false,
      "msg_id": "b5383061-5bdc53a229ef874f133de31f_184",
      "outputs": [],
      "received": "2021-06-14T11:55:08.557648",
      "started": "2021-06-14T11:55:07.603330",
      "status": "ok",
      "stderr": "",
      "stdout": "",
      "submitted": "2021-06-14T11:55:06.939583"
     },
     "output_type": "display_data"
    },
    {
     "data": {
      "text/plain": [
       "\u001b[0;31mOut[43:2]: \u001b[0m217739.80811050607"
      ]
     },
     "metadata": {
      "after": [],
      "completed": "2021-06-14T11:55:08.593502",
      "data": {},
      "engine_id": 43,
      "engine_uuid": "a89fb855-84e88d37a141914640c11014",
      "error": null,
      "execute_input": "np.linalg.norm(data, 2)",
      "execute_result": {
       "data": {
        "text/plain": "217739.80811050607"
       },
       "execution_count": 2,
       "metadata": {}
      },
      "follow": [],
      "is_broadcast": false,
      "is_coalescing": false,
      "msg_id": "b5383061-5bdc53a229ef874f133de31f_185",
      "outputs": [],
      "received": "2021-06-14T11:55:08.621025",
      "started": "2021-06-14T11:55:07.608260",
      "status": "ok",
      "stderr": "",
      "stdout": "",
      "submitted": "2021-06-14T11:55:06.940066"
     },
     "output_type": "display_data"
    },
    {
     "data": {
      "text/plain": [
       "\u001b[0;31mOut[44:2]: \u001b[0m217739.80811050607"
      ]
     },
     "metadata": {
      "after": [],
      "completed": "2021-06-14T11:55:08.510341",
      "data": {},
      "engine_id": 44,
      "engine_uuid": "440f47fa-f4f01b56bb0a9e5a1e68392b",
      "error": null,
      "execute_input": "np.linalg.norm(data, 2)",
      "execute_result": {
       "data": {
        "text/plain": "217739.80811050607"
       },
       "execution_count": 2,
       "metadata": {}
      },
      "follow": [],
      "is_broadcast": false,
      "is_coalescing": false,
      "msg_id": "b5383061-5bdc53a229ef874f133de31f_186",
      "outputs": [],
      "received": "2021-06-14T11:55:08.517681",
      "started": "2021-06-14T11:55:07.561991",
      "status": "ok",
      "stderr": "",
      "stdout": "",
      "submitted": "2021-06-14T11:55:06.941221"
     },
     "output_type": "display_data"
    },
    {
     "data": {
      "text/plain": [
       "\u001b[0;31mOut[45:2]: \u001b[0m217739.80811050607"
      ]
     },
     "metadata": {
      "after": [],
      "completed": "2021-06-14T11:55:08.730160",
      "data": {},
      "engine_id": 45,
      "engine_uuid": "b17d58cc-e9360e2987a63f655a29400a",
      "error": null,
      "execute_input": "np.linalg.norm(data, 2)",
      "execute_result": {
       "data": {
        "text/plain": "217739.80811050607"
       },
       "execution_count": 2,
       "metadata": {}
      },
      "follow": [],
      "is_broadcast": false,
      "is_coalescing": false,
      "msg_id": "b5383061-5bdc53a229ef874f133de31f_187",
      "outputs": [],
      "received": "2021-06-14T11:55:08.735516",
      "started": "2021-06-14T11:55:07.587015",
      "status": "ok",
      "stderr": "",
      "stdout": "",
      "submitted": "2021-06-14T11:55:06.941993"
     },
     "output_type": "display_data"
    },
    {
     "data": {
      "text/plain": [
       "\u001b[0;31mOut[46:2]: \u001b[0m217739.80811050607"
      ]
     },
     "metadata": {
      "after": [],
      "completed": "2021-06-14T11:55:08.683693",
      "data": {},
      "engine_id": 46,
      "engine_uuid": "68d0c442-b0a9565e418b363cdbaf464c",
      "error": null,
      "execute_input": "np.linalg.norm(data, 2)",
      "execute_result": {
       "data": {
        "text/plain": "217739.80811050607"
       },
       "execution_count": 2,
       "metadata": {}
      },
      "follow": [],
      "is_broadcast": false,
      "is_coalescing": false,
      "msg_id": "b5383061-5bdc53a229ef874f133de31f_188",
      "outputs": [],
      "received": "2021-06-14T11:55:08.711815",
      "started": "2021-06-14T11:55:07.581987",
      "status": "ok",
      "stderr": "",
      "stdout": "",
      "submitted": "2021-06-14T11:55:06.946718"
     },
     "output_type": "display_data"
    },
    {
     "data": {
      "text/plain": [
       "\u001b[0;31mOut[47:2]: \u001b[0m217739.80811050607"
      ]
     },
     "metadata": {
      "after": [],
      "completed": "2021-06-14T11:55:08.727550",
      "data": {},
      "engine_id": 47,
      "engine_uuid": "af0b191e-7ef80b96146a657cb632eb93",
      "error": null,
      "execute_input": "np.linalg.norm(data, 2)",
      "execute_result": {
       "data": {
        "text/plain": "217739.80811050607"
       },
       "execution_count": 2,
       "metadata": {}
      },
      "follow": [],
      "is_broadcast": false,
      "is_coalescing": false,
      "msg_id": "b5383061-5bdc53a229ef874f133de31f_189",
      "outputs": [],
      "received": "2021-06-14T11:55:08.752914",
      "started": "2021-06-14T11:55:07.596485",
      "status": "ok",
      "stderr": "",
      "stdout": "",
      "submitted": "2021-06-14T11:55:06.954811"
     },
     "output_type": "display_data"
    },
    {
     "data": {
      "text/plain": [
       "\u001b[0;31mOut[48:2]: \u001b[0m217739.80811050607"
      ]
     },
     "metadata": {
      "after": [],
      "completed": "2021-06-14T11:55:08.400973",
      "data": {},
      "engine_id": 48,
      "engine_uuid": "b20f2fbc-250d739dcc4b40bb08a941f6",
      "error": null,
      "execute_input": "np.linalg.norm(data, 2)",
      "execute_result": {
       "data": {
        "text/plain": "217739.80811050607"
       },
       "execution_count": 2,
       "metadata": {}
      },
      "follow": [],
      "is_broadcast": false,
      "is_coalescing": false,
      "msg_id": "b5383061-5bdc53a229ef874f133de31f_190",
      "outputs": [],
      "received": "2021-06-14T11:55:08.419708",
      "started": "2021-06-14T11:55:07.591486",
      "status": "ok",
      "stderr": "",
      "stdout": "",
      "submitted": "2021-06-14T11:55:06.958066"
     },
     "output_type": "display_data"
    },
    {
     "data": {
      "text/plain": [
       "\u001b[0;31mOut[49:2]: \u001b[0m217739.80811050607"
      ]
     },
     "metadata": {
      "after": [],
      "completed": "2021-06-14T11:55:08.099394",
      "data": {},
      "engine_id": 49,
      "engine_uuid": "4877c6e7-bbf93d52f709db6707c92e39",
      "error": null,
      "execute_input": "np.linalg.norm(data, 2)",
      "execute_result": {
       "data": {
        "text/plain": "217739.80811050607"
       },
       "execution_count": 2,
       "metadata": {}
      },
      "follow": [],
      "is_broadcast": false,
      "is_coalescing": false,
      "msg_id": "b5383061-5bdc53a229ef874f133de31f_191",
      "outputs": [],
      "received": "2021-06-14T11:55:08.102653",
      "started": "2021-06-14T11:55:07.563981",
      "status": "ok",
      "stderr": "",
      "stdout": "",
      "submitted": "2021-06-14T11:55:06.961378"
     },
     "output_type": "display_data"
    },
    {
     "data": {
      "text/plain": [
       "\u001b[0;31mOut[50:2]: \u001b[0m217739.80811050607"
      ]
     },
     "metadata": {
      "after": [],
      "completed": "2021-06-14T11:55:08.432571",
      "data": {},
      "engine_id": 50,
      "engine_uuid": "fa4363d1-c312d61e20135a3186955531",
      "error": null,
      "execute_input": "np.linalg.norm(data, 2)",
      "execute_result": {
       "data": {
        "text/plain": "217739.80811050607"
       },
       "execution_count": 2,
       "metadata": {}
      },
      "follow": [],
      "is_broadcast": false,
      "is_coalescing": false,
      "msg_id": "b5383061-5bdc53a229ef874f133de31f_192",
      "outputs": [],
      "received": "2021-06-14T11:55:08.443109",
      "started": "2021-06-14T11:55:07.563748",
      "status": "ok",
      "stderr": "",
      "stdout": "",
      "submitted": "2021-06-14T11:55:06.962890"
     },
     "output_type": "display_data"
    },
    {
     "data": {
      "text/plain": [
       "\u001b[0;31mOut[51:2]: \u001b[0m217739.80811050607"
      ]
     },
     "metadata": {
      "after": [],
      "completed": "2021-06-14T11:55:08.554210",
      "data": {},
      "engine_id": 51,
      "engine_uuid": "c2acd1e4-686f9b193906d621e1ca5588",
      "error": null,
      "execute_input": "np.linalg.norm(data, 2)",
      "execute_result": {
       "data": {
        "text/plain": "217739.80811050607"
       },
       "execution_count": 2,
       "metadata": {}
      },
      "follow": [],
      "is_broadcast": false,
      "is_coalescing": false,
      "msg_id": "b5383061-5bdc53a229ef874f133de31f_193",
      "outputs": [],
      "received": "2021-06-14T11:55:08.563950",
      "started": "2021-06-14T11:55:07.625258",
      "status": "ok",
      "stderr": "",
      "stdout": "",
      "submitted": "2021-06-14T11:55:06.963601"
     },
     "output_type": "display_data"
    },
    {
     "data": {
      "text/plain": [
       "\u001b[0;31mOut[52:2]: \u001b[0m217739.80811050607"
      ]
     },
     "metadata": {
      "after": [],
      "completed": "2021-06-14T11:55:08.707857",
      "data": {},
      "engine_id": 52,
      "engine_uuid": "15fd6d49-bf331488315ab63bfd726c57",
      "error": null,
      "execute_input": "np.linalg.norm(data, 2)",
      "execute_result": {
       "data": {
        "text/plain": "217739.80811050607"
       },
       "execution_count": 2,
       "metadata": {}
      },
      "follow": [],
      "is_broadcast": false,
      "is_coalescing": false,
      "msg_id": "b5383061-5bdc53a229ef874f133de31f_194",
      "outputs": [],
      "received": "2021-06-14T11:55:08.713412",
      "started": "2021-06-14T11:55:07.573465",
      "status": "ok",
      "stderr": "",
      "stdout": "",
      "submitted": "2021-06-14T11:55:06.964049"
     },
     "output_type": "display_data"
    },
    {
     "data": {
      "text/plain": [
       "\u001b[0;31mOut[53:2]: \u001b[0m217739.80811050607"
      ]
     },
     "metadata": {
      "after": [],
      "completed": "2021-06-14T11:55:08.459885",
      "data": {},
      "engine_id": 53,
      "engine_uuid": "b22673b7-a3b10265fd35a216374a848b",
      "error": null,
      "execute_input": "np.linalg.norm(data, 2)",
      "execute_result": {
       "data": {
        "text/plain": "217739.80811050607"
       },
       "execution_count": 2,
       "metadata": {}
      },
      "follow": [],
      "is_broadcast": false,
      "is_coalescing": false,
      "msg_id": "b5383061-5bdc53a229ef874f133de31f_195",
      "outputs": [],
      "received": "2021-06-14T11:55:08.470831",
      "started": "2021-06-14T11:55:07.569259",
      "status": "ok",
      "stderr": "",
      "stdout": "",
      "submitted": "2021-06-14T11:55:07.431274"
     },
     "output_type": "display_data"
    },
    {
     "data": {
      "text/plain": [
       "\u001b[0;31mOut[54:2]: \u001b[0m217739.80811050607"
      ]
     },
     "metadata": {
      "after": [],
      "completed": "2021-06-14T11:55:08.721735",
      "data": {},
      "engine_id": 54,
      "engine_uuid": "26c4f4a4-f1f95b8d46b6517706c0b9c5",
      "error": null,
      "execute_input": "np.linalg.norm(data, 2)",
      "execute_result": {
       "data": {
        "text/plain": "217739.80811050607"
       },
       "execution_count": 2,
       "metadata": {}
      },
      "follow": [],
      "is_broadcast": false,
      "is_coalescing": false,
      "msg_id": "b5383061-5bdc53a229ef874f133de31f_196",
      "outputs": [],
      "received": "2021-06-14T11:55:08.727521",
      "started": "2021-06-14T11:55:07.591060",
      "status": "ok",
      "stderr": "",
      "stdout": "",
      "submitted": "2021-06-14T11:55:07.431558"
     },
     "output_type": "display_data"
    },
    {
     "data": {
      "text/plain": [
       "\u001b[0;31mOut[55:2]: \u001b[0m217739.80811050607"
      ]
     },
     "metadata": {
      "after": [],
      "completed": "2021-06-14T11:55:08.409572",
      "data": {},
      "engine_id": 55,
      "engine_uuid": "399a17dd-8d44ffe99c7d922dafccce27",
      "error": null,
      "execute_input": "np.linalg.norm(data, 2)",
      "execute_result": {
       "data": {
        "text/plain": "217739.80811050607"
       },
       "execution_count": 2,
       "metadata": {}
      },
      "follow": [],
      "is_broadcast": false,
      "is_coalescing": false,
      "msg_id": "b5383061-5bdc53a229ef874f133de31f_197",
      "outputs": [],
      "received": "2021-06-14T11:55:08.451534",
      "started": "2021-06-14T11:55:07.567333",
      "status": "ok",
      "stderr": "",
      "stdout": "",
      "submitted": "2021-06-14T11:55:07.431732"
     },
     "output_type": "display_data"
    },
    {
     "data": {
      "text/plain": [
       "\u001b[0;31mOut[56:2]: \u001b[0m217739.80811050607"
      ]
     },
     "metadata": {
      "after": [],
      "completed": "2021-06-14T11:55:08.601538",
      "data": {},
      "engine_id": 56,
      "engine_uuid": "bb3106a1-aded1193461814a170d4ac41",
      "error": null,
      "execute_input": "np.linalg.norm(data, 2)",
      "execute_result": {
       "data": {
        "text/plain": "217739.80811050607"
       },
       "execution_count": 2,
       "metadata": {}
      },
      "follow": [],
      "is_broadcast": false,
      "is_coalescing": false,
      "msg_id": "b5383061-5bdc53a229ef874f133de31f_198",
      "outputs": [],
      "received": "2021-06-14T11:55:08.604879",
      "started": "2021-06-14T11:55:07.623832",
      "status": "ok",
      "stderr": "",
      "stdout": "",
      "submitted": "2021-06-14T11:55:07.431878"
     },
     "output_type": "display_data"
    },
    {
     "data": {
      "text/plain": [
       "\u001b[0;31mOut[57:2]: \u001b[0m217739.80811050607"
      ]
     },
     "metadata": {
      "after": [],
      "completed": "2021-06-14T11:55:08.518603",
      "data": {},
      "engine_id": 57,
      "engine_uuid": "155c9ca6-5aa3410bc4aee40e6a913534",
      "error": null,
      "execute_input": "np.linalg.norm(data, 2)",
      "execute_result": {
       "data": {
        "text/plain": "217739.80811050607"
       },
       "execution_count": 2,
       "metadata": {}
      },
      "follow": [],
      "is_broadcast": false,
      "is_coalescing": false,
      "msg_id": "b5383061-5bdc53a229ef874f133de31f_199",
      "outputs": [],
      "received": "2021-06-14T11:55:08.524802",
      "started": "2021-06-14T11:55:07.576268",
      "status": "ok",
      "stderr": "",
      "stdout": "",
      "submitted": "2021-06-14T11:55:07.432011"
     },
     "output_type": "display_data"
    },
    {
     "data": {
      "text/plain": [
       "\u001b[0;31mOut[58:2]: \u001b[0m217739.80811050607"
      ]
     },
     "metadata": {
      "after": [],
      "completed": "2021-06-14T11:55:08.637911",
      "data": {},
      "engine_id": 58,
      "engine_uuid": "27e0d7f6-56a44fb4a2a031efec0579c7",
      "error": null,
      "execute_input": "np.linalg.norm(data, 2)",
      "execute_result": {
       "data": {
        "text/plain": "217739.80811050607"
       },
       "execution_count": 2,
       "metadata": {}
      },
      "follow": [],
      "is_broadcast": false,
      "is_coalescing": false,
      "msg_id": "b5383061-5bdc53a229ef874f133de31f_200",
      "outputs": [],
      "received": "2021-06-14T11:55:08.645277",
      "started": "2021-06-14T11:55:07.581490",
      "status": "ok",
      "stderr": "",
      "stdout": "",
      "submitted": "2021-06-14T11:55:07.432158"
     },
     "output_type": "display_data"
    },
    {
     "data": {
      "text/plain": [
       "\u001b[0;31mOut[59:2]: \u001b[0m217739.80811050607"
      ]
     },
     "metadata": {
      "after": [],
      "completed": "2021-06-14T11:55:08.517768",
      "data": {},
      "engine_id": 59,
      "engine_uuid": "7d4feb62-477495328be8d0bbeeea4e81",
      "error": null,
      "execute_input": "np.linalg.norm(data, 2)",
      "execute_result": {
       "data": {
        "text/plain": "217739.80811050607"
       },
       "execution_count": 2,
       "metadata": {}
      },
      "follow": [],
      "is_broadcast": false,
      "is_coalescing": false,
      "msg_id": "b5383061-5bdc53a229ef874f133de31f_201",
      "outputs": [],
      "received": "2021-06-14T11:55:08.525490",
      "started": "2021-06-14T11:55:07.607674",
      "status": "ok",
      "stderr": "",
      "stdout": "",
      "submitted": "2021-06-14T11:55:07.432460"
     },
     "output_type": "display_data"
    },
    {
     "data": {
      "text/plain": [
       "\u001b[0;31mOut[60:2]: \u001b[0m217739.80811050607"
      ]
     },
     "metadata": {
      "after": [],
      "completed": "2021-06-14T11:55:08.731792",
      "data": {},
      "engine_id": 60,
      "engine_uuid": "5fdffe03-578eb294de98e207b4ce3254",
      "error": null,
      "execute_input": "np.linalg.norm(data, 2)",
      "execute_result": {
       "data": {
        "text/plain": "217739.80811050607"
       },
       "execution_count": 2,
       "metadata": {}
      },
      "follow": [],
      "is_broadcast": false,
      "is_coalescing": false,
      "msg_id": "b5383061-5bdc53a229ef874f133de31f_202",
      "outputs": [],
      "received": "2021-06-14T11:55:08.745072",
      "started": "2021-06-14T11:55:07.580136",
      "status": "ok",
      "stderr": "",
      "stdout": "",
      "submitted": "2021-06-14T11:55:07.432607"
     },
     "output_type": "display_data"
    },
    {
     "data": {
      "text/plain": [
       "\u001b[0;31mOut[61:2]: \u001b[0m217739.80811050607"
      ]
     },
     "metadata": {
      "after": [],
      "completed": "2021-06-14T11:55:08.674063",
      "data": {},
      "engine_id": 61,
      "engine_uuid": "c2372743-4487702dbd47e2590883c611",
      "error": null,
      "execute_input": "np.linalg.norm(data, 2)",
      "execute_result": {
       "data": {
        "text/plain": "217739.80811050607"
       },
       "execution_count": 2,
       "metadata": {}
      },
      "follow": [],
      "is_broadcast": false,
      "is_coalescing": false,
      "msg_id": "b5383061-5bdc53a229ef874f133de31f_203",
      "outputs": [],
      "received": "2021-06-14T11:55:08.690412",
      "started": "2021-06-14T11:55:07.573454",
      "status": "ok",
      "stderr": "",
      "stdout": "",
      "submitted": "2021-06-14T11:55:07.432754"
     },
     "output_type": "display_data"
    },
    {
     "data": {
      "text/plain": [
       "\u001b[0;31mOut[62:2]: \u001b[0m217739.80811050607"
      ]
     },
     "metadata": {
      "after": [],
      "completed": "2021-06-14T11:55:08.458071",
      "data": {},
      "engine_id": 62,
      "engine_uuid": "ac5ed923-271263451b556529f629c434",
      "error": null,
      "execute_input": "np.linalg.norm(data, 2)",
      "execute_result": {
       "data": {
        "text/plain": "217739.80811050607"
       },
       "execution_count": 2,
       "metadata": {}
      },
      "follow": [],
      "is_broadcast": false,
      "is_coalescing": false,
      "msg_id": "b5383061-5bdc53a229ef874f133de31f_204",
      "outputs": [],
      "received": "2021-06-14T11:55:08.471919",
      "started": "2021-06-14T11:55:07.660027",
      "status": "ok",
      "stderr": "",
      "stdout": "",
      "submitted": "2021-06-14T11:55:07.432902"
     },
     "output_type": "display_data"
    },
    {
     "data": {
      "text/plain": [
       "\u001b[0;31mOut[63:2]: \u001b[0m217739.80811050607"
      ]
     },
     "metadata": {
      "after": [],
      "completed": "2021-06-14T11:55:08.496475",
      "data": {},
      "engine_id": 63,
      "engine_uuid": "ad62c349-94689904bb0041aaffb46148",
      "error": null,
      "execute_input": "np.linalg.norm(data, 2)",
      "execute_result": {
       "data": {
        "text/plain": "217739.80811050607"
       },
       "execution_count": 2,
       "metadata": {}
      },
      "follow": [],
      "is_broadcast": false,
      "is_coalescing": false,
      "msg_id": "b5383061-5bdc53a229ef874f133de31f_205",
      "outputs": [],
      "received": "2021-06-14T11:55:08.509869",
      "started": "2021-06-14T11:55:07.666097",
      "status": "ok",
      "stderr": "",
      "stdout": "",
      "submitted": "2021-06-14T11:55:07.433042"
     },
     "output_type": "display_data"
    }
   ],
   "source": [
    "%px np.linalg.norm(data, 2)"
   ]
  },
  {
   "cell_type": "markdown",
   "metadata": {},
   "source": [
    "You can also do the same thing [with MPI](MPI%20Broadcast.ipynb)."
   ]
  }
 ],
 "metadata": {
  "kernelspec": {
   "display_name": "Python 3 (ipykernel)",
   "language": "python",
   "name": "python3"
  },
  "language_info": {
   "codemirror_mode": {
    "name": "ipython",
    "version": 3
   },
   "file_extension": ".py",
   "mimetype": "text/x-python",
   "name": "python",
   "nbconvert_exporter": "python",
   "pygments_lexer": "ipython3",
   "version": "3.8.8"
  },
  "widgets": {
   "application/vnd.jupyter.widget-state+json": {
    "state": {},
    "version_major": 2,
    "version_minor": 0
   }
  }
 },
 "nbformat": 4,
 "nbformat_minor": 4
}
