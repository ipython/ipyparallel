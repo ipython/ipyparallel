{
 "cells": [
  {
   "cell_type": "markdown",
   "metadata": {},
   "source": [
    "# More efficient data movement with MPI"
   ]
  },
  {
   "cell_type": "markdown",
   "metadata": {},
   "source": [
    "Just like [we did](memmap.ipynb) manually with memmap,\n",
    "you can move data more efficiently with MPI by sending it to just one engine,\n",
    "and using MPI to broadcast it to the rest of the engines.\n"
   ]
  },
  {
   "cell_type": "code",
   "execution_count": null,
   "metadata": {
    "collapsed": false,
    "jupyter": {
     "outputs_hidden": false
    }
   },
   "outputs": [],
   "source": [
    "import socket\n",
    "import os, sys, re\n",
    "\n",
    "import numpy as np\n",
    "\n",
    "import ipyparallel as ipp"
   ]
  },
  {
   "cell_type": "markdown",
   "metadata": {},
   "source": [
    "For this demo, I will connect to a cluster with engines started with MPI.\n",
    "If you have MPI and mpi4py on your machine, you can start a local cluster with MPI with:\n",
    "\n",
    "    ipcluster start -n 8 --engines=MPI --profile mpi"
   ]
  },
  {
   "cell_type": "code",
   "execution_count": null,
   "metadata": {
    "collapsed": false,
    "jupyter": {
     "outputs_hidden": false
    }
   },
   "outputs": [],
   "source": [
    "mpi_profile = 'mpi'\n",
    "rc = ipp.Client(profile=mpi_profile)\n",
    "eall = rc[:]\n",
    "root = rc[-1]"
   ]
  },
  {
   "cell_type": "code",
   "execution_count": null,
   "metadata": {
    "collapsed": false,
    "jupyter": {
     "outputs_hidden": false
    }
   },
   "outputs": [],
   "source": [
    "%px from mpi4py.MPI import COMM_WORLD as MPI"
   ]
  },
  {
   "cell_type": "code",
   "execution_count": null,
   "metadata": {
    "collapsed": false,
    "jupyter": {
     "outputs_hidden": false
    }
   },
   "outputs": [],
   "source": [
    "mpi_ranks = eall.apply_async(lambda : MPI.Get_rank()).get_dict()\n",
    "root_rank = root.apply_sync(lambda : MPI.Get_rank())\n",
    "mpi_ranks"
   ]
  },
  {
   "cell_type": "code",
   "execution_count": null,
   "metadata": {
    "collapsed": false,
    "jupyter": {
     "outputs_hidden": false
    }
   },
   "outputs": [],
   "source": [
    "sz = 1024\n",
    "data = np.random.random((sz, sz))\n",
    "data = data.dot(data.T)"
   ]
  },
  {
   "cell_type": "code",
   "execution_count": null,
   "metadata": {
    "collapsed": false,
    "jupyter": {
     "outputs_hidden": false
    }
   },
   "outputs": [],
   "source": [
    "%%time \n",
    "ar = eall.push({'data': data}, block=False)\n",
    "ar.wait_interactive()"
   ]
  },
  {
   "cell_type": "code",
   "execution_count": null,
   "metadata": {
    "collapsed": false,
    "jupyter": {
     "outputs_hidden": false
    }
   },
   "outputs": [],
   "source": [
    "@ipp.interactive\n",
    "def _bcast(key, root_rank):\n",
    "    \"\"\"function to run on engines as part of broadcast\"\"\"\n",
    "    g = globals()\n",
    "    obj = g.get(key, None)\n",
    "    obj = MPI.bcast(obj, root_rank)\n",
    "    g[key] = obj\n",
    "\n",
    "def broadcast(key, obj, dv, root, root_rank):\n",
    "    \"\"\"More efficient broadcast by doing push to root,\n",
    "    and MPI broadcast to other engines.\n",
    "    \n",
    "    Still O(N) messages, but all but one message is always small.\n",
    "    \"\"\"\n",
    "    root.push({key : obj}, block=False)\n",
    "    return dv.apply_async(_bcast, key, root_rank)"
   ]
  },
  {
   "cell_type": "code",
   "execution_count": null,
   "metadata": {
    "collapsed": false,
    "jupyter": {
     "outputs_hidden": false
    }
   },
   "outputs": [],
   "source": [
    "%%time\n",
    "ar = broadcast('data', data, eall, root, root_rank)\n",
    "ar.wait_interactive()"
   ]
  },
  {
   "cell_type": "code",
   "execution_count": null,
   "metadata": {
    "collapsed": false,
    "jupyter": {
     "outputs_hidden": false
    }
   },
   "outputs": [],
   "source": [
    "eall.apply_sync(np.linalg.norm, parallel.Reference('data'), 2)"
   ]
  },
  {
   "cell_type": "code",
   "execution_count": null,
   "metadata": {},
   "outputs": [],
   "source": []
  }
 ],
 "metadata": {
  "kernelspec": {
   "display_name": "Python 3 (ipykernel)",
   "language": "python",
   "name": "python3"
  },
  "language_info": {
   "codemirror_mode": {
    "name": "ipython",
    "version": 3
   },
   "file_extension": ".py",
   "mimetype": "text/x-python",
   "name": "python",
   "nbconvert_exporter": "python",
   "pygments_lexer": "ipython3",
   "version": "3.8.8"
  },
  "widgets": {
   "application/vnd.jupyter.widget-state+json": {
    "state": {},
    "version_major": 2,
    "version_minor": 0
   }
  }
 },
 "nbformat": 4,
 "nbformat_minor": 4
}
