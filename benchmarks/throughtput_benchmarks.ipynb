{
 "cells": [
  {
   "cell_type": "code",
   "execution_count": 11,
   "metadata": {},
   "outputs": [],
   "source": [
    "import pickle\n",
    "\n",
    "import altair as alt\n",
    "import pandas as pd\n",
    "from benchmark_result import get_broadcast_source\n",
    "from IPython.display import Markdown, display"
   ]
  },
  {
   "cell_type": "code",
   "execution_count": 13,
   "metadata": {},
   "outputs": [],
   "source": [
    "# benchmark_results = get_benchmark_results()\n",
    "with open('saved_results.pkl', 'rb') as saved_results:\n",
    "    benchmark_results = pickle.load(saved_results)"
   ]
  },
  {
   "cell_type": "markdown",
   "metadata": {},
   "source": [
    "## ipyparallel benchmark results ##"
   ]
  },
  {
   "cell_type": "markdown",
   "metadata": {},
   "source": [
    "# time_broadcast"
   ]
  },
  {
   "cell_type": "markdown",
   "metadata": {},
   "source": [
    "This benchmark comes from benchmarking the runtime of sending and returning different size arrays to different number of engines with the echo function on various scheduler implementations\n"
   ]
  },
  {
   "cell_type": "code",
   "execution_count": 4,
   "metadata": {
    "jupyter": {
     "source_hidden": true
    }
   },
   "outputs": [
    {
     "data": {
      "text/plain": [
       "\u001b[0;31mSignature:\u001b[0m \u001b[0mecho\u001b[0m\u001b[0;34m(\u001b[0m\u001b[0mdelay\u001b[0m\u001b[0;34m=\u001b[0m\u001b[0;36m0\u001b[0m\u001b[0;34m)\u001b[0m\u001b[0;34m\u001b[0m\u001b[0;34m\u001b[0m\u001b[0m\n",
       "\u001b[0;31mDocstring:\u001b[0m <no docstring>\n",
       "\u001b[0;31mSource:\u001b[0m   \n",
       "\u001b[0;32mdef\u001b[0m \u001b[0mecho\u001b[0m\u001b[0;34m(\u001b[0m\u001b[0mdelay\u001b[0m\u001b[0;34m=\u001b[0m\u001b[0;36m0\u001b[0m\u001b[0;34m)\u001b[0m\u001b[0;34m:\u001b[0m\u001b[0;34m\u001b[0m\n",
       "\u001b[0;34m\u001b[0m    \u001b[0;32mdef\u001b[0m \u001b[0minner_echo\u001b[0m\u001b[0;34m(\u001b[0m\u001b[0mx\u001b[0m\u001b[0;34m,\u001b[0m \u001b[0;34m**\u001b[0m\u001b[0mkwargs\u001b[0m\u001b[0;34m)\u001b[0m\u001b[0;34m:\u001b[0m\u001b[0;34m\u001b[0m\n",
       "\u001b[0;34m\u001b[0m        \u001b[0;32mimport\u001b[0m \u001b[0mtime\u001b[0m\u001b[0;34m\u001b[0m\n",
       "\u001b[0;34m\u001b[0m\u001b[0;34m\u001b[0m\n",
       "\u001b[0;34m\u001b[0m        \u001b[0;32mif\u001b[0m \u001b[0mdelay\u001b[0m\u001b[0;34m:\u001b[0m\u001b[0;34m\u001b[0m\n",
       "\u001b[0;34m\u001b[0m            \u001b[0mtime\u001b[0m\u001b[0;34m.\u001b[0m\u001b[0msleep\u001b[0m\u001b[0;34m(\u001b[0m\u001b[0mdelay\u001b[0m\u001b[0;34m)\u001b[0m\u001b[0;34m\u001b[0m\n",
       "\u001b[0;34m\u001b[0m        \u001b[0;32mreturn\u001b[0m \u001b[0mx\u001b[0m\u001b[0;34m\u001b[0m\n",
       "\u001b[0;34m\u001b[0m\u001b[0;34m\u001b[0m\n",
       "\u001b[0;34m\u001b[0m    \u001b[0;32mreturn\u001b[0m \u001b[0minner_echo\u001b[0m\u001b[0;34m\u001b[0m\u001b[0;34m\u001b[0m\u001b[0m\n",
       "\u001b[0;31mFile:\u001b[0m      ~/ipyparallel_master_project/benchmarks/utils.py\n",
       "\u001b[0;31mType:\u001b[0m      function\n"
      ]
     },
     "metadata": {},
     "output_type": "display_data"
    }
   ],
   "source": [
    "??echo"
   ]
  },
  {
   "cell_type": "code",
   "execution_count": 5,
   "metadata": {
    "jupyter": {
     "source_hidden": true
    }
   },
   "outputs": [
    {
     "data": {
      "text/plain": [
       "\u001b[0;31mSignature:\u001b[0m \u001b[0mmake_benchmark\u001b[0m\u001b[0;34m(\u001b[0m\u001b[0mbenchmark_name\u001b[0m\u001b[0;34m,\u001b[0m \u001b[0mget_view\u001b[0m\u001b[0;34m)\u001b[0m\u001b[0;34m\u001b[0m\u001b[0;34m\u001b[0m\u001b[0m\n",
       "\u001b[0;31mDocstring:\u001b[0m <no docstring>\n",
       "\u001b[0;31mSource:\u001b[0m   \n",
       "\u001b[0;32mdef\u001b[0m \u001b[0mmake_benchmark\u001b[0m\u001b[0;34m(\u001b[0m\u001b[0mbenchmark_name\u001b[0m\u001b[0;34m,\u001b[0m \u001b[0mget_view\u001b[0m\u001b[0;34m)\u001b[0m\u001b[0;34m:\u001b[0m\u001b[0;34m\u001b[0m\n",
       "\u001b[0;34m\u001b[0m    \u001b[0;32mclass\u001b[0m \u001b[0mThroughputSuite\u001b[0m\u001b[0;34m:\u001b[0m\u001b[0;34m\u001b[0m\n",
       "\u001b[0;34m\u001b[0m        \u001b[0mparam_names\u001b[0m \u001b[0;34m=\u001b[0m \u001b[0;34m[\u001b[0m\u001b[0;34m'Number of engines'\u001b[0m\u001b[0;34m,\u001b[0m \u001b[0;34m'Number of bytes'\u001b[0m\u001b[0;34m]\u001b[0m\u001b[0;34m\u001b[0m\n",
       "\u001b[0;34m\u001b[0m        \u001b[0mtimer\u001b[0m \u001b[0;34m=\u001b[0m \u001b[0mtimeit\u001b[0m\u001b[0;34m.\u001b[0m\u001b[0mdefault_timer\u001b[0m\u001b[0;34m\u001b[0m\n",
       "\u001b[0;34m\u001b[0m        \u001b[0mtimeout\u001b[0m \u001b[0;34m=\u001b[0m \u001b[0;36m120\u001b[0m\u001b[0;34m\u001b[0m\n",
       "\u001b[0;34m\u001b[0m        \u001b[0mparams\u001b[0m \u001b[0;34m=\u001b[0m \u001b[0;34m[\u001b[0m\u001b[0mengines\u001b[0m\u001b[0;34m,\u001b[0m \u001b[0mbyte_param\u001b[0m\u001b[0;34m]\u001b[0m\u001b[0;34m\u001b[0m\n",
       "\u001b[0;34m\u001b[0m\u001b[0;34m\u001b[0m\n",
       "\u001b[0;34m\u001b[0m        \u001b[0mview\u001b[0m \u001b[0;34m=\u001b[0m \u001b[0;32mNone\u001b[0m\u001b[0;34m\u001b[0m\n",
       "\u001b[0;34m\u001b[0m        \u001b[0mclient\u001b[0m \u001b[0;34m=\u001b[0m \u001b[0;32mNone\u001b[0m\u001b[0;34m\u001b[0m\n",
       "\u001b[0;34m\u001b[0m        \u001b[0mreply\u001b[0m \u001b[0;34m=\u001b[0m \u001b[0;32mNone\u001b[0m\u001b[0;34m\u001b[0m\n",
       "\u001b[0;34m\u001b[0m\u001b[0;34m\u001b[0m\n",
       "\u001b[0;34m\u001b[0m        \u001b[0;32mdef\u001b[0m \u001b[0msetup\u001b[0m\u001b[0;34m(\u001b[0m\u001b[0mself\u001b[0m\u001b[0;34m,\u001b[0m \u001b[0mnumber_of_engines\u001b[0m\u001b[0;34m,\u001b[0m \u001b[0mnumber_of_bytes\u001b[0m\u001b[0;34m)\u001b[0m\u001b[0;34m:\u001b[0m\u001b[0;34m\u001b[0m\n",
       "\u001b[0;34m\u001b[0m            \u001b[0mself\u001b[0m\u001b[0;34m.\u001b[0m\u001b[0mclient\u001b[0m \u001b[0;34m=\u001b[0m \u001b[0mipp\u001b[0m\u001b[0;34m.\u001b[0m\u001b[0mClient\u001b[0m\u001b[0;34m(\u001b[0m\u001b[0mprofile\u001b[0m\u001b[0;34m=\u001b[0m\u001b[0;34m'asv'\u001b[0m\u001b[0;34m)\u001b[0m\u001b[0;34m\u001b[0m\n",
       "\u001b[0;34m\u001b[0m            \u001b[0mself\u001b[0m\u001b[0;34m.\u001b[0m\u001b[0mview\u001b[0m \u001b[0;34m=\u001b[0m \u001b[0mget_view\u001b[0m\u001b[0;34m(\u001b[0m\u001b[0mself\u001b[0m\u001b[0;34m)\u001b[0m\u001b[0;34m\u001b[0m\n",
       "\u001b[0;34m\u001b[0m            \u001b[0mself\u001b[0m\u001b[0;34m.\u001b[0m\u001b[0mview\u001b[0m\u001b[0;34m.\u001b[0m\u001b[0mtargets\u001b[0m \u001b[0;34m=\u001b[0m \u001b[0mlist\u001b[0m\u001b[0;34m(\u001b[0m\u001b[0mrange\u001b[0m\u001b[0;34m(\u001b[0m\u001b[0mnumber_of_engines\u001b[0m\u001b[0;34m)\u001b[0m\u001b[0;34m)\u001b[0m\u001b[0;34m\u001b[0m\n",
       "\u001b[0;34m\u001b[0m            \u001b[0mwait_for\u001b[0m\u001b[0;34m(\u001b[0m\u001b[0;32mlambda\u001b[0m\u001b[0;34m:\u001b[0m \u001b[0mlen\u001b[0m\u001b[0;34m(\u001b[0m\u001b[0mself\u001b[0m\u001b[0;34m.\u001b[0m\u001b[0mclient\u001b[0m\u001b[0;34m)\u001b[0m \u001b[0;34m>=\u001b[0m \u001b[0mnumber_of_engines\u001b[0m\u001b[0;34m)\u001b[0m\u001b[0;34m\u001b[0m\n",
       "\u001b[0;34m\u001b[0m\u001b[0;34m\u001b[0m\n",
       "\u001b[0;34m\u001b[0m        \u001b[0;32mdef\u001b[0m \u001b[0mtime_broadcast\u001b[0m\u001b[0;34m(\u001b[0m\u001b[0mself\u001b[0m\u001b[0;34m,\u001b[0m \u001b[0mengines\u001b[0m\u001b[0;34m,\u001b[0m \u001b[0mnumber_of_bytes\u001b[0m\u001b[0;34m)\u001b[0m\u001b[0;34m:\u001b[0m\u001b[0;34m\u001b[0m\n",
       "\u001b[0;34m\u001b[0m            \u001b[0mself\u001b[0m\u001b[0;34m.\u001b[0m\u001b[0mreply\u001b[0m \u001b[0;34m=\u001b[0m \u001b[0mself\u001b[0m\u001b[0;34m.\u001b[0m\u001b[0mview\u001b[0m\u001b[0;34m.\u001b[0m\u001b[0mapply_sync\u001b[0m\u001b[0;34m(\u001b[0m\u001b[0;34m\u001b[0m\n",
       "\u001b[0;34m\u001b[0m                \u001b[0mecho\u001b[0m\u001b[0;34m,\u001b[0m \u001b[0mnp\u001b[0m\u001b[0;34m.\u001b[0m\u001b[0marray\u001b[0m\u001b[0;34m(\u001b[0m\u001b[0;34m[\u001b[0m\u001b[0;36m0\u001b[0m\u001b[0;34m]\u001b[0m \u001b[0;34m*\u001b[0m \u001b[0mnumber_of_bytes\u001b[0m\u001b[0;34m,\u001b[0m \u001b[0mdtype\u001b[0m\u001b[0;34m=\u001b[0m\u001b[0mnp\u001b[0m\u001b[0;34m.\u001b[0m\u001b[0mint8\u001b[0m\u001b[0;34m)\u001b[0m\u001b[0;34m\u001b[0m\n",
       "\u001b[0;34m\u001b[0m            \u001b[0;34m)\u001b[0m\u001b[0;34m\u001b[0m\n",
       "\u001b[0;34m\u001b[0m\u001b[0;34m\u001b[0m\n",
       "\u001b[0;34m\u001b[0m        \u001b[0;32mdef\u001b[0m \u001b[0mteardown\u001b[0m\u001b[0;34m(\u001b[0m\u001b[0mself\u001b[0m\u001b[0;34m,\u001b[0m \u001b[0;34m*\u001b[0m\u001b[0margs\u001b[0m\u001b[0;34m)\u001b[0m\u001b[0;34m:\u001b[0m\u001b[0;34m\u001b[0m\n",
       "\u001b[0;34m\u001b[0m            \u001b[0;32mif\u001b[0m \u001b[0mself\u001b[0m\u001b[0;34m.\u001b[0m\u001b[0mclient\u001b[0m\u001b[0;34m:\u001b[0m\u001b[0;34m\u001b[0m\n",
       "\u001b[0;34m\u001b[0m                \u001b[0mself\u001b[0m\u001b[0;34m.\u001b[0m\u001b[0mclient\u001b[0m\u001b[0;34m.\u001b[0m\u001b[0mclose\u001b[0m\u001b[0;34m(\u001b[0m\u001b[0;34m)\u001b[0m\u001b[0;34m\u001b[0m\n",
       "\u001b[0;34m\u001b[0m\u001b[0;34m\u001b[0m\n",
       "\u001b[0;34m\u001b[0m    \u001b[0;32mreturn\u001b[0m \u001b[0mThroughputSuite\u001b[0m\u001b[0;34m\u001b[0m\u001b[0;34m\u001b[0m\u001b[0m\n",
       "\u001b[0;31mFile:\u001b[0m      ~/ipyparallel_master_project/benchmarks/throughput.py\n",
       "\u001b[0;31mType:\u001b[0m      function\n"
      ]
     },
     "metadata": {},
     "output_type": "display_data"
    }
   ],
   "source": [
    "??make_benchmark"
   ]
  },
  {
   "cell_type": "markdown",
   "metadata": {},
   "source": [
    "### Results from running benchmark on 64 cores\n"
   ]
  },
  {
   "cell_type": "code",
   "execution_count": 14,
   "metadata": {},
   "outputs": [],
   "source": [
    "source = get_broadcast_source(benchmark_results)"
   ]
  },
  {
   "cell_type": "code",
   "execution_count": 15,
   "metadata": {},
   "outputs": [],
   "source": [
    "dview = pd.DataFrame(source['DirectView'])\n",
    "dview['Scheduler name'] = 'DirectView'\n",
    "dview['Speedup'] = 1"
   ]
  },
  {
   "cell_type": "code",
   "execution_count": 16,
   "metadata": {},
   "outputs": [
    {
     "data": {
      "text/html": [
       "<div>\n",
       "<style scoped>\n",
       "    .dataframe tbody tr th:only-of-type {\n",
       "        vertical-align: middle;\n",
       "    }\n",
       "\n",
       "    .dataframe tbody tr th {\n",
       "        vertical-align: top;\n",
       "    }\n",
       "\n",
       "    .dataframe thead th {\n",
       "        text-align: right;\n",
       "    }\n",
       "</style>\n",
       "<table border=\"1\" class=\"dataframe\">\n",
       "  <thead>\n",
       "    <tr style=\"text-align: right;\">\n",
       "      <th></th>\n",
       "      <th>Duration in ms</th>\n",
       "      <th>Number of bytes</th>\n",
       "      <th>Number of engines</th>\n",
       "      <th>Scheduler name</th>\n",
       "      <th>Speedup</th>\n",
       "    </tr>\n",
       "  </thead>\n",
       "  <tbody>\n",
       "    <tr>\n",
       "      <td>0</td>\n",
       "      <td>9.45</td>\n",
       "      <td>1000</td>\n",
       "      <td>1</td>\n",
       "      <td>NonCoalescing</td>\n",
       "      <td>0.484656</td>\n",
       "    </tr>\n",
       "    <tr>\n",
       "      <td>1</td>\n",
       "      <td>9.47</td>\n",
       "      <td>10000</td>\n",
       "      <td>1</td>\n",
       "      <td>NonCoalescing</td>\n",
       "      <td>0.587117</td>\n",
       "    </tr>\n",
       "    <tr>\n",
       "      <td>2</td>\n",
       "      <td>17.83</td>\n",
       "      <td>100000</td>\n",
       "      <td>1</td>\n",
       "      <td>NonCoalescing</td>\n",
       "      <td>0.722378</td>\n",
       "    </tr>\n",
       "    <tr>\n",
       "      <td>3</td>\n",
       "      <td>89.25</td>\n",
       "      <td>1000000</td>\n",
       "      <td>1</td>\n",
       "      <td>NonCoalescing</td>\n",
       "      <td>0.873501</td>\n",
       "    </tr>\n",
       "    <tr>\n",
       "      <td>4</td>\n",
       "      <td>172.51</td>\n",
       "      <td>2000000</td>\n",
       "      <td>1</td>\n",
       "      <td>NonCoalescing</td>\n",
       "      <td>0.858733</td>\n",
       "    </tr>\n",
       "    <tr>\n",
       "      <td>...</td>\n",
       "      <td>...</td>\n",
       "      <td>...</td>\n",
       "      <td>...</td>\n",
       "      <td>...</td>\n",
       "      <td>...</td>\n",
       "    </tr>\n",
       "    <tr>\n",
       "      <td>35</td>\n",
       "      <td>677.21</td>\n",
       "      <td>1000</td>\n",
       "      <td>1024</td>\n",
       "      <td>DirectView</td>\n",
       "      <td>1.000000</td>\n",
       "    </tr>\n",
       "    <tr>\n",
       "      <td>36</td>\n",
       "      <td>661.01</td>\n",
       "      <td>10000</td>\n",
       "      <td>1024</td>\n",
       "      <td>DirectView</td>\n",
       "      <td>1.000000</td>\n",
       "    </tr>\n",
       "    <tr>\n",
       "      <td>37</td>\n",
       "      <td>760.37</td>\n",
       "      <td>100000</td>\n",
       "      <td>1024</td>\n",
       "      <td>DirectView</td>\n",
       "      <td>1.000000</td>\n",
       "    </tr>\n",
       "    <tr>\n",
       "      <td>38</td>\n",
       "      <td>1979.30</td>\n",
       "      <td>1000000</td>\n",
       "      <td>1024</td>\n",
       "      <td>DirectView</td>\n",
       "      <td>1.000000</td>\n",
       "    </tr>\n",
       "    <tr>\n",
       "      <td>39</td>\n",
       "      <td>3942.04</td>\n",
       "      <td>2000000</td>\n",
       "      <td>1024</td>\n",
       "      <td>DirectView</td>\n",
       "      <td>1.000000</td>\n",
       "    </tr>\n",
       "  </tbody>\n",
       "</table>\n",
       "<p>120 rows × 5 columns</p>\n",
       "</div>"
      ],
      "text/plain": [
       "    Duration in ms  Number of bytes  Number of engines Scheduler name  \\\n",
       "0             9.45             1000                  1  NonCoalescing   \n",
       "1             9.47            10000                  1  NonCoalescing   \n",
       "2            17.83           100000                  1  NonCoalescing   \n",
       "3            89.25          1000000                  1  NonCoalescing   \n",
       "4           172.51          2000000                  1  NonCoalescing   \n",
       "..             ...              ...                ...            ...   \n",
       "35          677.21             1000               1024     DirectView   \n",
       "36          661.01            10000               1024     DirectView   \n",
       "37          760.37           100000               1024     DirectView   \n",
       "38         1979.30          1000000               1024     DirectView   \n",
       "39         3942.04          2000000               1024     DirectView   \n",
       "\n",
       "     Speedup  \n",
       "0   0.484656  \n",
       "1   0.587117  \n",
       "2   0.722378  \n",
       "3   0.873501  \n",
       "4   0.858733  \n",
       "..       ...  \n",
       "35  1.000000  \n",
       "36  1.000000  \n",
       "37  1.000000  \n",
       "38  1.000000  \n",
       "39  1.000000  \n",
       "\n",
       "[120 rows x 5 columns]"
      ]
     },
     "execution_count": 16,
     "metadata": {},
     "output_type": "execute_result"
    }
   ],
   "source": [
    "datas = []\n",
    "for scheduler_name, scheduler_results in source.items():\n",
    "    data = pd.DataFrame(scheduler_results)\n",
    "    data['Scheduler name'] = scheduler_name\n",
    "    data['Speedup'] = dview['Duration in ms'] / data['Duration in ms']\n",
    "    datas.append(data)\n",
    "data = pd.concat(datas)\n",
    "data"
   ]
  },
  {
   "cell_type": "code",
   "execution_count": 17,
   "metadata": {},
   "outputs": [
    {
     "data": {
      "text/html": [
       "\n",
       "<div id=\"altair-viz-d4bfa9fbf614492abf860e88236a8163\"></div>\n",
       "<script type=\"text/javascript\">\n",
       "  (function(spec, embedOpt){\n",
       "    let outputDiv = document.currentScript.previousElementSibling;\n",
       "    if (outputDiv.id !== \"altair-viz-d4bfa9fbf614492abf860e88236a8163\") {\n",
       "      outputDiv = document.getElementById(\"altair-viz-d4bfa9fbf614492abf860e88236a8163\");\n",
       "    }\n",
       "    const paths = {\n",
       "      \"vega\": \"https://cdn.jsdelivr.net/npm//vega@5?noext\",\n",
       "      \"vega-lib\": \"https://cdn.jsdelivr.net/npm//vega-lib?noext\",\n",
       "      \"vega-lite\": \"https://cdn.jsdelivr.net/npm//vega-lite@4.8.1?noext\",\n",
       "      \"vega-embed\": \"https://cdn.jsdelivr.net/npm//vega-embed@6?noext\",\n",
       "    };\n",
       "\n",
       "    function loadScript(lib) {\n",
       "      return new Promise(function(resolve, reject) {\n",
       "        var s = document.createElement('script');\n",
       "        s.src = paths[lib];\n",
       "        s.async = true;\n",
       "        s.onload = () => resolve(paths[lib]);\n",
       "        s.onerror = () => reject(`Error loading script: ${paths[lib]}`);\n",
       "        document.getElementsByTagName(\"head\")[0].appendChild(s);\n",
       "      });\n",
       "    }\n",
       "\n",
       "    function showError(err) {\n",
       "      outputDiv.innerHTML = `<div class=\"error\" style=\"color:red;\">${err}</div>`;\n",
       "      throw err;\n",
       "    }\n",
       "\n",
       "    function displayChart(vegaEmbed) {\n",
       "      vegaEmbed(outputDiv, spec, embedOpt)\n",
       "        .catch(err => showError(`Javascript Error: ${err.message}<br>This usually means there's a typo in your chart specification. See the javascript console for the full traceback.`));\n",
       "    }\n",
       "\n",
       "    if(typeof define === \"function\" && define.amd) {\n",
       "      requirejs.config({paths});\n",
       "      require([\"vega-embed\"], displayChart, err => showError(`Error loading script: ${err.message}`));\n",
       "    } else if (typeof vegaEmbed === \"function\") {\n",
       "      displayChart(vegaEmbed);\n",
       "    } else {\n",
       "      loadScript(\"vega\")\n",
       "        .then(() => loadScript(\"vega-lite\"))\n",
       "        .then(() => loadScript(\"vega-embed\"))\n",
       "        .catch(showError)\n",
       "        .then(() => displayChart(vegaEmbed));\n",
       "    }\n",
       "  })({\"config\": {\"view\": {\"continuousWidth\": 400, \"continuousHeight\": 300}, \"axis\": {\"labelFontSize\": 20, \"titleFontSize\": 20}}, \"data\": {\"name\": \"data-3cbc7a0dd46b10b987a8d7e396b10217\"}, \"mark\": {\"type\": \"line\", \"point\": true}, \"encoding\": {\"color\": {\"type\": \"nominal\", \"field\": \"Scheduler name\"}, \"tooltip\": {\"type\": \"quantitative\", \"field\": \"Duration in ms\"}, \"x\": {\"type\": \"quantitative\", \"field\": \"Number of engines\", \"scale\": {\"base\": 2, \"type\": \"log\"}}, \"y\": {\"type\": \"quantitative\", \"field\": \"Duration in ms\", \"scale\": {\"type\": \"log\"}}}, \"selection\": {\"selector001\": {\"type\": \"interval\", \"bind\": \"scales\", \"encodings\": [\"x\", \"y\"]}}, \"title\": \"Runtime of apply using DirectView\", \"width\": 1080, \"$schema\": \"https://vega.github.io/schema/vega-lite/v4.8.1.json\", \"datasets\": {\"data-3cbc7a0dd46b10b987a8d7e396b10217\": [{\"Duration in ms\": 172.51, \"Number of bytes\": 2000000, \"Number of engines\": 1, \"Scheduler name\": \"NonCoalescing\", \"Speedup\": 0.858732827082488}, {\"Duration in ms\": 171.09, \"Number of bytes\": 2000000, \"Number of engines\": 2, \"Scheduler name\": \"NonCoalescing\", \"Speedup\": 0.8585539774387748}, {\"Duration in ms\": 202.18, \"Number of bytes\": 2000000, \"Number of engines\": 16, \"Scheduler name\": \"NonCoalescing\", \"Speedup\": 0.9000890295776041}, {\"Duration in ms\": 334.23, \"Number of bytes\": 2000000, \"Number of engines\": 64, \"Scheduler name\": \"NonCoalescing\", \"Speedup\": 0.9423750112198187}, {\"Duration in ms\": 488.44, \"Number of bytes\": 2000000, \"Number of engines\": 128, \"Scheduler name\": \"NonCoalescing\", \"Speedup\": 1.0457374498403078}, {\"Duration in ms\": 909.45, \"Number of bytes\": 2000000, \"Number of engines\": 256, \"Scheduler name\": \"NonCoalescing\", \"Speedup\": 1.0084226730441475}, {\"Duration in ms\": 2062.45, \"Number of bytes\": 2000000, \"Number of engines\": 512, \"Scheduler name\": \"NonCoalescing\", \"Speedup\": 0.7711120269582294}, {\"Duration in ms\": 4143.3, \"Number of bytes\": 2000000, \"Number of engines\": 1024, \"Scheduler name\": \"NonCoalescing\", \"Speedup\": 0.9514251924794246}, {\"Duration in ms\": 164.8, \"Number of bytes\": 2000000, \"Number of engines\": 1, \"Scheduler name\": \"Coalescing\", \"Speedup\": 0.8989077669902911}, {\"Duration in ms\": 167.42, \"Number of bytes\": 2000000, \"Number of engines\": 2, \"Scheduler name\": \"Coalescing\", \"Speedup\": 0.8773742683072512}, {\"Duration in ms\": 208.08, \"Number of bytes\": 2000000, \"Number of engines\": 16, \"Scheduler name\": \"Coalescing\", \"Speedup\": 0.8745674740484428}, {\"Duration in ms\": 410.5, \"Number of bytes\": 2000000, \"Number of engines\": 64, \"Scheduler name\": \"Coalescing\", \"Speedup\": 0.7672838002436054}, {\"Duration in ms\": 606.74, \"Number of bytes\": 2000000, \"Number of engines\": 128, \"Scheduler name\": \"Coalescing\", \"Speedup\": 0.8418432936677983}, {\"Duration in ms\": 1091.45, \"Number of bytes\": 2000000, \"Number of engines\": 256, \"Scheduler name\": \"Coalescing\", \"Speedup\": 0.8402675340143845}, {\"Duration in ms\": 2253.55, \"Number of bytes\": 2000000, \"Number of engines\": 512, \"Scheduler name\": \"Coalescing\", \"Speedup\": 0.7057220829358124}, {\"Duration in ms\": 4317.67, \"Number of bytes\": 2000000, \"Number of engines\": 1024, \"Scheduler name\": \"Coalescing\", \"Speedup\": 0.9130016884106474}, {\"Duration in ms\": 148.14, \"Number of bytes\": 2000000, \"Number of engines\": 1, \"Scheduler name\": \"DirectView\", \"Speedup\": 1.0}, {\"Duration in ms\": 146.89, \"Number of bytes\": 2000000, \"Number of engines\": 2, \"Scheduler name\": \"DirectView\", \"Speedup\": 1.0}, {\"Duration in ms\": 181.98, \"Number of bytes\": 2000000, \"Number of engines\": 16, \"Scheduler name\": \"DirectView\", \"Speedup\": 1.0}, {\"Duration in ms\": 314.97, \"Number of bytes\": 2000000, \"Number of engines\": 64, \"Scheduler name\": \"DirectView\", \"Speedup\": 1.0}, {\"Duration in ms\": 510.78, \"Number of bytes\": 2000000, \"Number of engines\": 128, \"Scheduler name\": \"DirectView\", \"Speedup\": 1.0}, {\"Duration in ms\": 917.11, \"Number of bytes\": 2000000, \"Number of engines\": 256, \"Scheduler name\": \"DirectView\", \"Speedup\": 1.0}, {\"Duration in ms\": 1590.38, \"Number of bytes\": 2000000, \"Number of engines\": 512, \"Scheduler name\": \"DirectView\", \"Speedup\": 1.0}, {\"Duration in ms\": 3942.04, \"Number of bytes\": 2000000, \"Number of engines\": 1024, \"Scheduler name\": \"DirectView\", \"Speedup\": 1.0}]}}, {\"renderer\": \"svg\", \"mode\": \"vega-lite\"});\n",
       "</script>"
      ],
      "text/plain": [
       "alt.Chart(...)"
      ]
     },
     "metadata": {},
     "output_type": "display_data"
    }
   ],
   "source": [
    "ldata = data[data['Number of bytes'] == 2000_000]\n",
    "alt.Chart(ldata).mark_line(point=True).encode(\n",
    "    alt.X('Number of engines', scale=alt.Scale(type='log', base=2)),\n",
    "    alt.Y('Duration in ms', scale=alt.Scale(type='log')),\n",
    "    color='Scheduler name:N',\n",
    "    tooltip='Duration in ms',\n",
    ").configure_axis(labelFontSize=20, titleFontSize=20).properties(\n",
    "    title='Runtime of apply using DirectView', width=1080\n",
    ").interactive().display(renderer='svg')"
   ]
  },
  {
   "cell_type": "code",
   "execution_count": 32,
   "metadata": {},
   "outputs": [
    {
     "data": {
      "text/html": [
       "\n",
       "<div id=\"altair-viz-f4deb7c3a8fa4990b238434c2778bd96\"></div>\n",
       "<script type=\"text/javascript\">\n",
       "  (function(spec, embedOpt){\n",
       "    let outputDiv = document.currentScript.previousElementSibling;\n",
       "    if (outputDiv.id !== \"altair-viz-f4deb7c3a8fa4990b238434c2778bd96\") {\n",
       "      outputDiv = document.getElementById(\"altair-viz-f4deb7c3a8fa4990b238434c2778bd96\");\n",
       "    }\n",
       "    const paths = {\n",
       "      \"vega\": \"https://cdn.jsdelivr.net/npm//vega@5?noext\",\n",
       "      \"vega-lib\": \"https://cdn.jsdelivr.net/npm//vega-lib?noext\",\n",
       "      \"vega-lite\": \"https://cdn.jsdelivr.net/npm//vega-lite@4.8.1?noext\",\n",
       "      \"vega-embed\": \"https://cdn.jsdelivr.net/npm//vega-embed@6?noext\",\n",
       "    };\n",
       "\n",
       "    function loadScript(lib) {\n",
       "      return new Promise(function(resolve, reject) {\n",
       "        var s = document.createElement('script');\n",
       "        s.src = paths[lib];\n",
       "        s.async = true;\n",
       "        s.onload = () => resolve(paths[lib]);\n",
       "        s.onerror = () => reject(`Error loading script: ${paths[lib]}`);\n",
       "        document.getElementsByTagName(\"head\")[0].appendChild(s);\n",
       "      });\n",
       "    }\n",
       "\n",
       "    function showError(err) {\n",
       "      outputDiv.innerHTML = `<div class=\"error\" style=\"color:red;\">${err}</div>`;\n",
       "      throw err;\n",
       "    }\n",
       "\n",
       "    function displayChart(vegaEmbed) {\n",
       "      vegaEmbed(outputDiv, spec, embedOpt)\n",
       "        .catch(err => showError(`Javascript Error: ${err.message}<br>This usually means there's a typo in your chart specification. See the javascript console for the full traceback.`));\n",
       "    }\n",
       "\n",
       "    if(typeof define === \"function\" && define.amd) {\n",
       "      requirejs.config({paths});\n",
       "      require([\"vega-embed\"], displayChart, err => showError(`Error loading script: ${err.message}`));\n",
       "    } else if (typeof vegaEmbed === \"function\") {\n",
       "      displayChart(vegaEmbed);\n",
       "    } else {\n",
       "      loadScript(\"vega\")\n",
       "        .then(() => loadScript(\"vega-lite\"))\n",
       "        .then(() => loadScript(\"vega-embed\"))\n",
       "        .catch(showError)\n",
       "        .then(() => displayChart(vegaEmbed));\n",
       "    }\n",
       "  })({\"config\": {\"view\": {\"continuousWidth\": 400, \"continuousHeight\": 300}}, \"data\": {\"name\": \"data-66acc90628e73c9b22f0e92920528b6b\"}, \"mark\": {\"type\": \"line\", \"point\": true}, \"encoding\": {\"color\": {\"type\": \"nominal\", \"field\": \"Number of engines\"}, \"tooltip\": {\"type\": \"quantitative\", \"field\": \"Duration in ms\"}, \"x\": {\"type\": \"quantitative\", \"field\": \"Number of bytes\", \"scale\": {\"type\": \"log\"}}, \"y\": {\"type\": \"quantitative\", \"field\": \"Duration in ms\", \"scale\": {\"type\": \"log\"}}}, \"selection\": {\"selector040\": {\"type\": \"interval\", \"bind\": \"scales\", \"encodings\": [\"x\", \"y\"]}}, \"title\": \"NonCoalescing\", \"width\": 800, \"$schema\": \"https://vega.github.io/schema/vega-lite/v4.8.1.json\", \"datasets\": {\"data-66acc90628e73c9b22f0e92920528b6b\": [{\"Duration in ms\": 9.45, \"Number of bytes\": 1000, \"Number of engines\": 1, \"Scheduler name\": \"NonCoalescing\", \"Speedup\": 0.4846560846560847}, {\"Duration in ms\": 9.47, \"Number of bytes\": 10000, \"Number of engines\": 1, \"Scheduler name\": \"NonCoalescing\", \"Speedup\": 0.587117212249208}, {\"Duration in ms\": 17.83, \"Number of bytes\": 100000, \"Number of engines\": 1, \"Scheduler name\": \"NonCoalescing\", \"Speedup\": 0.722378014582165}, {\"Duration in ms\": 89.25, \"Number of bytes\": 1000000, \"Number of engines\": 1, \"Scheduler name\": \"NonCoalescing\", \"Speedup\": 0.8735014005602241}, {\"Duration in ms\": 172.51, \"Number of bytes\": 2000000, \"Number of engines\": 1, \"Scheduler name\": \"NonCoalescing\", \"Speedup\": 0.858732827082488}, {\"Duration in ms\": 9.85, \"Number of bytes\": 1000, \"Number of engines\": 2, \"Scheduler name\": \"NonCoalescing\", \"Speedup\": 0.5116751269035533}, {\"Duration in ms\": 10.35, \"Number of bytes\": 10000, \"Number of engines\": 2, \"Scheduler name\": \"NonCoalescing\", \"Speedup\": 0.5391304347826087}, {\"Duration in ms\": 18.7, \"Number of bytes\": 100000, \"Number of engines\": 2, \"Scheduler name\": \"NonCoalescing\", \"Speedup\": 0.6663101604278076}, {\"Duration in ms\": 89.76, \"Number of bytes\": 1000000, \"Number of engines\": 2, \"Scheduler name\": \"NonCoalescing\", \"Speedup\": 0.8358957219251336}, {\"Duration in ms\": 171.09, \"Number of bytes\": 2000000, \"Number of engines\": 2, \"Scheduler name\": \"NonCoalescing\", \"Speedup\": 0.8585539774387748}, {\"Duration in ms\": 17.02, \"Number of bytes\": 1000, \"Number of engines\": 16, \"Scheduler name\": \"NonCoalescing\", \"Speedup\": 0.8860164512338425}, {\"Duration in ms\": 18.02, \"Number of bytes\": 10000, \"Number of engines\": 16, \"Scheduler name\": \"NonCoalescing\", \"Speedup\": 0.8990011098779134}, {\"Duration in ms\": 25.29, \"Number of bytes\": 100000, \"Number of engines\": 16, \"Scheduler name\": \"NonCoalescing\", \"Speedup\": 0.9019375247133254}, {\"Duration in ms\": 104.59, \"Number of bytes\": 1000000, \"Number of engines\": 16, \"Scheduler name\": \"NonCoalescing\", \"Speedup\": 0.8942537527488288}, {\"Duration in ms\": 202.18, \"Number of bytes\": 2000000, \"Number of engines\": 16, \"Scheduler name\": \"NonCoalescing\", \"Speedup\": 0.9000890295776041}, {\"Duration in ms\": 46.06, \"Number of bytes\": 1000, \"Number of engines\": 64, \"Scheduler name\": \"NonCoalescing\", \"Speedup\": 0.9326964828484585}, {\"Duration in ms\": 47.91, \"Number of bytes\": 10000, \"Number of engines\": 64, \"Scheduler name\": \"NonCoalescing\", \"Speedup\": 0.9185973700688792}, {\"Duration in ms\": 55.13, \"Number of bytes\": 100000, \"Number of engines\": 64, \"Scheduler name\": \"NonCoalescing\", \"Speedup\": 0.9994558316705967}, {\"Duration in ms\": 184.33, \"Number of bytes\": 1000000, \"Number of engines\": 64, \"Scheduler name\": \"NonCoalescing\", \"Speedup\": 1.0254434980741063}, {\"Duration in ms\": 334.23, \"Number of bytes\": 2000000, \"Number of engines\": 64, \"Scheduler name\": \"NonCoalescing\", \"Speedup\": 0.9423750112198187}, {\"Duration in ms\": 84.59, \"Number of bytes\": 1000, \"Number of engines\": 128, \"Scheduler name\": \"NonCoalescing\", \"Speedup\": 1.020688024589195}, {\"Duration in ms\": 84.78, \"Number of bytes\": 10000, \"Number of engines\": 128, \"Scheduler name\": \"NonCoalescing\", \"Speedup\": 0.9998820476527482}, {\"Duration in ms\": 94.17, \"Number of bytes\": 100000, \"Number of engines\": 128, \"Scheduler name\": \"NonCoalescing\", \"Speedup\": 1.0635021769140915}, {\"Duration in ms\": 219.61, \"Number of bytes\": 1000000, \"Number of engines\": 128, \"Scheduler name\": \"NonCoalescing\", \"Speedup\": 1.227721870588771}, {\"Duration in ms\": 488.44, \"Number of bytes\": 2000000, \"Number of engines\": 128, \"Scheduler name\": \"NonCoalescing\", \"Speedup\": 1.0457374498403078}, {\"Duration in ms\": 164.03, \"Number of bytes\": 1000, \"Number of engines\": 256, \"Scheduler name\": \"NonCoalescing\", \"Speedup\": 1.0343229896970065}, {\"Duration in ms\": 166.09, \"Number of bytes\": 10000, \"Number of engines\": 256, \"Scheduler name\": \"NonCoalescing\", \"Speedup\": 1.0207718706725268}, {\"Duration in ms\": 176.12, \"Number of bytes\": 100000, \"Number of engines\": 256, \"Scheduler name\": \"NonCoalescing\", \"Speedup\": 1.136100386100386}, {\"Duration in ms\": 340.9, \"Number of bytes\": 1000000, \"Number of engines\": 256, \"Scheduler name\": \"NonCoalescing\", \"Speedup\": 1.312144323848636}, {\"Duration in ms\": 909.45, \"Number of bytes\": 2000000, \"Number of engines\": 256, \"Scheduler name\": \"NonCoalescing\", \"Speedup\": 1.0084226730441475}, {\"Duration in ms\": 316.77, \"Number of bytes\": 1000, \"Number of engines\": 512, \"Scheduler name\": \"NonCoalescing\", \"Speedup\": 1.0649367048647282}, {\"Duration in ms\": 314.19, \"Number of bytes\": 10000, \"Number of engines\": 512, \"Scheduler name\": \"NonCoalescing\", \"Speedup\": 1.0491104108978644}, {\"Duration in ms\": 341.05, \"Number of bytes\": 100000, \"Number of engines\": 512, \"Scheduler name\": \"NonCoalescing\", \"Speedup\": 1.1648438645359918}, {\"Duration in ms\": 617.82, \"Number of bytes\": 1000000, \"Number of engines\": 512, \"Scheduler name\": \"NonCoalescing\", \"Speedup\": 1.3170502735424556}, {\"Duration in ms\": 2062.45, \"Number of bytes\": 2000000, \"Number of engines\": 512, \"Scheduler name\": \"NonCoalescing\", \"Speedup\": 0.7711120269582294}, {\"Duration in ms\": 617.38, \"Number of bytes\": 1000, \"Number of engines\": 1024, \"Scheduler name\": \"NonCoalescing\", \"Speedup\": 1.0969095208785513}, {\"Duration in ms\": 619.59, \"Number of bytes\": 10000, \"Number of engines\": 1024, \"Scheduler name\": \"NonCoalescing\", \"Speedup\": 1.0668506593069609}, {\"Duration in ms\": 652.45, \"Number of bytes\": 100000, \"Number of engines\": 1024, \"Scheduler name\": \"NonCoalescing\", \"Speedup\": 1.1654073109050502}, {\"Duration in ms\": 1132.67, \"Number of bytes\": 1000000, \"Number of engines\": 1024, \"Scheduler name\": \"NonCoalescing\", \"Speedup\": 1.7474639568453298}, {\"Duration in ms\": 4143.3, \"Number of bytes\": 2000000, \"Number of engines\": 1024, \"Scheduler name\": \"NonCoalescing\", \"Speedup\": 0.9514251924794246}]}}, {\"renderer\": \"svg\", \"mode\": \"vega-lite\"});\n",
       "</script>"
      ],
      "text/plain": [
       "alt.Chart(...)"
      ]
     },
     "metadata": {},
     "output_type": "display_data"
    },
    {
     "data": {
      "text/html": [
       "\n",
       "<div id=\"altair-viz-98a063afd4034b03a266d360ac22093a\"></div>\n",
       "<script type=\"text/javascript\">\n",
       "  (function(spec, embedOpt){\n",
       "    let outputDiv = document.currentScript.previousElementSibling;\n",
       "    if (outputDiv.id !== \"altair-viz-98a063afd4034b03a266d360ac22093a\") {\n",
       "      outputDiv = document.getElementById(\"altair-viz-98a063afd4034b03a266d360ac22093a\");\n",
       "    }\n",
       "    const paths = {\n",
       "      \"vega\": \"https://cdn.jsdelivr.net/npm//vega@5?noext\",\n",
       "      \"vega-lib\": \"https://cdn.jsdelivr.net/npm//vega-lib?noext\",\n",
       "      \"vega-lite\": \"https://cdn.jsdelivr.net/npm//vega-lite@4.8.1?noext\",\n",
       "      \"vega-embed\": \"https://cdn.jsdelivr.net/npm//vega-embed@6?noext\",\n",
       "    };\n",
       "\n",
       "    function loadScript(lib) {\n",
       "      return new Promise(function(resolve, reject) {\n",
       "        var s = document.createElement('script');\n",
       "        s.src = paths[lib];\n",
       "        s.async = true;\n",
       "        s.onload = () => resolve(paths[lib]);\n",
       "        s.onerror = () => reject(`Error loading script: ${paths[lib]}`);\n",
       "        document.getElementsByTagName(\"head\")[0].appendChild(s);\n",
       "      });\n",
       "    }\n",
       "\n",
       "    function showError(err) {\n",
       "      outputDiv.innerHTML = `<div class=\"error\" style=\"color:red;\">${err}</div>`;\n",
       "      throw err;\n",
       "    }\n",
       "\n",
       "    function displayChart(vegaEmbed) {\n",
       "      vegaEmbed(outputDiv, spec, embedOpt)\n",
       "        .catch(err => showError(`Javascript Error: ${err.message}<br>This usually means there's a typo in your chart specification. See the javascript console for the full traceback.`));\n",
       "    }\n",
       "\n",
       "    if(typeof define === \"function\" && define.amd) {\n",
       "      requirejs.config({paths});\n",
       "      require([\"vega-embed\"], displayChart, err => showError(`Error loading script: ${err.message}`));\n",
       "    } else if (typeof vegaEmbed === \"function\") {\n",
       "      displayChart(vegaEmbed);\n",
       "    } else {\n",
       "      loadScript(\"vega\")\n",
       "        .then(() => loadScript(\"vega-lite\"))\n",
       "        .then(() => loadScript(\"vega-embed\"))\n",
       "        .catch(showError)\n",
       "        .then(() => displayChart(vegaEmbed));\n",
       "    }\n",
       "  })({\"config\": {\"view\": {\"continuousWidth\": 400, \"continuousHeight\": 300}}, \"data\": {\"name\": \"data-2574d3625daf177acfd31f03a7c51625\"}, \"mark\": {\"type\": \"line\", \"point\": true}, \"encoding\": {\"color\": {\"type\": \"nominal\", \"field\": \"Number of engines\"}, \"tooltip\": {\"type\": \"quantitative\", \"field\": \"Duration in ms\"}, \"x\": {\"type\": \"quantitative\", \"field\": \"Number of bytes\", \"scale\": {\"type\": \"log\"}}, \"y\": {\"type\": \"quantitative\", \"field\": \"Duration in ms\", \"scale\": {\"type\": \"log\"}}}, \"selection\": {\"selector041\": {\"type\": \"interval\", \"bind\": \"scales\", \"encodings\": [\"x\", \"y\"]}}, \"title\": \"Coalescing\", \"width\": 800, \"$schema\": \"https://vega.github.io/schema/vega-lite/v4.8.1.json\", \"datasets\": {\"data-2574d3625daf177acfd31f03a7c51625\": [{\"Duration in ms\": 8.85, \"Number of bytes\": 1000, \"Number of engines\": 1, \"Scheduler name\": \"Coalescing\", \"Speedup\": 0.5175141242937853}, {\"Duration in ms\": 9.69, \"Number of bytes\": 10000, \"Number of engines\": 1, \"Scheduler name\": \"Coalescing\", \"Speedup\": 0.5737874097007224}, {\"Duration in ms\": 17.9, \"Number of bytes\": 100000, \"Number of engines\": 1, \"Scheduler name\": \"Coalescing\", \"Speedup\": 0.7195530726256985}, {\"Duration in ms\": 86.69, \"Number of bytes\": 1000000, \"Number of engines\": 1, \"Scheduler name\": \"Coalescing\", \"Speedup\": 0.8992963432921905}, {\"Duration in ms\": 164.8, \"Number of bytes\": 2000000, \"Number of engines\": 1, \"Scheduler name\": \"Coalescing\", \"Speedup\": 0.8989077669902911}, {\"Duration in ms\": 8.9, \"Number of bytes\": 1000, \"Number of engines\": 2, \"Scheduler name\": \"Coalescing\", \"Speedup\": 0.5662921348314607}, {\"Duration in ms\": 9.67, \"Number of bytes\": 10000, \"Number of engines\": 2, \"Scheduler name\": \"Coalescing\", \"Speedup\": 0.5770423991726991}, {\"Duration in ms\": 18.02, \"Number of bytes\": 100000, \"Number of engines\": 2, \"Scheduler name\": \"Coalescing\", \"Speedup\": 0.6914539400665928}, {\"Duration in ms\": 87.85, \"Number of bytes\": 1000000, \"Number of engines\": 2, \"Scheduler name\": \"Coalescing\", \"Speedup\": 0.8540694365395561}, {\"Duration in ms\": 167.42, \"Number of bytes\": 2000000, \"Number of engines\": 2, \"Scheduler name\": \"Coalescing\", \"Speedup\": 0.8773742683072512}, {\"Duration in ms\": 11.14, \"Number of bytes\": 1000, \"Number of engines\": 16, \"Scheduler name\": \"Coalescing\", \"Speedup\": 1.3536804308797128}, {\"Duration in ms\": 12.91, \"Number of bytes\": 10000, \"Number of engines\": 16, \"Scheduler name\": \"Coalescing\", \"Speedup\": 1.254841208365608}, {\"Duration in ms\": 21.87, \"Number of bytes\": 100000, \"Number of engines\": 16, \"Scheduler name\": \"Coalescing\", \"Speedup\": 1.042981252857796}, {\"Duration in ms\": 111.43, \"Number of bytes\": 1000000, \"Number of engines\": 16, \"Scheduler name\": \"Coalescing\", \"Speedup\": 0.8393610338328995}, {\"Duration in ms\": 208.08, \"Number of bytes\": 2000000, \"Number of engines\": 16, \"Scheduler name\": \"Coalescing\", \"Speedup\": 0.8745674740484428}, {\"Duration in ms\": 17.37, \"Number of bytes\": 1000, \"Number of engines\": 64, \"Scheduler name\": \"Coalescing\", \"Speedup\": 2.473229706390328}, {\"Duration in ms\": 21.28, \"Number of bytes\": 10000, \"Number of engines\": 64, \"Scheduler name\": \"Coalescing\", \"Speedup\": 2.0681390977443606}, {\"Duration in ms\": 34.39, \"Number of bytes\": 100000, \"Number of engines\": 64, \"Scheduler name\": \"Coalescing\", \"Speedup\": 1.6022099447513811}, {\"Duration in ms\": 205.81, \"Number of bytes\": 1000000, \"Number of engines\": 64, \"Scheduler name\": \"Coalescing\", \"Speedup\": 0.918419901851222}, {\"Duration in ms\": 410.5, \"Number of bytes\": 2000000, \"Number of engines\": 64, \"Scheduler name\": \"Coalescing\", \"Speedup\": 0.7672838002436054}, {\"Duration in ms\": 25.94, \"Number of bytes\": 1000, \"Number of engines\": 128, \"Scheduler name\": \"Coalescing\", \"Speedup\": 3.328450269853508}, {\"Duration in ms\": 32.94, \"Number of bytes\": 10000, \"Number of engines\": 128, \"Scheduler name\": \"Coalescing\", \"Speedup\": 2.5734669095324834}, {\"Duration in ms\": 55.92, \"Number of bytes\": 100000, \"Number of engines\": 128, \"Scheduler name\": \"Coalescing\", \"Speedup\": 1.7909513590844064}, {\"Duration in ms\": 266.17, \"Number of bytes\": 1000000, \"Number of engines\": 128, \"Scheduler name\": \"Coalescing\", \"Speedup\": 1.0129616410564677}, {\"Duration in ms\": 606.74, \"Number of bytes\": 2000000, \"Number of engines\": 128, \"Scheduler name\": \"Coalescing\", \"Speedup\": 0.8418432936677983}, {\"Duration in ms\": 44.39, \"Number of bytes\": 1000, \"Number of engines\": 256, \"Scheduler name\": \"Coalescing\", \"Speedup\": 3.822031989186754}, {\"Duration in ms\": 58.25, \"Number of bytes\": 10000, \"Number of engines\": 256, \"Scheduler name\": \"Coalescing\", \"Speedup\": 2.910557939914163}, {\"Duration in ms\": 91.83, \"Number of bytes\": 100000, \"Number of engines\": 256, \"Scheduler name\": \"Coalescing\", \"Speedup\": 2.1789175650658827}, {\"Duration in ms\": 430.56, \"Number of bytes\": 1000000, \"Number of engines\": 256, \"Scheduler name\": \"Coalescing\", \"Speedup\": 1.0389028242289111}, {\"Duration in ms\": 1091.45, \"Number of bytes\": 2000000, \"Number of engines\": 256, \"Scheduler name\": \"Coalescing\", \"Speedup\": 0.8402675340143845}, {\"Duration in ms\": 84.11, \"Number of bytes\": 1000, \"Number of engines\": 512, \"Scheduler name\": \"Coalescing\", \"Speedup\": 4.010700273451432}, {\"Duration in ms\": 110.52, \"Number of bytes\": 10000, \"Number of engines\": 512, \"Scheduler name\": \"Coalescing\", \"Speedup\": 2.982446615997105}, {\"Duration in ms\": 173.32, \"Number of bytes\": 100000, \"Number of engines\": 512, \"Scheduler name\": \"Coalescing\", \"Speedup\": 2.2921186245095777}, {\"Duration in ms\": 884.62, \"Number of bytes\": 1000000, \"Number of engines\": 512, \"Scheduler name\": \"Coalescing\", \"Speedup\": 0.9198299834957383}, {\"Duration in ms\": 2253.55, \"Number of bytes\": 2000000, \"Number of engines\": 512, \"Scheduler name\": \"Coalescing\", \"Speedup\": 0.7057220829358124}, {\"Duration in ms\": 176.21, \"Number of bytes\": 1000, \"Number of engines\": 1024, \"Scheduler name\": \"Coalescing\", \"Speedup\": 3.8431984563872654}, {\"Duration in ms\": 221.57, \"Number of bytes\": 10000, \"Number of engines\": 1024, \"Scheduler name\": \"Coalescing\", \"Speedup\": 2.983300988400957}, {\"Duration in ms\": 354.27, \"Number of bytes\": 100000, \"Number of engines\": 1024, \"Scheduler name\": \"Coalescing\", \"Speedup\": 2.146300843989048}, {\"Duration in ms\": 1699.83, \"Number of bytes\": 1000000, \"Number of engines\": 1024, \"Scheduler name\": \"Coalescing\", \"Speedup\": 1.1644105587029292}, {\"Duration in ms\": 4317.67, \"Number of bytes\": 2000000, \"Number of engines\": 1024, \"Scheduler name\": \"Coalescing\", \"Speedup\": 0.9130016884106474}]}}, {\"renderer\": \"svg\", \"mode\": \"vega-lite\"});\n",
       "</script>"
      ],
      "text/plain": [
       "alt.Chart(...)"
      ]
     },
     "metadata": {},
     "output_type": "display_data"
    },
    {
     "data": {
      "text/html": [
       "\n",
       "<div id=\"altair-viz-7eb3baf57a6c43a684338febf399de3f\"></div>\n",
       "<script type=\"text/javascript\">\n",
       "  (function(spec, embedOpt){\n",
       "    let outputDiv = document.currentScript.previousElementSibling;\n",
       "    if (outputDiv.id !== \"altair-viz-7eb3baf57a6c43a684338febf399de3f\") {\n",
       "      outputDiv = document.getElementById(\"altair-viz-7eb3baf57a6c43a684338febf399de3f\");\n",
       "    }\n",
       "    const paths = {\n",
       "      \"vega\": \"https://cdn.jsdelivr.net/npm//vega@5?noext\",\n",
       "      \"vega-lib\": \"https://cdn.jsdelivr.net/npm//vega-lib?noext\",\n",
       "      \"vega-lite\": \"https://cdn.jsdelivr.net/npm//vega-lite@4.8.1?noext\",\n",
       "      \"vega-embed\": \"https://cdn.jsdelivr.net/npm//vega-embed@6?noext\",\n",
       "    };\n",
       "\n",
       "    function loadScript(lib) {\n",
       "      return new Promise(function(resolve, reject) {\n",
       "        var s = document.createElement('script');\n",
       "        s.src = paths[lib];\n",
       "        s.async = true;\n",
       "        s.onload = () => resolve(paths[lib]);\n",
       "        s.onerror = () => reject(`Error loading script: ${paths[lib]}`);\n",
       "        document.getElementsByTagName(\"head\")[0].appendChild(s);\n",
       "      });\n",
       "    }\n",
       "\n",
       "    function showError(err) {\n",
       "      outputDiv.innerHTML = `<div class=\"error\" style=\"color:red;\">${err}</div>`;\n",
       "      throw err;\n",
       "    }\n",
       "\n",
       "    function displayChart(vegaEmbed) {\n",
       "      vegaEmbed(outputDiv, spec, embedOpt)\n",
       "        .catch(err => showError(`Javascript Error: ${err.message}<br>This usually means there's a typo in your chart specification. See the javascript console for the full traceback.`));\n",
       "    }\n",
       "\n",
       "    if(typeof define === \"function\" && define.amd) {\n",
       "      requirejs.config({paths});\n",
       "      require([\"vega-embed\"], displayChart, err => showError(`Error loading script: ${err.message}`));\n",
       "    } else if (typeof vegaEmbed === \"function\") {\n",
       "      displayChart(vegaEmbed);\n",
       "    } else {\n",
       "      loadScript(\"vega\")\n",
       "        .then(() => loadScript(\"vega-lite\"))\n",
       "        .then(() => loadScript(\"vega-embed\"))\n",
       "        .catch(showError)\n",
       "        .then(() => displayChart(vegaEmbed));\n",
       "    }\n",
       "  })({\"config\": {\"view\": {\"continuousWidth\": 400, \"continuousHeight\": 300}}, \"data\": {\"name\": \"data-cafc7174936e1cb76f9f7584955a6d0c\"}, \"mark\": {\"type\": \"line\", \"point\": true}, \"encoding\": {\"color\": {\"type\": \"nominal\", \"field\": \"Number of engines\"}, \"tooltip\": {\"type\": \"quantitative\", \"field\": \"Duration in ms\"}, \"x\": {\"type\": \"quantitative\", \"field\": \"Number of bytes\", \"scale\": {\"type\": \"log\"}}, \"y\": {\"type\": \"quantitative\", \"field\": \"Duration in ms\", \"scale\": {\"type\": \"log\"}}}, \"selection\": {\"selector042\": {\"type\": \"interval\", \"bind\": \"scales\", \"encodings\": [\"x\", \"y\"]}}, \"title\": \"DirectView\", \"width\": 800, \"$schema\": \"https://vega.github.io/schema/vega-lite/v4.8.1.json\", \"datasets\": {\"data-cafc7174936e1cb76f9f7584955a6d0c\": [{\"Duration in ms\": 4.58, \"Number of bytes\": 1000, \"Number of engines\": 1, \"Scheduler name\": \"DirectView\", \"Speedup\": 1.0}, {\"Duration in ms\": 5.56, \"Number of bytes\": 10000, \"Number of engines\": 1, \"Scheduler name\": \"DirectView\", \"Speedup\": 1.0}, {\"Duration in ms\": 12.88, \"Number of bytes\": 100000, \"Number of engines\": 1, \"Scheduler name\": \"DirectView\", \"Speedup\": 1.0}, {\"Duration in ms\": 77.96, \"Number of bytes\": 1000000, \"Number of engines\": 1, \"Scheduler name\": \"DirectView\", \"Speedup\": 1.0}, {\"Duration in ms\": 148.14, \"Number of bytes\": 2000000, \"Number of engines\": 1, \"Scheduler name\": \"DirectView\", \"Speedup\": 1.0}, {\"Duration in ms\": 5.04, \"Number of bytes\": 1000, \"Number of engines\": 2, \"Scheduler name\": \"DirectView\", \"Speedup\": 1.0}, {\"Duration in ms\": 5.58, \"Number of bytes\": 10000, \"Number of engines\": 2, \"Scheduler name\": \"DirectView\", \"Speedup\": 1.0}, {\"Duration in ms\": 12.46, \"Number of bytes\": 100000, \"Number of engines\": 2, \"Scheduler name\": \"DirectView\", \"Speedup\": 1.0}, {\"Duration in ms\": 75.03, \"Number of bytes\": 1000000, \"Number of engines\": 2, \"Scheduler name\": \"DirectView\", \"Speedup\": 1.0}, {\"Duration in ms\": 146.89, \"Number of bytes\": 2000000, \"Number of engines\": 2, \"Scheduler name\": \"DirectView\", \"Speedup\": 1.0}, {\"Duration in ms\": 15.08, \"Number of bytes\": 1000, \"Number of engines\": 16, \"Scheduler name\": \"DirectView\", \"Speedup\": 1.0}, {\"Duration in ms\": 16.2, \"Number of bytes\": 10000, \"Number of engines\": 16, \"Scheduler name\": \"DirectView\", \"Speedup\": 1.0}, {\"Duration in ms\": 22.81, \"Number of bytes\": 100000, \"Number of engines\": 16, \"Scheduler name\": \"DirectView\", \"Speedup\": 1.0}, {\"Duration in ms\": 93.53, \"Number of bytes\": 1000000, \"Number of engines\": 16, \"Scheduler name\": \"DirectView\", \"Speedup\": 1.0}, {\"Duration in ms\": 181.98, \"Number of bytes\": 2000000, \"Number of engines\": 16, \"Scheduler name\": \"DirectView\", \"Speedup\": 1.0}, {\"Duration in ms\": 42.96, \"Number of bytes\": 1000, \"Number of engines\": 64, \"Scheduler name\": \"DirectView\", \"Speedup\": 1.0}, {\"Duration in ms\": 44.01, \"Number of bytes\": 10000, \"Number of engines\": 64, \"Scheduler name\": \"DirectView\", \"Speedup\": 1.0}, {\"Duration in ms\": 55.1, \"Number of bytes\": 100000, \"Number of engines\": 64, \"Scheduler name\": \"DirectView\", \"Speedup\": 1.0}, {\"Duration in ms\": 189.02, \"Number of bytes\": 1000000, \"Number of engines\": 64, \"Scheduler name\": \"DirectView\", \"Speedup\": 1.0}, {\"Duration in ms\": 314.97, \"Number of bytes\": 2000000, \"Number of engines\": 64, \"Scheduler name\": \"DirectView\", \"Speedup\": 1.0}, {\"Duration in ms\": 86.34, \"Number of bytes\": 1000, \"Number of engines\": 128, \"Scheduler name\": \"DirectView\", \"Speedup\": 1.0}, {\"Duration in ms\": 84.77, \"Number of bytes\": 10000, \"Number of engines\": 128, \"Scheduler name\": \"DirectView\", \"Speedup\": 1.0}, {\"Duration in ms\": 100.15, \"Number of bytes\": 100000, \"Number of engines\": 128, \"Scheduler name\": \"DirectView\", \"Speedup\": 1.0}, {\"Duration in ms\": 269.62, \"Number of bytes\": 1000000, \"Number of engines\": 128, \"Scheduler name\": \"DirectView\", \"Speedup\": 1.0}, {\"Duration in ms\": 510.78, \"Number of bytes\": 2000000, \"Number of engines\": 128, \"Scheduler name\": \"DirectView\", \"Speedup\": 1.0}, {\"Duration in ms\": 169.66, \"Number of bytes\": 1000, \"Number of engines\": 256, \"Scheduler name\": \"DirectView\", \"Speedup\": 1.0}, {\"Duration in ms\": 169.54, \"Number of bytes\": 10000, \"Number of engines\": 256, \"Scheduler name\": \"DirectView\", \"Speedup\": 1.0}, {\"Duration in ms\": 200.09, \"Number of bytes\": 100000, \"Number of engines\": 256, \"Scheduler name\": \"DirectView\", \"Speedup\": 1.0}, {\"Duration in ms\": 447.31, \"Number of bytes\": 1000000, \"Number of engines\": 256, \"Scheduler name\": \"DirectView\", \"Speedup\": 1.0}, {\"Duration in ms\": 917.11, \"Number of bytes\": 2000000, \"Number of engines\": 256, \"Scheduler name\": \"DirectView\", \"Speedup\": 1.0}, {\"Duration in ms\": 337.34, \"Number of bytes\": 1000, \"Number of engines\": 512, \"Scheduler name\": \"DirectView\", \"Speedup\": 1.0}, {\"Duration in ms\": 329.62, \"Number of bytes\": 10000, \"Number of engines\": 512, \"Scheduler name\": \"DirectView\", \"Speedup\": 1.0}, {\"Duration in ms\": 397.27, \"Number of bytes\": 100000, \"Number of engines\": 512, \"Scheduler name\": \"DirectView\", \"Speedup\": 1.0}, {\"Duration in ms\": 813.7, \"Number of bytes\": 1000000, \"Number of engines\": 512, \"Scheduler name\": \"DirectView\", \"Speedup\": 1.0}, {\"Duration in ms\": 1590.38, \"Number of bytes\": 2000000, \"Number of engines\": 512, \"Scheduler name\": \"DirectView\", \"Speedup\": 1.0}, {\"Duration in ms\": 677.21, \"Number of bytes\": 1000, \"Number of engines\": 1024, \"Scheduler name\": \"DirectView\", \"Speedup\": 1.0}, {\"Duration in ms\": 661.01, \"Number of bytes\": 10000, \"Number of engines\": 1024, \"Scheduler name\": \"DirectView\", \"Speedup\": 1.0}, {\"Duration in ms\": 760.37, \"Number of bytes\": 100000, \"Number of engines\": 1024, \"Scheduler name\": \"DirectView\", \"Speedup\": 1.0}, {\"Duration in ms\": 1979.3, \"Number of bytes\": 1000000, \"Number of engines\": 1024, \"Scheduler name\": \"DirectView\", \"Speedup\": 1.0}, {\"Duration in ms\": 3942.04, \"Number of bytes\": 2000000, \"Number of engines\": 1024, \"Scheduler name\": \"DirectView\", \"Speedup\": 1.0}]}}, {\"renderer\": \"svg\", \"mode\": \"vega-lite\"});\n",
       "</script>"
      ],
      "text/plain": [
       "alt.Chart(...)"
      ]
     },
     "metadata": {},
     "output_type": "display_data"
    }
   ],
   "source": [
    "for scheduler_name in data['Scheduler name'].unique():\n",
    "    scheduler_data = data[data['Scheduler name'] == scheduler_name]\n",
    "    alt.Chart(scheduler_data).mark_line(point=True).encode(\n",
    "        alt.X('Number of bytes', scale=alt.Scale(type='log')),\n",
    "        alt.Y('Duration in ms', scale=alt.Scale(type='log')),\n",
    "        color='Number of engines:N',\n",
    "        tooltip='Duration in ms',\n",
    "    ).properties(title=scheduler_name, width=800).interactive().display(renderer='svg')"
   ]
  },
  {
   "cell_type": "code",
   "execution_count": 33,
   "metadata": {
    "jupyter": {
     "source_hidden": true
    }
   },
   "outputs": [
    {
     "data": {
      "text/markdown": [
       "## Results for duration[DirectView]/duration[scheduler]"
      ],
      "text/plain": [
       "<IPython.core.display.Markdown object>"
      ]
     },
     "metadata": {},
     "output_type": "display_data"
    },
    {
     "data": {
      "text/html": [
       "\n",
       "<div id=\"altair-viz-244f94b437ad433485d705ee55a5f6d5\"></div>\n",
       "<script type=\"text/javascript\">\n",
       "  (function(spec, embedOpt){\n",
       "    let outputDiv = document.currentScript.previousElementSibling;\n",
       "    if (outputDiv.id !== \"altair-viz-244f94b437ad433485d705ee55a5f6d5\") {\n",
       "      outputDiv = document.getElementById(\"altair-viz-244f94b437ad433485d705ee55a5f6d5\");\n",
       "    }\n",
       "    const paths = {\n",
       "      \"vega\": \"https://cdn.jsdelivr.net/npm//vega@5?noext\",\n",
       "      \"vega-lib\": \"https://cdn.jsdelivr.net/npm//vega-lib?noext\",\n",
       "      \"vega-lite\": \"https://cdn.jsdelivr.net/npm//vega-lite@4.8.1?noext\",\n",
       "      \"vega-embed\": \"https://cdn.jsdelivr.net/npm//vega-embed@6?noext\",\n",
       "    };\n",
       "\n",
       "    function loadScript(lib) {\n",
       "      return new Promise(function(resolve, reject) {\n",
       "        var s = document.createElement('script');\n",
       "        s.src = paths[lib];\n",
       "        s.async = true;\n",
       "        s.onload = () => resolve(paths[lib]);\n",
       "        s.onerror = () => reject(`Error loading script: ${paths[lib]}`);\n",
       "        document.getElementsByTagName(\"head\")[0].appendChild(s);\n",
       "      });\n",
       "    }\n",
       "\n",
       "    function showError(err) {\n",
       "      outputDiv.innerHTML = `<div class=\"error\" style=\"color:red;\">${err}</div>`;\n",
       "      throw err;\n",
       "    }\n",
       "\n",
       "    function displayChart(vegaEmbed) {\n",
       "      vegaEmbed(outputDiv, spec, embedOpt)\n",
       "        .catch(err => showError(`Javascript Error: ${err.message}<br>This usually means there's a typo in your chart specification. See the javascript console for the full traceback.`));\n",
       "    }\n",
       "\n",
       "    if(typeof define === \"function\" && define.amd) {\n",
       "      requirejs.config({paths});\n",
       "      require([\"vega-embed\"], displayChart, err => showError(`Error loading script: ${err.message}`));\n",
       "    } else if (typeof vegaEmbed === \"function\") {\n",
       "      displayChart(vegaEmbed);\n",
       "    } else {\n",
       "      loadScript(\"vega\")\n",
       "        .then(() => loadScript(\"vega-lite\"))\n",
       "        .then(() => loadScript(\"vega-embed\"))\n",
       "        .catch(showError)\n",
       "        .then(() => displayChart(vegaEmbed));\n",
       "    }\n",
       "  })({\"config\": {\"view\": {\"continuousWidth\": 400, \"continuousHeight\": 300}}, \"data\": {\"name\": \"data-66acc90628e73c9b22f0e92920528b6b\"}, \"mark\": {\"type\": \"line\", \"point\": true}, \"encoding\": {\"color\": {\"type\": \"nominal\", \"field\": \"Number of engines\"}, \"tooltip\": {\"type\": \"quantitative\", \"field\": \"Number of engines\"}, \"x\": {\"type\": \"quantitative\", \"field\": \"Number of bytes\", \"scale\": {\"type\": \"log\"}}, \"y\": {\"type\": \"quantitative\", \"field\": \"Speedup\"}}, \"selection\": {\"selector043\": {\"type\": \"interval\", \"bind\": \"scales\", \"encodings\": [\"x\", \"y\"]}}, \"title\": \"NonCoalescing\", \"width\": 800, \"$schema\": \"https://vega.github.io/schema/vega-lite/v4.8.1.json\", \"datasets\": {\"data-66acc90628e73c9b22f0e92920528b6b\": [{\"Duration in ms\": 9.45, \"Number of bytes\": 1000, \"Number of engines\": 1, \"Scheduler name\": \"NonCoalescing\", \"Speedup\": 0.4846560846560847}, {\"Duration in ms\": 9.47, \"Number of bytes\": 10000, \"Number of engines\": 1, \"Scheduler name\": \"NonCoalescing\", \"Speedup\": 0.587117212249208}, {\"Duration in ms\": 17.83, \"Number of bytes\": 100000, \"Number of engines\": 1, \"Scheduler name\": \"NonCoalescing\", \"Speedup\": 0.722378014582165}, {\"Duration in ms\": 89.25, \"Number of bytes\": 1000000, \"Number of engines\": 1, \"Scheduler name\": \"NonCoalescing\", \"Speedup\": 0.8735014005602241}, {\"Duration in ms\": 172.51, \"Number of bytes\": 2000000, \"Number of engines\": 1, \"Scheduler name\": \"NonCoalescing\", \"Speedup\": 0.858732827082488}, {\"Duration in ms\": 9.85, \"Number of bytes\": 1000, \"Number of engines\": 2, \"Scheduler name\": \"NonCoalescing\", \"Speedup\": 0.5116751269035533}, {\"Duration in ms\": 10.35, \"Number of bytes\": 10000, \"Number of engines\": 2, \"Scheduler name\": \"NonCoalescing\", \"Speedup\": 0.5391304347826087}, {\"Duration in ms\": 18.7, \"Number of bytes\": 100000, \"Number of engines\": 2, \"Scheduler name\": \"NonCoalescing\", \"Speedup\": 0.6663101604278076}, {\"Duration in ms\": 89.76, \"Number of bytes\": 1000000, \"Number of engines\": 2, \"Scheduler name\": \"NonCoalescing\", \"Speedup\": 0.8358957219251336}, {\"Duration in ms\": 171.09, \"Number of bytes\": 2000000, \"Number of engines\": 2, \"Scheduler name\": \"NonCoalescing\", \"Speedup\": 0.8585539774387748}, {\"Duration in ms\": 17.02, \"Number of bytes\": 1000, \"Number of engines\": 16, \"Scheduler name\": \"NonCoalescing\", \"Speedup\": 0.8860164512338425}, {\"Duration in ms\": 18.02, \"Number of bytes\": 10000, \"Number of engines\": 16, \"Scheduler name\": \"NonCoalescing\", \"Speedup\": 0.8990011098779134}, {\"Duration in ms\": 25.29, \"Number of bytes\": 100000, \"Number of engines\": 16, \"Scheduler name\": \"NonCoalescing\", \"Speedup\": 0.9019375247133254}, {\"Duration in ms\": 104.59, \"Number of bytes\": 1000000, \"Number of engines\": 16, \"Scheduler name\": \"NonCoalescing\", \"Speedup\": 0.8942537527488288}, {\"Duration in ms\": 202.18, \"Number of bytes\": 2000000, \"Number of engines\": 16, \"Scheduler name\": \"NonCoalescing\", \"Speedup\": 0.9000890295776041}, {\"Duration in ms\": 46.06, \"Number of bytes\": 1000, \"Number of engines\": 64, \"Scheduler name\": \"NonCoalescing\", \"Speedup\": 0.9326964828484585}, {\"Duration in ms\": 47.91, \"Number of bytes\": 10000, \"Number of engines\": 64, \"Scheduler name\": \"NonCoalescing\", \"Speedup\": 0.9185973700688792}, {\"Duration in ms\": 55.13, \"Number of bytes\": 100000, \"Number of engines\": 64, \"Scheduler name\": \"NonCoalescing\", \"Speedup\": 0.9994558316705967}, {\"Duration in ms\": 184.33, \"Number of bytes\": 1000000, \"Number of engines\": 64, \"Scheduler name\": \"NonCoalescing\", \"Speedup\": 1.0254434980741063}, {\"Duration in ms\": 334.23, \"Number of bytes\": 2000000, \"Number of engines\": 64, \"Scheduler name\": \"NonCoalescing\", \"Speedup\": 0.9423750112198187}, {\"Duration in ms\": 84.59, \"Number of bytes\": 1000, \"Number of engines\": 128, \"Scheduler name\": \"NonCoalescing\", \"Speedup\": 1.020688024589195}, {\"Duration in ms\": 84.78, \"Number of bytes\": 10000, \"Number of engines\": 128, \"Scheduler name\": \"NonCoalescing\", \"Speedup\": 0.9998820476527482}, {\"Duration in ms\": 94.17, \"Number of bytes\": 100000, \"Number of engines\": 128, \"Scheduler name\": \"NonCoalescing\", \"Speedup\": 1.0635021769140915}, {\"Duration in ms\": 219.61, \"Number of bytes\": 1000000, \"Number of engines\": 128, \"Scheduler name\": \"NonCoalescing\", \"Speedup\": 1.227721870588771}, {\"Duration in ms\": 488.44, \"Number of bytes\": 2000000, \"Number of engines\": 128, \"Scheduler name\": \"NonCoalescing\", \"Speedup\": 1.0457374498403078}, {\"Duration in ms\": 164.03, \"Number of bytes\": 1000, \"Number of engines\": 256, \"Scheduler name\": \"NonCoalescing\", \"Speedup\": 1.0343229896970065}, {\"Duration in ms\": 166.09, \"Number of bytes\": 10000, \"Number of engines\": 256, \"Scheduler name\": \"NonCoalescing\", \"Speedup\": 1.0207718706725268}, {\"Duration in ms\": 176.12, \"Number of bytes\": 100000, \"Number of engines\": 256, \"Scheduler name\": \"NonCoalescing\", \"Speedup\": 1.136100386100386}, {\"Duration in ms\": 340.9, \"Number of bytes\": 1000000, \"Number of engines\": 256, \"Scheduler name\": \"NonCoalescing\", \"Speedup\": 1.312144323848636}, {\"Duration in ms\": 909.45, \"Number of bytes\": 2000000, \"Number of engines\": 256, \"Scheduler name\": \"NonCoalescing\", \"Speedup\": 1.0084226730441475}, {\"Duration in ms\": 316.77, \"Number of bytes\": 1000, \"Number of engines\": 512, \"Scheduler name\": \"NonCoalescing\", \"Speedup\": 1.0649367048647282}, {\"Duration in ms\": 314.19, \"Number of bytes\": 10000, \"Number of engines\": 512, \"Scheduler name\": \"NonCoalescing\", \"Speedup\": 1.0491104108978644}, {\"Duration in ms\": 341.05, \"Number of bytes\": 100000, \"Number of engines\": 512, \"Scheduler name\": \"NonCoalescing\", \"Speedup\": 1.1648438645359918}, {\"Duration in ms\": 617.82, \"Number of bytes\": 1000000, \"Number of engines\": 512, \"Scheduler name\": \"NonCoalescing\", \"Speedup\": 1.3170502735424556}, {\"Duration in ms\": 2062.45, \"Number of bytes\": 2000000, \"Number of engines\": 512, \"Scheduler name\": \"NonCoalescing\", \"Speedup\": 0.7711120269582294}, {\"Duration in ms\": 617.38, \"Number of bytes\": 1000, \"Number of engines\": 1024, \"Scheduler name\": \"NonCoalescing\", \"Speedup\": 1.0969095208785513}, {\"Duration in ms\": 619.59, \"Number of bytes\": 10000, \"Number of engines\": 1024, \"Scheduler name\": \"NonCoalescing\", \"Speedup\": 1.0668506593069609}, {\"Duration in ms\": 652.45, \"Number of bytes\": 100000, \"Number of engines\": 1024, \"Scheduler name\": \"NonCoalescing\", \"Speedup\": 1.1654073109050502}, {\"Duration in ms\": 1132.67, \"Number of bytes\": 1000000, \"Number of engines\": 1024, \"Scheduler name\": \"NonCoalescing\", \"Speedup\": 1.7474639568453298}, {\"Duration in ms\": 4143.3, \"Number of bytes\": 2000000, \"Number of engines\": 1024, \"Scheduler name\": \"NonCoalescing\", \"Speedup\": 0.9514251924794246}]}}, {\"renderer\": \"svg\", \"mode\": \"vega-lite\"});\n",
       "</script>"
      ],
      "text/plain": [
       "alt.Chart(...)"
      ]
     },
     "metadata": {},
     "output_type": "display_data"
    },
    {
     "data": {
      "text/html": [
       "\n",
       "<div id=\"altair-viz-1f039e6be7474c0b98c1389a01540324\"></div>\n",
       "<script type=\"text/javascript\">\n",
       "  (function(spec, embedOpt){\n",
       "    let outputDiv = document.currentScript.previousElementSibling;\n",
       "    if (outputDiv.id !== \"altair-viz-1f039e6be7474c0b98c1389a01540324\") {\n",
       "      outputDiv = document.getElementById(\"altair-viz-1f039e6be7474c0b98c1389a01540324\");\n",
       "    }\n",
       "    const paths = {\n",
       "      \"vega\": \"https://cdn.jsdelivr.net/npm//vega@5?noext\",\n",
       "      \"vega-lib\": \"https://cdn.jsdelivr.net/npm//vega-lib?noext\",\n",
       "      \"vega-lite\": \"https://cdn.jsdelivr.net/npm//vega-lite@4.8.1?noext\",\n",
       "      \"vega-embed\": \"https://cdn.jsdelivr.net/npm//vega-embed@6?noext\",\n",
       "    };\n",
       "\n",
       "    function loadScript(lib) {\n",
       "      return new Promise(function(resolve, reject) {\n",
       "        var s = document.createElement('script');\n",
       "        s.src = paths[lib];\n",
       "        s.async = true;\n",
       "        s.onload = () => resolve(paths[lib]);\n",
       "        s.onerror = () => reject(`Error loading script: ${paths[lib]}`);\n",
       "        document.getElementsByTagName(\"head\")[0].appendChild(s);\n",
       "      });\n",
       "    }\n",
       "\n",
       "    function showError(err) {\n",
       "      outputDiv.innerHTML = `<div class=\"error\" style=\"color:red;\">${err}</div>`;\n",
       "      throw err;\n",
       "    }\n",
       "\n",
       "    function displayChart(vegaEmbed) {\n",
       "      vegaEmbed(outputDiv, spec, embedOpt)\n",
       "        .catch(err => showError(`Javascript Error: ${err.message}<br>This usually means there's a typo in your chart specification. See the javascript console for the full traceback.`));\n",
       "    }\n",
       "\n",
       "    if(typeof define === \"function\" && define.amd) {\n",
       "      requirejs.config({paths});\n",
       "      require([\"vega-embed\"], displayChart, err => showError(`Error loading script: ${err.message}`));\n",
       "    } else if (typeof vegaEmbed === \"function\") {\n",
       "      displayChart(vegaEmbed);\n",
       "    } else {\n",
       "      loadScript(\"vega\")\n",
       "        .then(() => loadScript(\"vega-lite\"))\n",
       "        .then(() => loadScript(\"vega-embed\"))\n",
       "        .catch(showError)\n",
       "        .then(() => displayChart(vegaEmbed));\n",
       "    }\n",
       "  })({\"config\": {\"view\": {\"continuousWidth\": 400, \"continuousHeight\": 300}}, \"data\": {\"name\": \"data-2574d3625daf177acfd31f03a7c51625\"}, \"mark\": {\"type\": \"line\", \"point\": true}, \"encoding\": {\"color\": {\"type\": \"nominal\", \"field\": \"Number of engines\"}, \"tooltip\": {\"type\": \"quantitative\", \"field\": \"Number of engines\"}, \"x\": {\"type\": \"quantitative\", \"field\": \"Number of bytes\", \"scale\": {\"type\": \"log\"}}, \"y\": {\"type\": \"quantitative\", \"field\": \"Speedup\"}}, \"selection\": {\"selector044\": {\"type\": \"interval\", \"bind\": \"scales\", \"encodings\": [\"x\", \"y\"]}}, \"title\": \"Coalescing\", \"width\": 800, \"$schema\": \"https://vega.github.io/schema/vega-lite/v4.8.1.json\", \"datasets\": {\"data-2574d3625daf177acfd31f03a7c51625\": [{\"Duration in ms\": 8.85, \"Number of bytes\": 1000, \"Number of engines\": 1, \"Scheduler name\": \"Coalescing\", \"Speedup\": 0.5175141242937853}, {\"Duration in ms\": 9.69, \"Number of bytes\": 10000, \"Number of engines\": 1, \"Scheduler name\": \"Coalescing\", \"Speedup\": 0.5737874097007224}, {\"Duration in ms\": 17.9, \"Number of bytes\": 100000, \"Number of engines\": 1, \"Scheduler name\": \"Coalescing\", \"Speedup\": 0.7195530726256985}, {\"Duration in ms\": 86.69, \"Number of bytes\": 1000000, \"Number of engines\": 1, \"Scheduler name\": \"Coalescing\", \"Speedup\": 0.8992963432921905}, {\"Duration in ms\": 164.8, \"Number of bytes\": 2000000, \"Number of engines\": 1, \"Scheduler name\": \"Coalescing\", \"Speedup\": 0.8989077669902911}, {\"Duration in ms\": 8.9, \"Number of bytes\": 1000, \"Number of engines\": 2, \"Scheduler name\": \"Coalescing\", \"Speedup\": 0.5662921348314607}, {\"Duration in ms\": 9.67, \"Number of bytes\": 10000, \"Number of engines\": 2, \"Scheduler name\": \"Coalescing\", \"Speedup\": 0.5770423991726991}, {\"Duration in ms\": 18.02, \"Number of bytes\": 100000, \"Number of engines\": 2, \"Scheduler name\": \"Coalescing\", \"Speedup\": 0.6914539400665928}, {\"Duration in ms\": 87.85, \"Number of bytes\": 1000000, \"Number of engines\": 2, \"Scheduler name\": \"Coalescing\", \"Speedup\": 0.8540694365395561}, {\"Duration in ms\": 167.42, \"Number of bytes\": 2000000, \"Number of engines\": 2, \"Scheduler name\": \"Coalescing\", \"Speedup\": 0.8773742683072512}, {\"Duration in ms\": 11.14, \"Number of bytes\": 1000, \"Number of engines\": 16, \"Scheduler name\": \"Coalescing\", \"Speedup\": 1.3536804308797128}, {\"Duration in ms\": 12.91, \"Number of bytes\": 10000, \"Number of engines\": 16, \"Scheduler name\": \"Coalescing\", \"Speedup\": 1.254841208365608}, {\"Duration in ms\": 21.87, \"Number of bytes\": 100000, \"Number of engines\": 16, \"Scheduler name\": \"Coalescing\", \"Speedup\": 1.042981252857796}, {\"Duration in ms\": 111.43, \"Number of bytes\": 1000000, \"Number of engines\": 16, \"Scheduler name\": \"Coalescing\", \"Speedup\": 0.8393610338328995}, {\"Duration in ms\": 208.08, \"Number of bytes\": 2000000, \"Number of engines\": 16, \"Scheduler name\": \"Coalescing\", \"Speedup\": 0.8745674740484428}, {\"Duration in ms\": 17.37, \"Number of bytes\": 1000, \"Number of engines\": 64, \"Scheduler name\": \"Coalescing\", \"Speedup\": 2.473229706390328}, {\"Duration in ms\": 21.28, \"Number of bytes\": 10000, \"Number of engines\": 64, \"Scheduler name\": \"Coalescing\", \"Speedup\": 2.0681390977443606}, {\"Duration in ms\": 34.39, \"Number of bytes\": 100000, \"Number of engines\": 64, \"Scheduler name\": \"Coalescing\", \"Speedup\": 1.6022099447513811}, {\"Duration in ms\": 205.81, \"Number of bytes\": 1000000, \"Number of engines\": 64, \"Scheduler name\": \"Coalescing\", \"Speedup\": 0.918419901851222}, {\"Duration in ms\": 410.5, \"Number of bytes\": 2000000, \"Number of engines\": 64, \"Scheduler name\": \"Coalescing\", \"Speedup\": 0.7672838002436054}, {\"Duration in ms\": 25.94, \"Number of bytes\": 1000, \"Number of engines\": 128, \"Scheduler name\": \"Coalescing\", \"Speedup\": 3.328450269853508}, {\"Duration in ms\": 32.94, \"Number of bytes\": 10000, \"Number of engines\": 128, \"Scheduler name\": \"Coalescing\", \"Speedup\": 2.5734669095324834}, {\"Duration in ms\": 55.92, \"Number of bytes\": 100000, \"Number of engines\": 128, \"Scheduler name\": \"Coalescing\", \"Speedup\": 1.7909513590844064}, {\"Duration in ms\": 266.17, \"Number of bytes\": 1000000, \"Number of engines\": 128, \"Scheduler name\": \"Coalescing\", \"Speedup\": 1.0129616410564677}, {\"Duration in ms\": 606.74, \"Number of bytes\": 2000000, \"Number of engines\": 128, \"Scheduler name\": \"Coalescing\", \"Speedup\": 0.8418432936677983}, {\"Duration in ms\": 44.39, \"Number of bytes\": 1000, \"Number of engines\": 256, \"Scheduler name\": \"Coalescing\", \"Speedup\": 3.822031989186754}, {\"Duration in ms\": 58.25, \"Number of bytes\": 10000, \"Number of engines\": 256, \"Scheduler name\": \"Coalescing\", \"Speedup\": 2.910557939914163}, {\"Duration in ms\": 91.83, \"Number of bytes\": 100000, \"Number of engines\": 256, \"Scheduler name\": \"Coalescing\", \"Speedup\": 2.1789175650658827}, {\"Duration in ms\": 430.56, \"Number of bytes\": 1000000, \"Number of engines\": 256, \"Scheduler name\": \"Coalescing\", \"Speedup\": 1.0389028242289111}, {\"Duration in ms\": 1091.45, \"Number of bytes\": 2000000, \"Number of engines\": 256, \"Scheduler name\": \"Coalescing\", \"Speedup\": 0.8402675340143845}, {\"Duration in ms\": 84.11, \"Number of bytes\": 1000, \"Number of engines\": 512, \"Scheduler name\": \"Coalescing\", \"Speedup\": 4.010700273451432}, {\"Duration in ms\": 110.52, \"Number of bytes\": 10000, \"Number of engines\": 512, \"Scheduler name\": \"Coalescing\", \"Speedup\": 2.982446615997105}, {\"Duration in ms\": 173.32, \"Number of bytes\": 100000, \"Number of engines\": 512, \"Scheduler name\": \"Coalescing\", \"Speedup\": 2.2921186245095777}, {\"Duration in ms\": 884.62, \"Number of bytes\": 1000000, \"Number of engines\": 512, \"Scheduler name\": \"Coalescing\", \"Speedup\": 0.9198299834957383}, {\"Duration in ms\": 2253.55, \"Number of bytes\": 2000000, \"Number of engines\": 512, \"Scheduler name\": \"Coalescing\", \"Speedup\": 0.7057220829358124}, {\"Duration in ms\": 176.21, \"Number of bytes\": 1000, \"Number of engines\": 1024, \"Scheduler name\": \"Coalescing\", \"Speedup\": 3.8431984563872654}, {\"Duration in ms\": 221.57, \"Number of bytes\": 10000, \"Number of engines\": 1024, \"Scheduler name\": \"Coalescing\", \"Speedup\": 2.983300988400957}, {\"Duration in ms\": 354.27, \"Number of bytes\": 100000, \"Number of engines\": 1024, \"Scheduler name\": \"Coalescing\", \"Speedup\": 2.146300843989048}, {\"Duration in ms\": 1699.83, \"Number of bytes\": 1000000, \"Number of engines\": 1024, \"Scheduler name\": \"Coalescing\", \"Speedup\": 1.1644105587029292}, {\"Duration in ms\": 4317.67, \"Number of bytes\": 2000000, \"Number of engines\": 1024, \"Scheduler name\": \"Coalescing\", \"Speedup\": 0.9130016884106474}]}}, {\"renderer\": \"svg\", \"mode\": \"vega-lite\"});\n",
       "</script>"
      ],
      "text/plain": [
       "alt.Chart(...)"
      ]
     },
     "metadata": {},
     "output_type": "display_data"
    }
   ],
   "source": [
    "display(Markdown('## Results for duration[DirectView]/duration[scheduler]'))\n",
    "for scheduler_name in data['Scheduler name'].unique():\n",
    "    if scheduler_name == 'DirectView':\n",
    "        continue\n",
    "    alt.Chart(data[data['Scheduler name'] == scheduler_name]).mark_line(\n",
    "        point=True\n",
    "    ).encode(\n",
    "        alt.X('Number of bytes', scale=alt.Scale(type='log')),\n",
    "        alt.Y(\n",
    "            'Speedup',\n",
    "        ),\n",
    "        color='Number of engines:N',\n",
    "        tooltip='Number of engines',\n",
    "    ).properties(title=scheduler_name, width=800).interactive().display(renderer='svg')"
   ]
  },
  {
   "cell_type": "code",
   "execution_count": 34,
   "metadata": {
    "jupyter": {
     "source_hidden": true
    }
   },
   "outputs": [
    {
     "data": {
      "text/markdown": [
       "### Running on 1 engines"
      ],
      "text/plain": [
       "<IPython.core.display.Markdown object>"
      ]
     },
     "metadata": {},
     "output_type": "display_data"
    },
    {
     "data": {
      "text/html": [
       "\n",
       "<div id=\"altair-viz-c3488ced4d6045a29353cac0a95b30fe\"></div>\n",
       "<script type=\"text/javascript\">\n",
       "  (function(spec, embedOpt){\n",
       "    let outputDiv = document.currentScript.previousElementSibling;\n",
       "    if (outputDiv.id !== \"altair-viz-c3488ced4d6045a29353cac0a95b30fe\") {\n",
       "      outputDiv = document.getElementById(\"altair-viz-c3488ced4d6045a29353cac0a95b30fe\");\n",
       "    }\n",
       "    const paths = {\n",
       "      \"vega\": \"https://cdn.jsdelivr.net/npm//vega@5?noext\",\n",
       "      \"vega-lib\": \"https://cdn.jsdelivr.net/npm//vega-lib?noext\",\n",
       "      \"vega-lite\": \"https://cdn.jsdelivr.net/npm//vega-lite@4.8.1?noext\",\n",
       "      \"vega-embed\": \"https://cdn.jsdelivr.net/npm//vega-embed@6?noext\",\n",
       "    };\n",
       "\n",
       "    function loadScript(lib) {\n",
       "      return new Promise(function(resolve, reject) {\n",
       "        var s = document.createElement('script');\n",
       "        s.src = paths[lib];\n",
       "        s.async = true;\n",
       "        s.onload = () => resolve(paths[lib]);\n",
       "        s.onerror = () => reject(`Error loading script: ${paths[lib]}`);\n",
       "        document.getElementsByTagName(\"head\")[0].appendChild(s);\n",
       "      });\n",
       "    }\n",
       "\n",
       "    function showError(err) {\n",
       "      outputDiv.innerHTML = `<div class=\"error\" style=\"color:red;\">${err}</div>`;\n",
       "      throw err;\n",
       "    }\n",
       "\n",
       "    function displayChart(vegaEmbed) {\n",
       "      vegaEmbed(outputDiv, spec, embedOpt)\n",
       "        .catch(err => showError(`Javascript Error: ${err.message}<br>This usually means there's a typo in your chart specification. See the javascript console for the full traceback.`));\n",
       "    }\n",
       "\n",
       "    if(typeof define === \"function\" && define.amd) {\n",
       "      requirejs.config({paths});\n",
       "      require([\"vega-embed\"], displayChart, err => showError(`Error loading script: ${err.message}`));\n",
       "    } else if (typeof vegaEmbed === \"function\") {\n",
       "      displayChart(vegaEmbed);\n",
       "    } else {\n",
       "      loadScript(\"vega\")\n",
       "        .then(() => loadScript(\"vega-lite\"))\n",
       "        .then(() => loadScript(\"vega-embed\"))\n",
       "        .catch(showError)\n",
       "        .then(() => displayChart(vegaEmbed));\n",
       "    }\n",
       "  })({\"config\": {\"view\": {\"continuousWidth\": 400, \"continuousHeight\": 300}}, \"data\": {\"name\": \"data-0440ad4e8611b0ea62c3981b00e7f59b\"}, \"mark\": {\"type\": \"line\", \"point\": true}, \"encoding\": {\"color\": {\"type\": \"nominal\", \"field\": \"Scheduler name\"}, \"tooltip\": {\"type\": \"quantitative\", \"field\": \"Duration in ms\"}, \"x\": {\"type\": \"quantitative\", \"field\": \"Number of bytes\", \"scale\": {\"type\": \"log\"}}, \"y\": {\"type\": \"quantitative\", \"field\": \"Speedup\"}}, \"selection\": {\"selector045\": {\"type\": \"interval\", \"bind\": \"scales\", \"encodings\": [\"x\", \"y\"]}}, \"title\": \"schedulers vs directView\", \"width\": 800, \"$schema\": \"https://vega.github.io/schema/vega-lite/v4.8.1.json\", \"datasets\": {\"data-0440ad4e8611b0ea62c3981b00e7f59b\": [{\"Duration in ms\": 9.45, \"Number of bytes\": 1000, \"Number of engines\": 1, \"Scheduler name\": \"NonCoalescing\", \"Speedup\": 0.4846560846560847}, {\"Duration in ms\": 9.47, \"Number of bytes\": 10000, \"Number of engines\": 1, \"Scheduler name\": \"NonCoalescing\", \"Speedup\": 0.587117212249208}, {\"Duration in ms\": 17.83, \"Number of bytes\": 100000, \"Number of engines\": 1, \"Scheduler name\": \"NonCoalescing\", \"Speedup\": 0.722378014582165}, {\"Duration in ms\": 89.25, \"Number of bytes\": 1000000, \"Number of engines\": 1, \"Scheduler name\": \"NonCoalescing\", \"Speedup\": 0.8735014005602241}, {\"Duration in ms\": 172.51, \"Number of bytes\": 2000000, \"Number of engines\": 1, \"Scheduler name\": \"NonCoalescing\", \"Speedup\": 0.858732827082488}, {\"Duration in ms\": 8.85, \"Number of bytes\": 1000, \"Number of engines\": 1, \"Scheduler name\": \"Coalescing\", \"Speedup\": 0.5175141242937853}, {\"Duration in ms\": 9.69, \"Number of bytes\": 10000, \"Number of engines\": 1, \"Scheduler name\": \"Coalescing\", \"Speedup\": 0.5737874097007224}, {\"Duration in ms\": 17.9, \"Number of bytes\": 100000, \"Number of engines\": 1, \"Scheduler name\": \"Coalescing\", \"Speedup\": 0.7195530726256985}, {\"Duration in ms\": 86.69, \"Number of bytes\": 1000000, \"Number of engines\": 1, \"Scheduler name\": \"Coalescing\", \"Speedup\": 0.8992963432921905}, {\"Duration in ms\": 164.8, \"Number of bytes\": 2000000, \"Number of engines\": 1, \"Scheduler name\": \"Coalescing\", \"Speedup\": 0.8989077669902911}]}}, {\"renderer\": \"svg\", \"mode\": \"vega-lite\"});\n",
       "</script>"
      ],
      "text/plain": [
       "alt.Chart(...)"
      ]
     },
     "metadata": {},
     "output_type": "display_data"
    },
    {
     "data": {
      "text/markdown": [
       "### Running on 2 engines"
      ],
      "text/plain": [
       "<IPython.core.display.Markdown object>"
      ]
     },
     "metadata": {},
     "output_type": "display_data"
    },
    {
     "data": {
      "text/html": [
       "\n",
       "<div id=\"altair-viz-de05e16b2ca049a1bd4390fafef7663a\"></div>\n",
       "<script type=\"text/javascript\">\n",
       "  (function(spec, embedOpt){\n",
       "    let outputDiv = document.currentScript.previousElementSibling;\n",
       "    if (outputDiv.id !== \"altair-viz-de05e16b2ca049a1bd4390fafef7663a\") {\n",
       "      outputDiv = document.getElementById(\"altair-viz-de05e16b2ca049a1bd4390fafef7663a\");\n",
       "    }\n",
       "    const paths = {\n",
       "      \"vega\": \"https://cdn.jsdelivr.net/npm//vega@5?noext\",\n",
       "      \"vega-lib\": \"https://cdn.jsdelivr.net/npm//vega-lib?noext\",\n",
       "      \"vega-lite\": \"https://cdn.jsdelivr.net/npm//vega-lite@4.8.1?noext\",\n",
       "      \"vega-embed\": \"https://cdn.jsdelivr.net/npm//vega-embed@6?noext\",\n",
       "    };\n",
       "\n",
       "    function loadScript(lib) {\n",
       "      return new Promise(function(resolve, reject) {\n",
       "        var s = document.createElement('script');\n",
       "        s.src = paths[lib];\n",
       "        s.async = true;\n",
       "        s.onload = () => resolve(paths[lib]);\n",
       "        s.onerror = () => reject(`Error loading script: ${paths[lib]}`);\n",
       "        document.getElementsByTagName(\"head\")[0].appendChild(s);\n",
       "      });\n",
       "    }\n",
       "\n",
       "    function showError(err) {\n",
       "      outputDiv.innerHTML = `<div class=\"error\" style=\"color:red;\">${err}</div>`;\n",
       "      throw err;\n",
       "    }\n",
       "\n",
       "    function displayChart(vegaEmbed) {\n",
       "      vegaEmbed(outputDiv, spec, embedOpt)\n",
       "        .catch(err => showError(`Javascript Error: ${err.message}<br>This usually means there's a typo in your chart specification. See the javascript console for the full traceback.`));\n",
       "    }\n",
       "\n",
       "    if(typeof define === \"function\" && define.amd) {\n",
       "      requirejs.config({paths});\n",
       "      require([\"vega-embed\"], displayChart, err => showError(`Error loading script: ${err.message}`));\n",
       "    } else if (typeof vegaEmbed === \"function\") {\n",
       "      displayChart(vegaEmbed);\n",
       "    } else {\n",
       "      loadScript(\"vega\")\n",
       "        .then(() => loadScript(\"vega-lite\"))\n",
       "        .then(() => loadScript(\"vega-embed\"))\n",
       "        .catch(showError)\n",
       "        .then(() => displayChart(vegaEmbed));\n",
       "    }\n",
       "  })({\"config\": {\"view\": {\"continuousWidth\": 400, \"continuousHeight\": 300}}, \"data\": {\"name\": \"data-9a6930e69cbd1d65145edab2df56d729\"}, \"mark\": {\"type\": \"line\", \"point\": true}, \"encoding\": {\"color\": {\"type\": \"nominal\", \"field\": \"Scheduler name\"}, \"tooltip\": {\"type\": \"quantitative\", \"field\": \"Duration in ms\"}, \"x\": {\"type\": \"quantitative\", \"field\": \"Number of bytes\", \"scale\": {\"type\": \"log\"}}, \"y\": {\"type\": \"quantitative\", \"field\": \"Speedup\"}}, \"selection\": {\"selector046\": {\"type\": \"interval\", \"bind\": \"scales\", \"encodings\": [\"x\", \"y\"]}}, \"title\": \"schedulers vs directView\", \"width\": 800, \"$schema\": \"https://vega.github.io/schema/vega-lite/v4.8.1.json\", \"datasets\": {\"data-9a6930e69cbd1d65145edab2df56d729\": [{\"Duration in ms\": 9.85, \"Number of bytes\": 1000, \"Number of engines\": 2, \"Scheduler name\": \"NonCoalescing\", \"Speedup\": 0.5116751269035533}, {\"Duration in ms\": 10.35, \"Number of bytes\": 10000, \"Number of engines\": 2, \"Scheduler name\": \"NonCoalescing\", \"Speedup\": 0.5391304347826087}, {\"Duration in ms\": 18.7, \"Number of bytes\": 100000, \"Number of engines\": 2, \"Scheduler name\": \"NonCoalescing\", \"Speedup\": 0.6663101604278076}, {\"Duration in ms\": 89.76, \"Number of bytes\": 1000000, \"Number of engines\": 2, \"Scheduler name\": \"NonCoalescing\", \"Speedup\": 0.8358957219251336}, {\"Duration in ms\": 171.09, \"Number of bytes\": 2000000, \"Number of engines\": 2, \"Scheduler name\": \"NonCoalescing\", \"Speedup\": 0.8585539774387748}, {\"Duration in ms\": 8.9, \"Number of bytes\": 1000, \"Number of engines\": 2, \"Scheduler name\": \"Coalescing\", \"Speedup\": 0.5662921348314607}, {\"Duration in ms\": 9.67, \"Number of bytes\": 10000, \"Number of engines\": 2, \"Scheduler name\": \"Coalescing\", \"Speedup\": 0.5770423991726991}, {\"Duration in ms\": 18.02, \"Number of bytes\": 100000, \"Number of engines\": 2, \"Scheduler name\": \"Coalescing\", \"Speedup\": 0.6914539400665928}, {\"Duration in ms\": 87.85, \"Number of bytes\": 1000000, \"Number of engines\": 2, \"Scheduler name\": \"Coalescing\", \"Speedup\": 0.8540694365395561}, {\"Duration in ms\": 167.42, \"Number of bytes\": 2000000, \"Number of engines\": 2, \"Scheduler name\": \"Coalescing\", \"Speedup\": 0.8773742683072512}]}}, {\"renderer\": \"svg\", \"mode\": \"vega-lite\"});\n",
       "</script>"
      ],
      "text/plain": [
       "alt.Chart(...)"
      ]
     },
     "metadata": {},
     "output_type": "display_data"
    },
    {
     "data": {
      "text/markdown": [
       "### Running on 16 engines"
      ],
      "text/plain": [
       "<IPython.core.display.Markdown object>"
      ]
     },
     "metadata": {},
     "output_type": "display_data"
    },
    {
     "data": {
      "text/html": [
       "\n",
       "<div id=\"altair-viz-36e60d99800d4c2289bce552f86207fa\"></div>\n",
       "<script type=\"text/javascript\">\n",
       "  (function(spec, embedOpt){\n",
       "    let outputDiv = document.currentScript.previousElementSibling;\n",
       "    if (outputDiv.id !== \"altair-viz-36e60d99800d4c2289bce552f86207fa\") {\n",
       "      outputDiv = document.getElementById(\"altair-viz-36e60d99800d4c2289bce552f86207fa\");\n",
       "    }\n",
       "    const paths = {\n",
       "      \"vega\": \"https://cdn.jsdelivr.net/npm//vega@5?noext\",\n",
       "      \"vega-lib\": \"https://cdn.jsdelivr.net/npm//vega-lib?noext\",\n",
       "      \"vega-lite\": \"https://cdn.jsdelivr.net/npm//vega-lite@4.8.1?noext\",\n",
       "      \"vega-embed\": \"https://cdn.jsdelivr.net/npm//vega-embed@6?noext\",\n",
       "    };\n",
       "\n",
       "    function loadScript(lib) {\n",
       "      return new Promise(function(resolve, reject) {\n",
       "        var s = document.createElement('script');\n",
       "        s.src = paths[lib];\n",
       "        s.async = true;\n",
       "        s.onload = () => resolve(paths[lib]);\n",
       "        s.onerror = () => reject(`Error loading script: ${paths[lib]}`);\n",
       "        document.getElementsByTagName(\"head\")[0].appendChild(s);\n",
       "      });\n",
       "    }\n",
       "\n",
       "    function showError(err) {\n",
       "      outputDiv.innerHTML = `<div class=\"error\" style=\"color:red;\">${err}</div>`;\n",
       "      throw err;\n",
       "    }\n",
       "\n",
       "    function displayChart(vegaEmbed) {\n",
       "      vegaEmbed(outputDiv, spec, embedOpt)\n",
       "        .catch(err => showError(`Javascript Error: ${err.message}<br>This usually means there's a typo in your chart specification. See the javascript console for the full traceback.`));\n",
       "    }\n",
       "\n",
       "    if(typeof define === \"function\" && define.amd) {\n",
       "      requirejs.config({paths});\n",
       "      require([\"vega-embed\"], displayChart, err => showError(`Error loading script: ${err.message}`));\n",
       "    } else if (typeof vegaEmbed === \"function\") {\n",
       "      displayChart(vegaEmbed);\n",
       "    } else {\n",
       "      loadScript(\"vega\")\n",
       "        .then(() => loadScript(\"vega-lite\"))\n",
       "        .then(() => loadScript(\"vega-embed\"))\n",
       "        .catch(showError)\n",
       "        .then(() => displayChart(vegaEmbed));\n",
       "    }\n",
       "  })({\"config\": {\"view\": {\"continuousWidth\": 400, \"continuousHeight\": 300}}, \"data\": {\"name\": \"data-abda83efa2eba4f876d6ec4b526c3e9f\"}, \"mark\": {\"type\": \"line\", \"point\": true}, \"encoding\": {\"color\": {\"type\": \"nominal\", \"field\": \"Scheduler name\"}, \"tooltip\": {\"type\": \"quantitative\", \"field\": \"Duration in ms\"}, \"x\": {\"type\": \"quantitative\", \"field\": \"Number of bytes\", \"scale\": {\"type\": \"log\"}}, \"y\": {\"type\": \"quantitative\", \"field\": \"Speedup\"}}, \"selection\": {\"selector047\": {\"type\": \"interval\", \"bind\": \"scales\", \"encodings\": [\"x\", \"y\"]}}, \"title\": \"schedulers vs directView\", \"width\": 800, \"$schema\": \"https://vega.github.io/schema/vega-lite/v4.8.1.json\", \"datasets\": {\"data-abda83efa2eba4f876d6ec4b526c3e9f\": [{\"Duration in ms\": 17.02, \"Number of bytes\": 1000, \"Number of engines\": 16, \"Scheduler name\": \"NonCoalescing\", \"Speedup\": 0.8860164512338425}, {\"Duration in ms\": 18.02, \"Number of bytes\": 10000, \"Number of engines\": 16, \"Scheduler name\": \"NonCoalescing\", \"Speedup\": 0.8990011098779134}, {\"Duration in ms\": 25.29, \"Number of bytes\": 100000, \"Number of engines\": 16, \"Scheduler name\": \"NonCoalescing\", \"Speedup\": 0.9019375247133254}, {\"Duration in ms\": 104.59, \"Number of bytes\": 1000000, \"Number of engines\": 16, \"Scheduler name\": \"NonCoalescing\", \"Speedup\": 0.8942537527488288}, {\"Duration in ms\": 202.18, \"Number of bytes\": 2000000, \"Number of engines\": 16, \"Scheduler name\": \"NonCoalescing\", \"Speedup\": 0.9000890295776041}, {\"Duration in ms\": 11.14, \"Number of bytes\": 1000, \"Number of engines\": 16, \"Scheduler name\": \"Coalescing\", \"Speedup\": 1.3536804308797128}, {\"Duration in ms\": 12.91, \"Number of bytes\": 10000, \"Number of engines\": 16, \"Scheduler name\": \"Coalescing\", \"Speedup\": 1.254841208365608}, {\"Duration in ms\": 21.87, \"Number of bytes\": 100000, \"Number of engines\": 16, \"Scheduler name\": \"Coalescing\", \"Speedup\": 1.042981252857796}, {\"Duration in ms\": 111.43, \"Number of bytes\": 1000000, \"Number of engines\": 16, \"Scheduler name\": \"Coalescing\", \"Speedup\": 0.8393610338328995}, {\"Duration in ms\": 208.08, \"Number of bytes\": 2000000, \"Number of engines\": 16, \"Scheduler name\": \"Coalescing\", \"Speedup\": 0.8745674740484428}]}}, {\"renderer\": \"svg\", \"mode\": \"vega-lite\"});\n",
       "</script>"
      ],
      "text/plain": [
       "alt.Chart(...)"
      ]
     },
     "metadata": {},
     "output_type": "display_data"
    },
    {
     "data": {
      "text/markdown": [
       "### Running on 64 engines"
      ],
      "text/plain": [
       "<IPython.core.display.Markdown object>"
      ]
     },
     "metadata": {},
     "output_type": "display_data"
    },
    {
     "data": {
      "text/html": [
       "\n",
       "<div id=\"altair-viz-233067795f6b4bb59cd10ae75b717c61\"></div>\n",
       "<script type=\"text/javascript\">\n",
       "  (function(spec, embedOpt){\n",
       "    let outputDiv = document.currentScript.previousElementSibling;\n",
       "    if (outputDiv.id !== \"altair-viz-233067795f6b4bb59cd10ae75b717c61\") {\n",
       "      outputDiv = document.getElementById(\"altair-viz-233067795f6b4bb59cd10ae75b717c61\");\n",
       "    }\n",
       "    const paths = {\n",
       "      \"vega\": \"https://cdn.jsdelivr.net/npm//vega@5?noext\",\n",
       "      \"vega-lib\": \"https://cdn.jsdelivr.net/npm//vega-lib?noext\",\n",
       "      \"vega-lite\": \"https://cdn.jsdelivr.net/npm//vega-lite@4.8.1?noext\",\n",
       "      \"vega-embed\": \"https://cdn.jsdelivr.net/npm//vega-embed@6?noext\",\n",
       "    };\n",
       "\n",
       "    function loadScript(lib) {\n",
       "      return new Promise(function(resolve, reject) {\n",
       "        var s = document.createElement('script');\n",
       "        s.src = paths[lib];\n",
       "        s.async = true;\n",
       "        s.onload = () => resolve(paths[lib]);\n",
       "        s.onerror = () => reject(`Error loading script: ${paths[lib]}`);\n",
       "        document.getElementsByTagName(\"head\")[0].appendChild(s);\n",
       "      });\n",
       "    }\n",
       "\n",
       "    function showError(err) {\n",
       "      outputDiv.innerHTML = `<div class=\"error\" style=\"color:red;\">${err}</div>`;\n",
       "      throw err;\n",
       "    }\n",
       "\n",
       "    function displayChart(vegaEmbed) {\n",
       "      vegaEmbed(outputDiv, spec, embedOpt)\n",
       "        .catch(err => showError(`Javascript Error: ${err.message}<br>This usually means there's a typo in your chart specification. See the javascript console for the full traceback.`));\n",
       "    }\n",
       "\n",
       "    if(typeof define === \"function\" && define.amd) {\n",
       "      requirejs.config({paths});\n",
       "      require([\"vega-embed\"], displayChart, err => showError(`Error loading script: ${err.message}`));\n",
       "    } else if (typeof vegaEmbed === \"function\") {\n",
       "      displayChart(vegaEmbed);\n",
       "    } else {\n",
       "      loadScript(\"vega\")\n",
       "        .then(() => loadScript(\"vega-lite\"))\n",
       "        .then(() => loadScript(\"vega-embed\"))\n",
       "        .catch(showError)\n",
       "        .then(() => displayChart(vegaEmbed));\n",
       "    }\n",
       "  })({\"config\": {\"view\": {\"continuousWidth\": 400, \"continuousHeight\": 300}}, \"data\": {\"name\": \"data-f8572397270a60b3403be893118a0f82\"}, \"mark\": {\"type\": \"line\", \"point\": true}, \"encoding\": {\"color\": {\"type\": \"nominal\", \"field\": \"Scheduler name\"}, \"tooltip\": {\"type\": \"quantitative\", \"field\": \"Duration in ms\"}, \"x\": {\"type\": \"quantitative\", \"field\": \"Number of bytes\", \"scale\": {\"type\": \"log\"}}, \"y\": {\"type\": \"quantitative\", \"field\": \"Speedup\"}}, \"selection\": {\"selector048\": {\"type\": \"interval\", \"bind\": \"scales\", \"encodings\": [\"x\", \"y\"]}}, \"title\": \"schedulers vs directView\", \"width\": 800, \"$schema\": \"https://vega.github.io/schema/vega-lite/v4.8.1.json\", \"datasets\": {\"data-f8572397270a60b3403be893118a0f82\": [{\"Duration in ms\": 46.06, \"Number of bytes\": 1000, \"Number of engines\": 64, \"Scheduler name\": \"NonCoalescing\", \"Speedup\": 0.9326964828484585}, {\"Duration in ms\": 47.91, \"Number of bytes\": 10000, \"Number of engines\": 64, \"Scheduler name\": \"NonCoalescing\", \"Speedup\": 0.9185973700688792}, {\"Duration in ms\": 55.13, \"Number of bytes\": 100000, \"Number of engines\": 64, \"Scheduler name\": \"NonCoalescing\", \"Speedup\": 0.9994558316705967}, {\"Duration in ms\": 184.33, \"Number of bytes\": 1000000, \"Number of engines\": 64, \"Scheduler name\": \"NonCoalescing\", \"Speedup\": 1.0254434980741063}, {\"Duration in ms\": 334.23, \"Number of bytes\": 2000000, \"Number of engines\": 64, \"Scheduler name\": \"NonCoalescing\", \"Speedup\": 0.9423750112198187}, {\"Duration in ms\": 17.37, \"Number of bytes\": 1000, \"Number of engines\": 64, \"Scheduler name\": \"Coalescing\", \"Speedup\": 2.473229706390328}, {\"Duration in ms\": 21.28, \"Number of bytes\": 10000, \"Number of engines\": 64, \"Scheduler name\": \"Coalescing\", \"Speedup\": 2.0681390977443606}, {\"Duration in ms\": 34.39, \"Number of bytes\": 100000, \"Number of engines\": 64, \"Scheduler name\": \"Coalescing\", \"Speedup\": 1.6022099447513811}, {\"Duration in ms\": 205.81, \"Number of bytes\": 1000000, \"Number of engines\": 64, \"Scheduler name\": \"Coalescing\", \"Speedup\": 0.918419901851222}, {\"Duration in ms\": 410.5, \"Number of bytes\": 2000000, \"Number of engines\": 64, \"Scheduler name\": \"Coalescing\", \"Speedup\": 0.7672838002436054}]}}, {\"renderer\": \"svg\", \"mode\": \"vega-lite\"});\n",
       "</script>"
      ],
      "text/plain": [
       "alt.Chart(...)"
      ]
     },
     "metadata": {},
     "output_type": "display_data"
    },
    {
     "data": {
      "text/markdown": [
       "### Running on 128 engines"
      ],
      "text/plain": [
       "<IPython.core.display.Markdown object>"
      ]
     },
     "metadata": {},
     "output_type": "display_data"
    },
    {
     "data": {
      "text/html": [
       "\n",
       "<div id=\"altair-viz-838b7698ec6049a68a5e31d632ec1b91\"></div>\n",
       "<script type=\"text/javascript\">\n",
       "  (function(spec, embedOpt){\n",
       "    let outputDiv = document.currentScript.previousElementSibling;\n",
       "    if (outputDiv.id !== \"altair-viz-838b7698ec6049a68a5e31d632ec1b91\") {\n",
       "      outputDiv = document.getElementById(\"altair-viz-838b7698ec6049a68a5e31d632ec1b91\");\n",
       "    }\n",
       "    const paths = {\n",
       "      \"vega\": \"https://cdn.jsdelivr.net/npm//vega@5?noext\",\n",
       "      \"vega-lib\": \"https://cdn.jsdelivr.net/npm//vega-lib?noext\",\n",
       "      \"vega-lite\": \"https://cdn.jsdelivr.net/npm//vega-lite@4.8.1?noext\",\n",
       "      \"vega-embed\": \"https://cdn.jsdelivr.net/npm//vega-embed@6?noext\",\n",
       "    };\n",
       "\n",
       "    function loadScript(lib) {\n",
       "      return new Promise(function(resolve, reject) {\n",
       "        var s = document.createElement('script');\n",
       "        s.src = paths[lib];\n",
       "        s.async = true;\n",
       "        s.onload = () => resolve(paths[lib]);\n",
       "        s.onerror = () => reject(`Error loading script: ${paths[lib]}`);\n",
       "        document.getElementsByTagName(\"head\")[0].appendChild(s);\n",
       "      });\n",
       "    }\n",
       "\n",
       "    function showError(err) {\n",
       "      outputDiv.innerHTML = `<div class=\"error\" style=\"color:red;\">${err}</div>`;\n",
       "      throw err;\n",
       "    }\n",
       "\n",
       "    function displayChart(vegaEmbed) {\n",
       "      vegaEmbed(outputDiv, spec, embedOpt)\n",
       "        .catch(err => showError(`Javascript Error: ${err.message}<br>This usually means there's a typo in your chart specification. See the javascript console for the full traceback.`));\n",
       "    }\n",
       "\n",
       "    if(typeof define === \"function\" && define.amd) {\n",
       "      requirejs.config({paths});\n",
       "      require([\"vega-embed\"], displayChart, err => showError(`Error loading script: ${err.message}`));\n",
       "    } else if (typeof vegaEmbed === \"function\") {\n",
       "      displayChart(vegaEmbed);\n",
       "    } else {\n",
       "      loadScript(\"vega\")\n",
       "        .then(() => loadScript(\"vega-lite\"))\n",
       "        .then(() => loadScript(\"vega-embed\"))\n",
       "        .catch(showError)\n",
       "        .then(() => displayChart(vegaEmbed));\n",
       "    }\n",
       "  })({\"config\": {\"view\": {\"continuousWidth\": 400, \"continuousHeight\": 300}}, \"data\": {\"name\": \"data-6d94b21ab02d3f2a07de45fd716ce7b6\"}, \"mark\": {\"type\": \"line\", \"point\": true}, \"encoding\": {\"color\": {\"type\": \"nominal\", \"field\": \"Scheduler name\"}, \"tooltip\": {\"type\": \"quantitative\", \"field\": \"Duration in ms\"}, \"x\": {\"type\": \"quantitative\", \"field\": \"Number of bytes\", \"scale\": {\"type\": \"log\"}}, \"y\": {\"type\": \"quantitative\", \"field\": \"Speedup\"}}, \"selection\": {\"selector049\": {\"type\": \"interval\", \"bind\": \"scales\", \"encodings\": [\"x\", \"y\"]}}, \"title\": \"schedulers vs directView\", \"width\": 800, \"$schema\": \"https://vega.github.io/schema/vega-lite/v4.8.1.json\", \"datasets\": {\"data-6d94b21ab02d3f2a07de45fd716ce7b6\": [{\"Duration in ms\": 84.59, \"Number of bytes\": 1000, \"Number of engines\": 128, \"Scheduler name\": \"NonCoalescing\", \"Speedup\": 1.020688024589195}, {\"Duration in ms\": 84.78, \"Number of bytes\": 10000, \"Number of engines\": 128, \"Scheduler name\": \"NonCoalescing\", \"Speedup\": 0.9998820476527482}, {\"Duration in ms\": 94.17, \"Number of bytes\": 100000, \"Number of engines\": 128, \"Scheduler name\": \"NonCoalescing\", \"Speedup\": 1.0635021769140915}, {\"Duration in ms\": 219.61, \"Number of bytes\": 1000000, \"Number of engines\": 128, \"Scheduler name\": \"NonCoalescing\", \"Speedup\": 1.227721870588771}, {\"Duration in ms\": 488.44, \"Number of bytes\": 2000000, \"Number of engines\": 128, \"Scheduler name\": \"NonCoalescing\", \"Speedup\": 1.0457374498403078}, {\"Duration in ms\": 25.94, \"Number of bytes\": 1000, \"Number of engines\": 128, \"Scheduler name\": \"Coalescing\", \"Speedup\": 3.328450269853508}, {\"Duration in ms\": 32.94, \"Number of bytes\": 10000, \"Number of engines\": 128, \"Scheduler name\": \"Coalescing\", \"Speedup\": 2.5734669095324834}, {\"Duration in ms\": 55.92, \"Number of bytes\": 100000, \"Number of engines\": 128, \"Scheduler name\": \"Coalescing\", \"Speedup\": 1.7909513590844064}, {\"Duration in ms\": 266.17, \"Number of bytes\": 1000000, \"Number of engines\": 128, \"Scheduler name\": \"Coalescing\", \"Speedup\": 1.0129616410564677}, {\"Duration in ms\": 606.74, \"Number of bytes\": 2000000, \"Number of engines\": 128, \"Scheduler name\": \"Coalescing\", \"Speedup\": 0.8418432936677983}]}}, {\"renderer\": \"svg\", \"mode\": \"vega-lite\"});\n",
       "</script>"
      ],
      "text/plain": [
       "alt.Chart(...)"
      ]
     },
     "metadata": {},
     "output_type": "display_data"
    },
    {
     "data": {
      "text/markdown": [
       "### Running on 256 engines"
      ],
      "text/plain": [
       "<IPython.core.display.Markdown object>"
      ]
     },
     "metadata": {},
     "output_type": "display_data"
    },
    {
     "data": {
      "text/html": [
       "\n",
       "<div id=\"altair-viz-3fc65f924066498ca8c84d3a5fbdca98\"></div>\n",
       "<script type=\"text/javascript\">\n",
       "  (function(spec, embedOpt){\n",
       "    let outputDiv = document.currentScript.previousElementSibling;\n",
       "    if (outputDiv.id !== \"altair-viz-3fc65f924066498ca8c84d3a5fbdca98\") {\n",
       "      outputDiv = document.getElementById(\"altair-viz-3fc65f924066498ca8c84d3a5fbdca98\");\n",
       "    }\n",
       "    const paths = {\n",
       "      \"vega\": \"https://cdn.jsdelivr.net/npm//vega@5?noext\",\n",
       "      \"vega-lib\": \"https://cdn.jsdelivr.net/npm//vega-lib?noext\",\n",
       "      \"vega-lite\": \"https://cdn.jsdelivr.net/npm//vega-lite@4.8.1?noext\",\n",
       "      \"vega-embed\": \"https://cdn.jsdelivr.net/npm//vega-embed@6?noext\",\n",
       "    };\n",
       "\n",
       "    function loadScript(lib) {\n",
       "      return new Promise(function(resolve, reject) {\n",
       "        var s = document.createElement('script');\n",
       "        s.src = paths[lib];\n",
       "        s.async = true;\n",
       "        s.onload = () => resolve(paths[lib]);\n",
       "        s.onerror = () => reject(`Error loading script: ${paths[lib]}`);\n",
       "        document.getElementsByTagName(\"head\")[0].appendChild(s);\n",
       "      });\n",
       "    }\n",
       "\n",
       "    function showError(err) {\n",
       "      outputDiv.innerHTML = `<div class=\"error\" style=\"color:red;\">${err}</div>`;\n",
       "      throw err;\n",
       "    }\n",
       "\n",
       "    function displayChart(vegaEmbed) {\n",
       "      vegaEmbed(outputDiv, spec, embedOpt)\n",
       "        .catch(err => showError(`Javascript Error: ${err.message}<br>This usually means there's a typo in your chart specification. See the javascript console for the full traceback.`));\n",
       "    }\n",
       "\n",
       "    if(typeof define === \"function\" && define.amd) {\n",
       "      requirejs.config({paths});\n",
       "      require([\"vega-embed\"], displayChart, err => showError(`Error loading script: ${err.message}`));\n",
       "    } else if (typeof vegaEmbed === \"function\") {\n",
       "      displayChart(vegaEmbed);\n",
       "    } else {\n",
       "      loadScript(\"vega\")\n",
       "        .then(() => loadScript(\"vega-lite\"))\n",
       "        .then(() => loadScript(\"vega-embed\"))\n",
       "        .catch(showError)\n",
       "        .then(() => displayChart(vegaEmbed));\n",
       "    }\n",
       "  })({\"config\": {\"view\": {\"continuousWidth\": 400, \"continuousHeight\": 300}}, \"data\": {\"name\": \"data-d7c82b49467128cf4c95e585fcf3db2c\"}, \"mark\": {\"type\": \"line\", \"point\": true}, \"encoding\": {\"color\": {\"type\": \"nominal\", \"field\": \"Scheduler name\"}, \"tooltip\": {\"type\": \"quantitative\", \"field\": \"Duration in ms\"}, \"x\": {\"type\": \"quantitative\", \"field\": \"Number of bytes\", \"scale\": {\"type\": \"log\"}}, \"y\": {\"type\": \"quantitative\", \"field\": \"Speedup\"}}, \"selection\": {\"selector050\": {\"type\": \"interval\", \"bind\": \"scales\", \"encodings\": [\"x\", \"y\"]}}, \"title\": \"schedulers vs directView\", \"width\": 800, \"$schema\": \"https://vega.github.io/schema/vega-lite/v4.8.1.json\", \"datasets\": {\"data-d7c82b49467128cf4c95e585fcf3db2c\": [{\"Duration in ms\": 164.03, \"Number of bytes\": 1000, \"Number of engines\": 256, \"Scheduler name\": \"NonCoalescing\", \"Speedup\": 1.0343229896970065}, {\"Duration in ms\": 166.09, \"Number of bytes\": 10000, \"Number of engines\": 256, \"Scheduler name\": \"NonCoalescing\", \"Speedup\": 1.0207718706725268}, {\"Duration in ms\": 176.12, \"Number of bytes\": 100000, \"Number of engines\": 256, \"Scheduler name\": \"NonCoalescing\", \"Speedup\": 1.136100386100386}, {\"Duration in ms\": 340.9, \"Number of bytes\": 1000000, \"Number of engines\": 256, \"Scheduler name\": \"NonCoalescing\", \"Speedup\": 1.312144323848636}, {\"Duration in ms\": 909.45, \"Number of bytes\": 2000000, \"Number of engines\": 256, \"Scheduler name\": \"NonCoalescing\", \"Speedup\": 1.0084226730441475}, {\"Duration in ms\": 44.39, \"Number of bytes\": 1000, \"Number of engines\": 256, \"Scheduler name\": \"Coalescing\", \"Speedup\": 3.822031989186754}, {\"Duration in ms\": 58.25, \"Number of bytes\": 10000, \"Number of engines\": 256, \"Scheduler name\": \"Coalescing\", \"Speedup\": 2.910557939914163}, {\"Duration in ms\": 91.83, \"Number of bytes\": 100000, \"Number of engines\": 256, \"Scheduler name\": \"Coalescing\", \"Speedup\": 2.1789175650658827}, {\"Duration in ms\": 430.56, \"Number of bytes\": 1000000, \"Number of engines\": 256, \"Scheduler name\": \"Coalescing\", \"Speedup\": 1.0389028242289111}, {\"Duration in ms\": 1091.45, \"Number of bytes\": 2000000, \"Number of engines\": 256, \"Scheduler name\": \"Coalescing\", \"Speedup\": 0.8402675340143845}]}}, {\"renderer\": \"svg\", \"mode\": \"vega-lite\"});\n",
       "</script>"
      ],
      "text/plain": [
       "alt.Chart(...)"
      ]
     },
     "metadata": {},
     "output_type": "display_data"
    },
    {
     "data": {
      "text/markdown": [
       "### Running on 512 engines"
      ],
      "text/plain": [
       "<IPython.core.display.Markdown object>"
      ]
     },
     "metadata": {},
     "output_type": "display_data"
    },
    {
     "data": {
      "text/html": [
       "\n",
       "<div id=\"altair-viz-ed982844b49e4b76b8a96c3efb47c400\"></div>\n",
       "<script type=\"text/javascript\">\n",
       "  (function(spec, embedOpt){\n",
       "    let outputDiv = document.currentScript.previousElementSibling;\n",
       "    if (outputDiv.id !== \"altair-viz-ed982844b49e4b76b8a96c3efb47c400\") {\n",
       "      outputDiv = document.getElementById(\"altair-viz-ed982844b49e4b76b8a96c3efb47c400\");\n",
       "    }\n",
       "    const paths = {\n",
       "      \"vega\": \"https://cdn.jsdelivr.net/npm//vega@5?noext\",\n",
       "      \"vega-lib\": \"https://cdn.jsdelivr.net/npm//vega-lib?noext\",\n",
       "      \"vega-lite\": \"https://cdn.jsdelivr.net/npm//vega-lite@4.8.1?noext\",\n",
       "      \"vega-embed\": \"https://cdn.jsdelivr.net/npm//vega-embed@6?noext\",\n",
       "    };\n",
       "\n",
       "    function loadScript(lib) {\n",
       "      return new Promise(function(resolve, reject) {\n",
       "        var s = document.createElement('script');\n",
       "        s.src = paths[lib];\n",
       "        s.async = true;\n",
       "        s.onload = () => resolve(paths[lib]);\n",
       "        s.onerror = () => reject(`Error loading script: ${paths[lib]}`);\n",
       "        document.getElementsByTagName(\"head\")[0].appendChild(s);\n",
       "      });\n",
       "    }\n",
       "\n",
       "    function showError(err) {\n",
       "      outputDiv.innerHTML = `<div class=\"error\" style=\"color:red;\">${err}</div>`;\n",
       "      throw err;\n",
       "    }\n",
       "\n",
       "    function displayChart(vegaEmbed) {\n",
       "      vegaEmbed(outputDiv, spec, embedOpt)\n",
       "        .catch(err => showError(`Javascript Error: ${err.message}<br>This usually means there's a typo in your chart specification. See the javascript console for the full traceback.`));\n",
       "    }\n",
       "\n",
       "    if(typeof define === \"function\" && define.amd) {\n",
       "      requirejs.config({paths});\n",
       "      require([\"vega-embed\"], displayChart, err => showError(`Error loading script: ${err.message}`));\n",
       "    } else if (typeof vegaEmbed === \"function\") {\n",
       "      displayChart(vegaEmbed);\n",
       "    } else {\n",
       "      loadScript(\"vega\")\n",
       "        .then(() => loadScript(\"vega-lite\"))\n",
       "        .then(() => loadScript(\"vega-embed\"))\n",
       "        .catch(showError)\n",
       "        .then(() => displayChart(vegaEmbed));\n",
       "    }\n",
       "  })({\"config\": {\"view\": {\"continuousWidth\": 400, \"continuousHeight\": 300}}, \"data\": {\"name\": \"data-04afef0e7bf6c820522016af162413cf\"}, \"mark\": {\"type\": \"line\", \"point\": true}, \"encoding\": {\"color\": {\"type\": \"nominal\", \"field\": \"Scheduler name\"}, \"tooltip\": {\"type\": \"quantitative\", \"field\": \"Duration in ms\"}, \"x\": {\"type\": \"quantitative\", \"field\": \"Number of bytes\", \"scale\": {\"type\": \"log\"}}, \"y\": {\"type\": \"quantitative\", \"field\": \"Speedup\"}}, \"selection\": {\"selector051\": {\"type\": \"interval\", \"bind\": \"scales\", \"encodings\": [\"x\", \"y\"]}}, \"title\": \"schedulers vs directView\", \"width\": 800, \"$schema\": \"https://vega.github.io/schema/vega-lite/v4.8.1.json\", \"datasets\": {\"data-04afef0e7bf6c820522016af162413cf\": [{\"Duration in ms\": 316.77, \"Number of bytes\": 1000, \"Number of engines\": 512, \"Scheduler name\": \"NonCoalescing\", \"Speedup\": 1.0649367048647282}, {\"Duration in ms\": 314.19, \"Number of bytes\": 10000, \"Number of engines\": 512, \"Scheduler name\": \"NonCoalescing\", \"Speedup\": 1.0491104108978644}, {\"Duration in ms\": 341.05, \"Number of bytes\": 100000, \"Number of engines\": 512, \"Scheduler name\": \"NonCoalescing\", \"Speedup\": 1.1648438645359918}, {\"Duration in ms\": 617.82, \"Number of bytes\": 1000000, \"Number of engines\": 512, \"Scheduler name\": \"NonCoalescing\", \"Speedup\": 1.3170502735424556}, {\"Duration in ms\": 2062.45, \"Number of bytes\": 2000000, \"Number of engines\": 512, \"Scheduler name\": \"NonCoalescing\", \"Speedup\": 0.7711120269582294}, {\"Duration in ms\": 84.11, \"Number of bytes\": 1000, \"Number of engines\": 512, \"Scheduler name\": \"Coalescing\", \"Speedup\": 4.010700273451432}, {\"Duration in ms\": 110.52, \"Number of bytes\": 10000, \"Number of engines\": 512, \"Scheduler name\": \"Coalescing\", \"Speedup\": 2.982446615997105}, {\"Duration in ms\": 173.32, \"Number of bytes\": 100000, \"Number of engines\": 512, \"Scheduler name\": \"Coalescing\", \"Speedup\": 2.2921186245095777}, {\"Duration in ms\": 884.62, \"Number of bytes\": 1000000, \"Number of engines\": 512, \"Scheduler name\": \"Coalescing\", \"Speedup\": 0.9198299834957383}, {\"Duration in ms\": 2253.55, \"Number of bytes\": 2000000, \"Number of engines\": 512, \"Scheduler name\": \"Coalescing\", \"Speedup\": 0.7057220829358124}]}}, {\"renderer\": \"svg\", \"mode\": \"vega-lite\"});\n",
       "</script>"
      ],
      "text/plain": [
       "alt.Chart(...)"
      ]
     },
     "metadata": {},
     "output_type": "display_data"
    },
    {
     "data": {
      "text/markdown": [
       "### Running on 1024 engines"
      ],
      "text/plain": [
       "<IPython.core.display.Markdown object>"
      ]
     },
     "metadata": {},
     "output_type": "display_data"
    },
    {
     "data": {
      "text/html": [
       "\n",
       "<div id=\"altair-viz-ec2d7307aa324c978f3b81d16fe21521\"></div>\n",
       "<script type=\"text/javascript\">\n",
       "  (function(spec, embedOpt){\n",
       "    let outputDiv = document.currentScript.previousElementSibling;\n",
       "    if (outputDiv.id !== \"altair-viz-ec2d7307aa324c978f3b81d16fe21521\") {\n",
       "      outputDiv = document.getElementById(\"altair-viz-ec2d7307aa324c978f3b81d16fe21521\");\n",
       "    }\n",
       "    const paths = {\n",
       "      \"vega\": \"https://cdn.jsdelivr.net/npm//vega@5?noext\",\n",
       "      \"vega-lib\": \"https://cdn.jsdelivr.net/npm//vega-lib?noext\",\n",
       "      \"vega-lite\": \"https://cdn.jsdelivr.net/npm//vega-lite@4.8.1?noext\",\n",
       "      \"vega-embed\": \"https://cdn.jsdelivr.net/npm//vega-embed@6?noext\",\n",
       "    };\n",
       "\n",
       "    function loadScript(lib) {\n",
       "      return new Promise(function(resolve, reject) {\n",
       "        var s = document.createElement('script');\n",
       "        s.src = paths[lib];\n",
       "        s.async = true;\n",
       "        s.onload = () => resolve(paths[lib]);\n",
       "        s.onerror = () => reject(`Error loading script: ${paths[lib]}`);\n",
       "        document.getElementsByTagName(\"head\")[0].appendChild(s);\n",
       "      });\n",
       "    }\n",
       "\n",
       "    function showError(err) {\n",
       "      outputDiv.innerHTML = `<div class=\"error\" style=\"color:red;\">${err}</div>`;\n",
       "      throw err;\n",
       "    }\n",
       "\n",
       "    function displayChart(vegaEmbed) {\n",
       "      vegaEmbed(outputDiv, spec, embedOpt)\n",
       "        .catch(err => showError(`Javascript Error: ${err.message}<br>This usually means there's a typo in your chart specification. See the javascript console for the full traceback.`));\n",
       "    }\n",
       "\n",
       "    if(typeof define === \"function\" && define.amd) {\n",
       "      requirejs.config({paths});\n",
       "      require([\"vega-embed\"], displayChart, err => showError(`Error loading script: ${err.message}`));\n",
       "    } else if (typeof vegaEmbed === \"function\") {\n",
       "      displayChart(vegaEmbed);\n",
       "    } else {\n",
       "      loadScript(\"vega\")\n",
       "        .then(() => loadScript(\"vega-lite\"))\n",
       "        .then(() => loadScript(\"vega-embed\"))\n",
       "        .catch(showError)\n",
       "        .then(() => displayChart(vegaEmbed));\n",
       "    }\n",
       "  })({\"config\": {\"view\": {\"continuousWidth\": 400, \"continuousHeight\": 300}}, \"data\": {\"name\": \"data-bb357ce854d45b040bd3c8711af5567e\"}, \"mark\": {\"type\": \"line\", \"point\": true}, \"encoding\": {\"color\": {\"type\": \"nominal\", \"field\": \"Scheduler name\"}, \"tooltip\": {\"type\": \"quantitative\", \"field\": \"Duration in ms\"}, \"x\": {\"type\": \"quantitative\", \"field\": \"Number of bytes\", \"scale\": {\"type\": \"log\"}}, \"y\": {\"type\": \"quantitative\", \"field\": \"Speedup\"}}, \"selection\": {\"selector052\": {\"type\": \"interval\", \"bind\": \"scales\", \"encodings\": [\"x\", \"y\"]}}, \"title\": \"schedulers vs directView\", \"width\": 800, \"$schema\": \"https://vega.github.io/schema/vega-lite/v4.8.1.json\", \"datasets\": {\"data-bb357ce854d45b040bd3c8711af5567e\": [{\"Duration in ms\": 617.38, \"Number of bytes\": 1000, \"Number of engines\": 1024, \"Scheduler name\": \"NonCoalescing\", \"Speedup\": 1.0969095208785513}, {\"Duration in ms\": 619.59, \"Number of bytes\": 10000, \"Number of engines\": 1024, \"Scheduler name\": \"NonCoalescing\", \"Speedup\": 1.0668506593069609}, {\"Duration in ms\": 652.45, \"Number of bytes\": 100000, \"Number of engines\": 1024, \"Scheduler name\": \"NonCoalescing\", \"Speedup\": 1.1654073109050502}, {\"Duration in ms\": 1132.67, \"Number of bytes\": 1000000, \"Number of engines\": 1024, \"Scheduler name\": \"NonCoalescing\", \"Speedup\": 1.7474639568453298}, {\"Duration in ms\": 4143.3, \"Number of bytes\": 2000000, \"Number of engines\": 1024, \"Scheduler name\": \"NonCoalescing\", \"Speedup\": 0.9514251924794246}, {\"Duration in ms\": 176.21, \"Number of bytes\": 1000, \"Number of engines\": 1024, \"Scheduler name\": \"Coalescing\", \"Speedup\": 3.8431984563872654}, {\"Duration in ms\": 221.57, \"Number of bytes\": 10000, \"Number of engines\": 1024, \"Scheduler name\": \"Coalescing\", \"Speedup\": 2.983300988400957}, {\"Duration in ms\": 354.27, \"Number of bytes\": 100000, \"Number of engines\": 1024, \"Scheduler name\": \"Coalescing\", \"Speedup\": 2.146300843989048}, {\"Duration in ms\": 1699.83, \"Number of bytes\": 1000000, \"Number of engines\": 1024, \"Scheduler name\": \"Coalescing\", \"Speedup\": 1.1644105587029292}, {\"Duration in ms\": 4317.67, \"Number of bytes\": 2000000, \"Number of engines\": 1024, \"Scheduler name\": \"Coalescing\", \"Speedup\": 0.9130016884106474}]}}, {\"renderer\": \"svg\", \"mode\": \"vega-lite\"});\n",
       "</script>"
      ],
      "text/plain": [
       "alt.Chart(...)"
      ]
     },
     "metadata": {},
     "output_type": "display_data"
    }
   ],
   "source": [
    "for engine in data['Number of engines'].unique():\n",
    "    display(Markdown(f'### Running on {engine} engines'))\n",
    "    alt.Chart(\n",
    "        data[\n",
    "            (data['Number of engines'] == engine)\n",
    "            & (data['Scheduler name'] != 'DirectView')\n",
    "        ]\n",
    "    ).mark_line(point=True).encode(\n",
    "        alt.X('Number of bytes', scale=alt.Scale(type='log')),\n",
    "        alt.Y(\n",
    "            'Speedup',\n",
    "        ),\n",
    "        color='Scheduler name:N',\n",
    "        tooltip='Duration in ms',\n",
    "    ).properties(title='schedulers vs directView', width=800).interactive().display(\n",
    "        renderer='svg'\n",
    "    )"
   ]
  },
  {
   "cell_type": "code",
   "execution_count": 35,
   "metadata": {
    "jupyter": {
     "source_hidden": true
    }
   },
   "outputs": [
    {
     "data": {
      "text/html": [
       "\n",
       "<div id=\"altair-viz-df000e2a942b4c0eae3817ea3215034f\"></div>\n",
       "<script type=\"text/javascript\">\n",
       "  (function(spec, embedOpt){\n",
       "    let outputDiv = document.currentScript.previousElementSibling;\n",
       "    if (outputDiv.id !== \"altair-viz-df000e2a942b4c0eae3817ea3215034f\") {\n",
       "      outputDiv = document.getElementById(\"altair-viz-df000e2a942b4c0eae3817ea3215034f\");\n",
       "    }\n",
       "    const paths = {\n",
       "      \"vega\": \"https://cdn.jsdelivr.net/npm//vega@5?noext\",\n",
       "      \"vega-lib\": \"https://cdn.jsdelivr.net/npm//vega-lib?noext\",\n",
       "      \"vega-lite\": \"https://cdn.jsdelivr.net/npm//vega-lite@4.8.1?noext\",\n",
       "      \"vega-embed\": \"https://cdn.jsdelivr.net/npm//vega-embed@6?noext\",\n",
       "    };\n",
       "\n",
       "    function loadScript(lib) {\n",
       "      return new Promise(function(resolve, reject) {\n",
       "        var s = document.createElement('script');\n",
       "        s.src = paths[lib];\n",
       "        s.async = true;\n",
       "        s.onload = () => resolve(paths[lib]);\n",
       "        s.onerror = () => reject(`Error loading script: ${paths[lib]}`);\n",
       "        document.getElementsByTagName(\"head\")[0].appendChild(s);\n",
       "      });\n",
       "    }\n",
       "\n",
       "    function showError(err) {\n",
       "      outputDiv.innerHTML = `<div class=\"error\" style=\"color:red;\">${err}</div>`;\n",
       "      throw err;\n",
       "    }\n",
       "\n",
       "    function displayChart(vegaEmbed) {\n",
       "      vegaEmbed(outputDiv, spec, embedOpt)\n",
       "        .catch(err => showError(`Javascript Error: ${err.message}<br>This usually means there's a typo in your chart specification. See the javascript console for the full traceback.`));\n",
       "    }\n",
       "\n",
       "    if(typeof define === \"function\" && define.amd) {\n",
       "      requirejs.config({paths});\n",
       "      require([\"vega-embed\"], displayChart, err => showError(`Error loading script: ${err.message}`));\n",
       "    } else if (typeof vegaEmbed === \"function\") {\n",
       "      displayChart(vegaEmbed);\n",
       "    } else {\n",
       "      loadScript(\"vega\")\n",
       "        .then(() => loadScript(\"vega-lite\"))\n",
       "        .then(() => loadScript(\"vega-embed\"))\n",
       "        .catch(showError)\n",
       "        .then(() => displayChart(vegaEmbed));\n",
       "    }\n",
       "  })({\"config\": {\"view\": {\"continuousWidth\": 400, \"continuousHeight\": 300}}, \"data\": {\"name\": \"data-348beac1032766b8fa33a66a8853dbdf\"}, \"mark\": {\"type\": \"line\", \"point\": true}, \"encoding\": {\"color\": {\"type\": \"nominal\", \"field\": \"Number of bytes\"}, \"strokeDash\": {\"type\": \"nominal\", \"field\": \"Scheduler name\", \"legend\": null}, \"tooltip\": {\"type\": \"nominal\", \"field\": \"combined\"}, \"x\": {\"type\": \"quantitative\", \"field\": \"Number of engines\", \"scale\": {\"type\": \"log\"}}, \"y\": {\"type\": \"quantitative\", \"field\": \"Speedup\"}}, \"selection\": {\"selector053\": {\"type\": \"interval\", \"bind\": \"scales\", \"encodings\": [\"x\", \"y\"]}}, \"title\": \"schedulers vs directView scaling engines\", \"width\": 800, \"$schema\": \"https://vega.github.io/schema/vega-lite/v4.8.1.json\", \"datasets\": {\"data-348beac1032766b8fa33a66a8853dbdf\": [{\"Duration in ms\": 9.45, \"Number of bytes\": 1000, \"Number of engines\": 1, \"Scheduler name\": \"NonCoalescing\", \"Speedup\": 0.4846560846560847, \"combined\": \"NonCoalescing 1000\"}, {\"Duration in ms\": 9.47, \"Number of bytes\": 10000, \"Number of engines\": 1, \"Scheduler name\": \"NonCoalescing\", \"Speedup\": 0.587117212249208, \"combined\": \"NonCoalescing 10000\"}, {\"Duration in ms\": 17.83, \"Number of bytes\": 100000, \"Number of engines\": 1, \"Scheduler name\": \"NonCoalescing\", \"Speedup\": 0.722378014582165, \"combined\": \"NonCoalescing 100000\"}, {\"Duration in ms\": 89.25, \"Number of bytes\": 1000000, \"Number of engines\": 1, \"Scheduler name\": \"NonCoalescing\", \"Speedup\": 0.8735014005602241, \"combined\": \"NonCoalescing 1000000\"}, {\"Duration in ms\": 172.51, \"Number of bytes\": 2000000, \"Number of engines\": 1, \"Scheduler name\": \"NonCoalescing\", \"Speedup\": 0.858732827082488, \"combined\": \"NonCoalescing 2000000\"}, {\"Duration in ms\": 9.85, \"Number of bytes\": 1000, \"Number of engines\": 2, \"Scheduler name\": \"NonCoalescing\", \"Speedup\": 0.5116751269035533, \"combined\": \"NonCoalescing 1000\"}, {\"Duration in ms\": 10.35, \"Number of bytes\": 10000, \"Number of engines\": 2, \"Scheduler name\": \"NonCoalescing\", \"Speedup\": 0.5391304347826087, \"combined\": \"NonCoalescing 10000\"}, {\"Duration in ms\": 18.7, \"Number of bytes\": 100000, \"Number of engines\": 2, \"Scheduler name\": \"NonCoalescing\", \"Speedup\": 0.6663101604278076, \"combined\": \"NonCoalescing 100000\"}, {\"Duration in ms\": 89.76, \"Number of bytes\": 1000000, \"Number of engines\": 2, \"Scheduler name\": \"NonCoalescing\", \"Speedup\": 0.8358957219251336, \"combined\": \"NonCoalescing 1000000\"}, {\"Duration in ms\": 171.09, \"Number of bytes\": 2000000, \"Number of engines\": 2, \"Scheduler name\": \"NonCoalescing\", \"Speedup\": 0.8585539774387748, \"combined\": \"NonCoalescing 2000000\"}, {\"Duration in ms\": 17.02, \"Number of bytes\": 1000, \"Number of engines\": 16, \"Scheduler name\": \"NonCoalescing\", \"Speedup\": 0.8860164512338425, \"combined\": \"NonCoalescing 1000\"}, {\"Duration in ms\": 18.02, \"Number of bytes\": 10000, \"Number of engines\": 16, \"Scheduler name\": \"NonCoalescing\", \"Speedup\": 0.8990011098779134, \"combined\": \"NonCoalescing 10000\"}, {\"Duration in ms\": 25.29, \"Number of bytes\": 100000, \"Number of engines\": 16, \"Scheduler name\": \"NonCoalescing\", \"Speedup\": 0.9019375247133254, \"combined\": \"NonCoalescing 100000\"}, {\"Duration in ms\": 104.59, \"Number of bytes\": 1000000, \"Number of engines\": 16, \"Scheduler name\": \"NonCoalescing\", \"Speedup\": 0.8942537527488288, \"combined\": \"NonCoalescing 1000000\"}, {\"Duration in ms\": 202.18, \"Number of bytes\": 2000000, \"Number of engines\": 16, \"Scheduler name\": \"NonCoalescing\", \"Speedup\": 0.9000890295776041, \"combined\": \"NonCoalescing 2000000\"}, {\"Duration in ms\": 46.06, \"Number of bytes\": 1000, \"Number of engines\": 64, \"Scheduler name\": \"NonCoalescing\", \"Speedup\": 0.9326964828484585, \"combined\": \"NonCoalescing 1000\"}, {\"Duration in ms\": 47.91, \"Number of bytes\": 10000, \"Number of engines\": 64, \"Scheduler name\": \"NonCoalescing\", \"Speedup\": 0.9185973700688792, \"combined\": \"NonCoalescing 10000\"}, {\"Duration in ms\": 55.13, \"Number of bytes\": 100000, \"Number of engines\": 64, \"Scheduler name\": \"NonCoalescing\", \"Speedup\": 0.9994558316705967, \"combined\": \"NonCoalescing 100000\"}, {\"Duration in ms\": 184.33, \"Number of bytes\": 1000000, \"Number of engines\": 64, \"Scheduler name\": \"NonCoalescing\", \"Speedup\": 1.0254434980741063, \"combined\": \"NonCoalescing 1000000\"}, {\"Duration in ms\": 334.23, \"Number of bytes\": 2000000, \"Number of engines\": 64, \"Scheduler name\": \"NonCoalescing\", \"Speedup\": 0.9423750112198187, \"combined\": \"NonCoalescing 2000000\"}, {\"Duration in ms\": 84.59, \"Number of bytes\": 1000, \"Number of engines\": 128, \"Scheduler name\": \"NonCoalescing\", \"Speedup\": 1.020688024589195, \"combined\": \"NonCoalescing 1000\"}, {\"Duration in ms\": 84.78, \"Number of bytes\": 10000, \"Number of engines\": 128, \"Scheduler name\": \"NonCoalescing\", \"Speedup\": 0.9998820476527482, \"combined\": \"NonCoalescing 10000\"}, {\"Duration in ms\": 94.17, \"Number of bytes\": 100000, \"Number of engines\": 128, \"Scheduler name\": \"NonCoalescing\", \"Speedup\": 1.0635021769140915, \"combined\": \"NonCoalescing 100000\"}, {\"Duration in ms\": 219.61, \"Number of bytes\": 1000000, \"Number of engines\": 128, \"Scheduler name\": \"NonCoalescing\", \"Speedup\": 1.227721870588771, \"combined\": \"NonCoalescing 1000000\"}, {\"Duration in ms\": 488.44, \"Number of bytes\": 2000000, \"Number of engines\": 128, \"Scheduler name\": \"NonCoalescing\", \"Speedup\": 1.0457374498403078, \"combined\": \"NonCoalescing 2000000\"}, {\"Duration in ms\": 164.03, \"Number of bytes\": 1000, \"Number of engines\": 256, \"Scheduler name\": \"NonCoalescing\", \"Speedup\": 1.0343229896970065, \"combined\": \"NonCoalescing 1000\"}, {\"Duration in ms\": 166.09, \"Number of bytes\": 10000, \"Number of engines\": 256, \"Scheduler name\": \"NonCoalescing\", \"Speedup\": 1.0207718706725268, \"combined\": \"NonCoalescing 10000\"}, {\"Duration in ms\": 176.12, \"Number of bytes\": 100000, \"Number of engines\": 256, \"Scheduler name\": \"NonCoalescing\", \"Speedup\": 1.136100386100386, \"combined\": \"NonCoalescing 100000\"}, {\"Duration in ms\": 340.9, \"Number of bytes\": 1000000, \"Number of engines\": 256, \"Scheduler name\": \"NonCoalescing\", \"Speedup\": 1.312144323848636, \"combined\": \"NonCoalescing 1000000\"}, {\"Duration in ms\": 909.45, \"Number of bytes\": 2000000, \"Number of engines\": 256, \"Scheduler name\": \"NonCoalescing\", \"Speedup\": 1.0084226730441475, \"combined\": \"NonCoalescing 2000000\"}, {\"Duration in ms\": 316.77, \"Number of bytes\": 1000, \"Number of engines\": 512, \"Scheduler name\": \"NonCoalescing\", \"Speedup\": 1.0649367048647282, \"combined\": \"NonCoalescing 1000\"}, {\"Duration in ms\": 314.19, \"Number of bytes\": 10000, \"Number of engines\": 512, \"Scheduler name\": \"NonCoalescing\", \"Speedup\": 1.0491104108978644, \"combined\": \"NonCoalescing 10000\"}, {\"Duration in ms\": 341.05, \"Number of bytes\": 100000, \"Number of engines\": 512, \"Scheduler name\": \"NonCoalescing\", \"Speedup\": 1.1648438645359918, \"combined\": \"NonCoalescing 100000\"}, {\"Duration in ms\": 617.82, \"Number of bytes\": 1000000, \"Number of engines\": 512, \"Scheduler name\": \"NonCoalescing\", \"Speedup\": 1.3170502735424556, \"combined\": \"NonCoalescing 1000000\"}, {\"Duration in ms\": 2062.45, \"Number of bytes\": 2000000, \"Number of engines\": 512, \"Scheduler name\": \"NonCoalescing\", \"Speedup\": 0.7711120269582294, \"combined\": \"NonCoalescing 2000000\"}, {\"Duration in ms\": 617.38, \"Number of bytes\": 1000, \"Number of engines\": 1024, \"Scheduler name\": \"NonCoalescing\", \"Speedup\": 1.0969095208785513, \"combined\": \"NonCoalescing 1000\"}, {\"Duration in ms\": 619.59, \"Number of bytes\": 10000, \"Number of engines\": 1024, \"Scheduler name\": \"NonCoalescing\", \"Speedup\": 1.0668506593069609, \"combined\": \"NonCoalescing 10000\"}, {\"Duration in ms\": 652.45, \"Number of bytes\": 100000, \"Number of engines\": 1024, \"Scheduler name\": \"NonCoalescing\", \"Speedup\": 1.1654073109050502, \"combined\": \"NonCoalescing 100000\"}, {\"Duration in ms\": 1132.67, \"Number of bytes\": 1000000, \"Number of engines\": 1024, \"Scheduler name\": \"NonCoalescing\", \"Speedup\": 1.7474639568453298, \"combined\": \"NonCoalescing 1000000\"}, {\"Duration in ms\": 4143.3, \"Number of bytes\": 2000000, \"Number of engines\": 1024, \"Scheduler name\": \"NonCoalescing\", \"Speedup\": 0.9514251924794246, \"combined\": \"NonCoalescing 2000000\"}, {\"Duration in ms\": 8.85, \"Number of bytes\": 1000, \"Number of engines\": 1, \"Scheduler name\": \"Coalescing\", \"Speedup\": 0.5175141242937853, \"combined\": \"Coalescing 1000\"}, {\"Duration in ms\": 9.69, \"Number of bytes\": 10000, \"Number of engines\": 1, \"Scheduler name\": \"Coalescing\", \"Speedup\": 0.5737874097007224, \"combined\": \"Coalescing 10000\"}, {\"Duration in ms\": 17.9, \"Number of bytes\": 100000, \"Number of engines\": 1, \"Scheduler name\": \"Coalescing\", \"Speedup\": 0.7195530726256985, \"combined\": \"Coalescing 100000\"}, {\"Duration in ms\": 86.69, \"Number of bytes\": 1000000, \"Number of engines\": 1, \"Scheduler name\": \"Coalescing\", \"Speedup\": 0.8992963432921905, \"combined\": \"Coalescing 1000000\"}, {\"Duration in ms\": 164.8, \"Number of bytes\": 2000000, \"Number of engines\": 1, \"Scheduler name\": \"Coalescing\", \"Speedup\": 0.8989077669902911, \"combined\": \"Coalescing 2000000\"}, {\"Duration in ms\": 8.9, \"Number of bytes\": 1000, \"Number of engines\": 2, \"Scheduler name\": \"Coalescing\", \"Speedup\": 0.5662921348314607, \"combined\": \"Coalescing 1000\"}, {\"Duration in ms\": 9.67, \"Number of bytes\": 10000, \"Number of engines\": 2, \"Scheduler name\": \"Coalescing\", \"Speedup\": 0.5770423991726991, \"combined\": \"Coalescing 10000\"}, {\"Duration in ms\": 18.02, \"Number of bytes\": 100000, \"Number of engines\": 2, \"Scheduler name\": \"Coalescing\", \"Speedup\": 0.6914539400665928, \"combined\": \"Coalescing 100000\"}, {\"Duration in ms\": 87.85, \"Number of bytes\": 1000000, \"Number of engines\": 2, \"Scheduler name\": \"Coalescing\", \"Speedup\": 0.8540694365395561, \"combined\": \"Coalescing 1000000\"}, {\"Duration in ms\": 167.42, \"Number of bytes\": 2000000, \"Number of engines\": 2, \"Scheduler name\": \"Coalescing\", \"Speedup\": 0.8773742683072512, \"combined\": \"Coalescing 2000000\"}, {\"Duration in ms\": 11.14, \"Number of bytes\": 1000, \"Number of engines\": 16, \"Scheduler name\": \"Coalescing\", \"Speedup\": 1.3536804308797128, \"combined\": \"Coalescing 1000\"}, {\"Duration in ms\": 12.91, \"Number of bytes\": 10000, \"Number of engines\": 16, \"Scheduler name\": \"Coalescing\", \"Speedup\": 1.254841208365608, \"combined\": \"Coalescing 10000\"}, {\"Duration in ms\": 21.87, \"Number of bytes\": 100000, \"Number of engines\": 16, \"Scheduler name\": \"Coalescing\", \"Speedup\": 1.042981252857796, \"combined\": \"Coalescing 100000\"}, {\"Duration in ms\": 111.43, \"Number of bytes\": 1000000, \"Number of engines\": 16, \"Scheduler name\": \"Coalescing\", \"Speedup\": 0.8393610338328995, \"combined\": \"Coalescing 1000000\"}, {\"Duration in ms\": 208.08, \"Number of bytes\": 2000000, \"Number of engines\": 16, \"Scheduler name\": \"Coalescing\", \"Speedup\": 0.8745674740484428, \"combined\": \"Coalescing 2000000\"}, {\"Duration in ms\": 17.37, \"Number of bytes\": 1000, \"Number of engines\": 64, \"Scheduler name\": \"Coalescing\", \"Speedup\": 2.473229706390328, \"combined\": \"Coalescing 1000\"}, {\"Duration in ms\": 21.28, \"Number of bytes\": 10000, \"Number of engines\": 64, \"Scheduler name\": \"Coalescing\", \"Speedup\": 2.0681390977443606, \"combined\": \"Coalescing 10000\"}, {\"Duration in ms\": 34.39, \"Number of bytes\": 100000, \"Number of engines\": 64, \"Scheduler name\": \"Coalescing\", \"Speedup\": 1.6022099447513811, \"combined\": \"Coalescing 100000\"}, {\"Duration in ms\": 205.81, \"Number of bytes\": 1000000, \"Number of engines\": 64, \"Scheduler name\": \"Coalescing\", \"Speedup\": 0.918419901851222, \"combined\": \"Coalescing 1000000\"}, {\"Duration in ms\": 410.5, \"Number of bytes\": 2000000, \"Number of engines\": 64, \"Scheduler name\": \"Coalescing\", \"Speedup\": 0.7672838002436054, \"combined\": \"Coalescing 2000000\"}, {\"Duration in ms\": 25.94, \"Number of bytes\": 1000, \"Number of engines\": 128, \"Scheduler name\": \"Coalescing\", \"Speedup\": 3.328450269853508, \"combined\": \"Coalescing 1000\"}, {\"Duration in ms\": 32.94, \"Number of bytes\": 10000, \"Number of engines\": 128, \"Scheduler name\": \"Coalescing\", \"Speedup\": 2.5734669095324834, \"combined\": \"Coalescing 10000\"}, {\"Duration in ms\": 55.92, \"Number of bytes\": 100000, \"Number of engines\": 128, \"Scheduler name\": \"Coalescing\", \"Speedup\": 1.7909513590844064, \"combined\": \"Coalescing 100000\"}, {\"Duration in ms\": 266.17, \"Number of bytes\": 1000000, \"Number of engines\": 128, \"Scheduler name\": \"Coalescing\", \"Speedup\": 1.0129616410564677, \"combined\": \"Coalescing 1000000\"}, {\"Duration in ms\": 606.74, \"Number of bytes\": 2000000, \"Number of engines\": 128, \"Scheduler name\": \"Coalescing\", \"Speedup\": 0.8418432936677983, \"combined\": \"Coalescing 2000000\"}, {\"Duration in ms\": 44.39, \"Number of bytes\": 1000, \"Number of engines\": 256, \"Scheduler name\": \"Coalescing\", \"Speedup\": 3.822031989186754, \"combined\": \"Coalescing 1000\"}, {\"Duration in ms\": 58.25, \"Number of bytes\": 10000, \"Number of engines\": 256, \"Scheduler name\": \"Coalescing\", \"Speedup\": 2.910557939914163, \"combined\": \"Coalescing 10000\"}, {\"Duration in ms\": 91.83, \"Number of bytes\": 100000, \"Number of engines\": 256, \"Scheduler name\": \"Coalescing\", \"Speedup\": 2.1789175650658827, \"combined\": \"Coalescing 100000\"}, {\"Duration in ms\": 430.56, \"Number of bytes\": 1000000, \"Number of engines\": 256, \"Scheduler name\": \"Coalescing\", \"Speedup\": 1.0389028242289111, \"combined\": \"Coalescing 1000000\"}, {\"Duration in ms\": 1091.45, \"Number of bytes\": 2000000, \"Number of engines\": 256, \"Scheduler name\": \"Coalescing\", \"Speedup\": 0.8402675340143845, \"combined\": \"Coalescing 2000000\"}, {\"Duration in ms\": 84.11, \"Number of bytes\": 1000, \"Number of engines\": 512, \"Scheduler name\": \"Coalescing\", \"Speedup\": 4.010700273451432, \"combined\": \"Coalescing 1000\"}, {\"Duration in ms\": 110.52, \"Number of bytes\": 10000, \"Number of engines\": 512, \"Scheduler name\": \"Coalescing\", \"Speedup\": 2.982446615997105, \"combined\": \"Coalescing 10000\"}, {\"Duration in ms\": 173.32, \"Number of bytes\": 100000, \"Number of engines\": 512, \"Scheduler name\": \"Coalescing\", \"Speedup\": 2.2921186245095777, \"combined\": \"Coalescing 100000\"}, {\"Duration in ms\": 884.62, \"Number of bytes\": 1000000, \"Number of engines\": 512, \"Scheduler name\": \"Coalescing\", \"Speedup\": 0.9198299834957383, \"combined\": \"Coalescing 1000000\"}, {\"Duration in ms\": 2253.55, \"Number of bytes\": 2000000, \"Number of engines\": 512, \"Scheduler name\": \"Coalescing\", \"Speedup\": 0.7057220829358124, \"combined\": \"Coalescing 2000000\"}, {\"Duration in ms\": 176.21, \"Number of bytes\": 1000, \"Number of engines\": 1024, \"Scheduler name\": \"Coalescing\", \"Speedup\": 3.8431984563872654, \"combined\": \"Coalescing 1000\"}, {\"Duration in ms\": 221.57, \"Number of bytes\": 10000, \"Number of engines\": 1024, \"Scheduler name\": \"Coalescing\", \"Speedup\": 2.983300988400957, \"combined\": \"Coalescing 10000\"}, {\"Duration in ms\": 354.27, \"Number of bytes\": 100000, \"Number of engines\": 1024, \"Scheduler name\": \"Coalescing\", \"Speedup\": 2.146300843989048, \"combined\": \"Coalescing 100000\"}, {\"Duration in ms\": 1699.83, \"Number of bytes\": 1000000, \"Number of engines\": 1024, \"Scheduler name\": \"Coalescing\", \"Speedup\": 1.1644105587029292, \"combined\": \"Coalescing 1000000\"}, {\"Duration in ms\": 4317.67, \"Number of bytes\": 2000000, \"Number of engines\": 1024, \"Scheduler name\": \"Coalescing\", \"Speedup\": 0.9130016884106474, \"combined\": \"Coalescing 2000000\"}]}}, {\"renderer\": \"svg\", \"mode\": \"vega-lite\"});\n",
       "</script>"
      ],
      "text/plain": [
       "alt.Chart(...)"
      ]
     },
     "metadata": {},
     "output_type": "display_data"
    }
   ],
   "source": [
    "data['combined'] = data['Scheduler name'] + ' ' + data['Number of bytes'].astype(str)\n",
    "alt.Chart(data[data['Scheduler name'] != 'DirectView']).mark_line(point=True).encode(\n",
    "    alt.X('Number of engines', scale=alt.Scale(type='log')),\n",
    "    alt.Y(\n",
    "        'Speedup',\n",
    "    ),\n",
    "    color='Number of bytes:N',\n",
    "    strokeDash=alt.StrokeDash(shorthand='Scheduler name', legend=None),\n",
    "    tooltip='combined',\n",
    ").properties(\n",
    "    title='schedulers vs directView scaling engines', width=800\n",
    ").interactive().display(renderer='svg')"
   ]
  },
  {
   "cell_type": "code",
   "execution_count": 18,
   "metadata": {},
   "outputs": [
    {
     "data": {
      "text/html": [
       "<div>\n",
       "<style scoped>\n",
       "    .dataframe tbody tr th:only-of-type {\n",
       "        vertical-align: middle;\n",
       "    }\n",
       "\n",
       "    .dataframe tbody tr th {\n",
       "        vertical-align: top;\n",
       "    }\n",
       "\n",
       "    .dataframe thead th {\n",
       "        text-align: right;\n",
       "    }\n",
       "</style>\n",
       "<table border=\"1\" class=\"dataframe\">\n",
       "  <thead>\n",
       "    <tr style=\"text-align: right;\">\n",
       "      <th></th>\n",
       "      <th>Duration in ms</th>\n",
       "      <th>Number of bytes</th>\n",
       "      <th>Number of engines</th>\n",
       "      <th>Scheduler name</th>\n",
       "      <th>Speedup</th>\n",
       "    </tr>\n",
       "  </thead>\n",
       "  <tbody>\n",
       "    <tr>\n",
       "      <td>35</td>\n",
       "      <td>617.38</td>\n",
       "      <td>1000</td>\n",
       "      <td>1024</td>\n",
       "      <td>NonCoalescing</td>\n",
       "      <td>1.096910</td>\n",
       "    </tr>\n",
       "    <tr>\n",
       "      <td>36</td>\n",
       "      <td>619.59</td>\n",
       "      <td>10000</td>\n",
       "      <td>1024</td>\n",
       "      <td>NonCoalescing</td>\n",
       "      <td>1.066851</td>\n",
       "    </tr>\n",
       "    <tr>\n",
       "      <td>37</td>\n",
       "      <td>652.45</td>\n",
       "      <td>100000</td>\n",
       "      <td>1024</td>\n",
       "      <td>NonCoalescing</td>\n",
       "      <td>1.165407</td>\n",
       "    </tr>\n",
       "    <tr>\n",
       "      <td>38</td>\n",
       "      <td>1132.67</td>\n",
       "      <td>1000000</td>\n",
       "      <td>1024</td>\n",
       "      <td>NonCoalescing</td>\n",
       "      <td>1.747464</td>\n",
       "    </tr>\n",
       "    <tr>\n",
       "      <td>39</td>\n",
       "      <td>4143.30</td>\n",
       "      <td>2000000</td>\n",
       "      <td>1024</td>\n",
       "      <td>NonCoalescing</td>\n",
       "      <td>0.951425</td>\n",
       "    </tr>\n",
       "    <tr>\n",
       "      <td>35</td>\n",
       "      <td>176.21</td>\n",
       "      <td>1000</td>\n",
       "      <td>1024</td>\n",
       "      <td>Coalescing</td>\n",
       "      <td>3.843198</td>\n",
       "    </tr>\n",
       "    <tr>\n",
       "      <td>36</td>\n",
       "      <td>221.57</td>\n",
       "      <td>10000</td>\n",
       "      <td>1024</td>\n",
       "      <td>Coalescing</td>\n",
       "      <td>2.983301</td>\n",
       "    </tr>\n",
       "    <tr>\n",
       "      <td>37</td>\n",
       "      <td>354.27</td>\n",
       "      <td>100000</td>\n",
       "      <td>1024</td>\n",
       "      <td>Coalescing</td>\n",
       "      <td>2.146301</td>\n",
       "    </tr>\n",
       "    <tr>\n",
       "      <td>38</td>\n",
       "      <td>1699.83</td>\n",
       "      <td>1000000</td>\n",
       "      <td>1024</td>\n",
       "      <td>Coalescing</td>\n",
       "      <td>1.164411</td>\n",
       "    </tr>\n",
       "    <tr>\n",
       "      <td>39</td>\n",
       "      <td>4317.67</td>\n",
       "      <td>2000000</td>\n",
       "      <td>1024</td>\n",
       "      <td>Coalescing</td>\n",
       "      <td>0.913002</td>\n",
       "    </tr>\n",
       "    <tr>\n",
       "      <td>35</td>\n",
       "      <td>677.21</td>\n",
       "      <td>1000</td>\n",
       "      <td>1024</td>\n",
       "      <td>DirectView</td>\n",
       "      <td>1.000000</td>\n",
       "    </tr>\n",
       "    <tr>\n",
       "      <td>36</td>\n",
       "      <td>661.01</td>\n",
       "      <td>10000</td>\n",
       "      <td>1024</td>\n",
       "      <td>DirectView</td>\n",
       "      <td>1.000000</td>\n",
       "    </tr>\n",
       "    <tr>\n",
       "      <td>37</td>\n",
       "      <td>760.37</td>\n",
       "      <td>100000</td>\n",
       "      <td>1024</td>\n",
       "      <td>DirectView</td>\n",
       "      <td>1.000000</td>\n",
       "    </tr>\n",
       "    <tr>\n",
       "      <td>38</td>\n",
       "      <td>1979.30</td>\n",
       "      <td>1000000</td>\n",
       "      <td>1024</td>\n",
       "      <td>DirectView</td>\n",
       "      <td>1.000000</td>\n",
       "    </tr>\n",
       "    <tr>\n",
       "      <td>39</td>\n",
       "      <td>3942.04</td>\n",
       "      <td>2000000</td>\n",
       "      <td>1024</td>\n",
       "      <td>DirectView</td>\n",
       "      <td>1.000000</td>\n",
       "    </tr>\n",
       "  </tbody>\n",
       "</table>\n",
       "</div>"
      ],
      "text/plain": [
       "    Duration in ms  Number of bytes  Number of engines Scheduler name  \\\n",
       "35          617.38             1000               1024  NonCoalescing   \n",
       "36          619.59            10000               1024  NonCoalescing   \n",
       "37          652.45           100000               1024  NonCoalescing   \n",
       "38         1132.67          1000000               1024  NonCoalescing   \n",
       "39         4143.30          2000000               1024  NonCoalescing   \n",
       "35          176.21             1000               1024     Coalescing   \n",
       "36          221.57            10000               1024     Coalescing   \n",
       "37          354.27           100000               1024     Coalescing   \n",
       "38         1699.83          1000000               1024     Coalescing   \n",
       "39         4317.67          2000000               1024     Coalescing   \n",
       "35          677.21             1000               1024     DirectView   \n",
       "36          661.01            10000               1024     DirectView   \n",
       "37          760.37           100000               1024     DirectView   \n",
       "38         1979.30          1000000               1024     DirectView   \n",
       "39         3942.04          2000000               1024     DirectView   \n",
       "\n",
       "     Speedup  \n",
       "35  1.096910  \n",
       "36  1.066851  \n",
       "37  1.165407  \n",
       "38  1.747464  \n",
       "39  0.951425  \n",
       "35  3.843198  \n",
       "36  2.983301  \n",
       "37  2.146301  \n",
       "38  1.164411  \n",
       "39  0.913002  \n",
       "35  1.000000  \n",
       "36  1.000000  \n",
       "37  1.000000  \n",
       "38  1.000000  \n",
       "39  1.000000  "
      ]
     },
     "execution_count": 18,
     "metadata": {},
     "output_type": "execute_result"
    }
   ],
   "source": [
    "lol = data[data['Number of engines'] == 1024]\n",
    "lol"
   ]
  },
  {
   "cell_type": "code",
   "execution_count": null,
   "metadata": {},
   "outputs": [],
   "source": []
  },
  {
   "cell_type": "raw",
   "metadata": {},
   "source": [
    "for engine in data['Number of engines'].unique():    \n",
    "    alt.Chart(data[data['Number of engines'] == engine]).mark_bar().encode(\n",
    "        x='Scheduler name',\n",
    "        y='Duration in ms',\n",
    "        color='Scheduler name:N',\n",
    "        column='Number of bytes:N',    \n",
    "        tooltip='Duration in ms'\n",
    "    ).properties(title=f'Runtime on {engine} engines:').interactive().display(renderer='svg')"
   ]
  },
  {
   "cell_type": "code",
   "execution_count": null,
   "metadata": {},
   "outputs": [],
   "source": []
  },
  {
   "cell_type": "code",
   "execution_count": null,
   "metadata": {},
   "outputs": [],
   "source": []
  }
 ],
 "metadata": {
  "kernelspec": {
   "display_name": "Python 3",
   "language": "python",
   "name": "python3"
  },
  "language_info": {
   "codemirror_mode": {
    "name": "ipython",
    "version": 3
   },
   "file_extension": ".py",
   "mimetype": "text/x-python",
   "name": "python",
   "nbconvert_exporter": "python",
   "pygments_lexer": "ipython3",
   "version": "3.7.4"
  }
 },
 "nbformat": 4,
 "nbformat_minor": 4
}
